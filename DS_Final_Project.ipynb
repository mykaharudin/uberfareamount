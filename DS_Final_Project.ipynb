{
  "cells": [
    {
      "cell_type": "markdown",
      "id": "a3fa80fd",
      "metadata": {
        "id": "a3fa80fd",
        "papermill": {
          "duration": 0.035322,
          "end_time": "2024-07-26T10:55:46.329261",
          "exception": false,
          "start_time": "2024-07-26T10:55:46.293939",
          "status": "completed"
        },
        "tags": []
      },
      "source": [
        "# DS - Final Project\n",
        "## Uber Fares Dataset (*Dataset Tarif Uber*)\n",
        "\n",
        "**Project Overview** <br>\n",
        "The Uber Taxi Fares project aims to analyze, explore, clean, and structure the data, and then fit a linear model to understand the relationship between features for better business insights.\n",
        "\n",
        "**(Uber Taxi Fares project bertujuan untuk menganalisis, mengeksplorasi, membersihkan, dan mengatur data, serta menerapkan model linier untuk memahami hubungan antar fitur guna mendapatkan wawasan bisnis yang lebih mendalam).**\n",
        "\n",
        "**Dataset Overview** <br>\n",
        "The dataset contains 200,000 samples, each with 7 characteristics. All of them have a data type of float except the `pickup_datetime` and `id`, which are of type int.\n",
        "\n",
        "**(Dataset ini terdiri dari 200.000 sampel, masing-masing memiliki 7 karakteristik. Seluruh karakteristik memiliki tipe data float, kecuali 'pickup_datetime' dan 'id' yang bertipe int.)**\n",
        "\n",
        "**Preparing Data for EDA** <br>\n",
        "We dropped 1 duplicate column, removed a sample because of missing values, and created the `distance_km` column as it was not provided.\n",
        "\n",
        "**(Kami menghapus 1 kolom duplikat, menghapus satu sampel karena adanya nilai yang hilang, dan menambahkan kolom distance_km karena kolom tersebut tidak disediakan).**\n",
        "\n",
        "**Exploratory Data Analysis Findings** <br>\n",
        "We created different visualizations to understand data distribution and characteristics. Some of the findings are:\n",
        "* The majority of trips have a distance of less than 5 km.\n",
        "* The fare amount for most trips is between 0 to 20 dollars.\n",
        "* In the majority of trips, the number of passengers was between 1-6.\n",
        "* Analysis of trips and revenue per month shows that summer months have fewer trips compared to the whole year.\n",
        "* The number of trips per day is high on Monday and low on Saturday and Sunday.\n",
        "* Analyzing the revenue per day shows that Monday has the lowest revenue compared to Friday.\n",
        "* The mean fare amount with respect to the number of passengers shows no relationship, so we conducted a hypothesis test, which revealed a relationship.\n",
        "\n",
        "**Kami membuat berbagai visualisasi untuk memahami distribusi dan karakteristik data. Beberapa temuan yang kami dapatkan adalah:**\n",
        "* Mayoritas perjalanan memiliki jarak kurang dari 5 km.\n",
        "* Jumlah tarif untuk sebagian besar perjalanan berada antara 0 hingga 20 dolar.\n",
        "* Pada sebagian besar perjalanan, jumlah penumpang berkisar antara 1-6 orang.\n",
        "* Analisis perjalanan dan pendapatan bulanan menunjukkan bahwa bulan-bulan musim panas memiliki jumlah perjalanan yang lebih sedikit dibandingkan dengan bulan-bulan lainnya sepanjang tahun.\n",
        "* Jumlah perjalanan per hari tinggi pada hari Senin dan rendah pada hari Sabtu dan Minggu.\n",
        "* Analisis pendapatan harian menunjukkan bahwa pendapatan pada hari Senin lebih rendah dibandingkan dengan hari Jumat.\n",
        "* Rata-rata jumlah tarif terkait dengan jumlah penumpang tidak menunjukkan adanya hubungan, sehingga kami melakukan uji hipotesis yang menggunakan adanya hubungan.\n",
        "\n",
        "\n",
        "**Linear Regression Model** <br>\n",
        "To fit the linear regression model, we first removed outliers and engineered some features.\n",
        "\n",
        "**(Untuk memasang model regresi linier, pertama-tama kami menghapus outlier dan membuat beberapa fitur baru).**\n",
        "\n",
        "**Outliers** <br>\n",
        "We removed outliers from the `fare_amount`, `distance_km`, and `passenger_count` columns.\n",
        "\n",
        "**(Kami menghapus outlier dari kolom 'fare_amount', 'distance_km', dan 'passenger_count'.)**\n",
        "\n",
        "**Feature Engineering** <br>\n",
        "* Created `day` and `month` columns from the `pickup_datetime` column.\n",
        "* Created a `rush_hour` column indicating 1 for trips between 6 am-10 am and 4 pm-8 pm.\n",
        "* Scaled all the variables.\n",
        "\n",
        "* Membuat kolom 'day' dan 'month' dari kolom 'pickup_datetime'.\n",
        "* Membuat kolom rush_hour yang menunjukkan nilai 1 untuk perjalanan antara pukul 6-10 am pagi dan 4-8 pm.\n",
        "* Menyesuaikan skala semua variabel\n",
        "\n",
        "**Fitting the LR Model** <br>\n",
        "Before fitting the model, we dropped `latitude`, `longitude`, `pickup_datetime`, `day`, and `month` and used only `passenger_count`, `distance_km`, and `rush_hour`.\n",
        "* After finding the optimal hyperparameters using the grid search method, the model achieved an R² score of 0.61, indicating it explains 61% of the variance in the data.\n",
        "* Analyzing the coefficients, we concluded:\n",
        "\n",
        "  *For every 1.42 km traveled, the fare increases by a mean of 2.95 dollars or for every 1 km traveled, the fare increases by a mean of 2.08 dollars.*\n",
        "\n",
        "**Sebelum menerapkan model, kami menghapus kolom 'latitude', 'longitude', 'pickup_datetime', 'day', dan 'month', kami hanya menggunakan kolom 'passenger_count', 'distance_km', dan 'rush_hour'.**\n",
        "* Setelah menemukan hyperparameter optimal menggunakan metode pencarian grid, model mencapai skor R² sebesar 0,61, yang menunjukkan bahwa model dapat menjelaskan 61% dari variasi data.\n",
        "* Dari analisis koefisien, kami menyimpulkan:\n",
        "  * Untuk setiap 1,42 km perjalanan, tarif meningkat rata-rata sebesar 2,95 dolar, atau untuk setiap 1 km perjalanan, tarif meningkat rata-rata sebesar 2,08 dolar.\n",
        "\n",
        "**Predictive Model** <br>\n",
        "After fitting the LR model, we fitted other models to find a predictor for real-time prediction. We engineered additional columns like `daytime`, `nighttime`, `am_rush`, `pm_rush`, etc.\n",
        "* Applied Random Forest and XGBoost to the data and found that XGBoost outperforms the others with a variance of 0.62, which will be used for prediction purposes.\n",
        "\n",
        "**Setelah menerapkan model regresi linier, kami mencoba model-model lain untuk menemukan prediktor bagi prediksi real-time. Kami membuat kolom tambahan seperti 'daytime', 'nighttime', 'am_rush', 'pm_rush', dan sebagainya.**\n",
        "* Kami menerapkan Random Forest dan XGBoost pada data, dan menemukan bahwa XGBoost memiliki kinerja terbaik dibandingkan yang lain dengan varian sebesar 0,62, yang akan digunakan untuk tujuan prediksi.\n",
        "\n",
        "**Libraries Used** <br>\n",
        "numpy, pandas, matplotlib, seaborn, scipy, sklearn, xgboost\n"
      ]
    },
    {
      "cell_type": "code",
      "execution_count": 111,
      "id": "27acb533",
      "metadata": {
        "_cell_guid": "b1076dfc-b9ad-4769-8c92-a6c4dae69d19",
        "_uuid": "8f2839f25d086af736a60e9eeb907d3b93b6e0e5",
        "execution": {
          "iopub.execute_input": "2024-07-26T10:55:46.397160Z",
          "iopub.status.busy": "2024-07-26T10:55:46.396768Z",
          "iopub.status.idle": "2024-07-26T10:55:48.775972Z",
          "shell.execute_reply": "2024-07-26T10:55:48.774768Z"
        },
        "id": "27acb533",
        "papermill": {
          "duration": 2.416264,
          "end_time": "2024-07-26T10:55:48.778458",
          "exception": false,
          "start_time": "2024-07-26T10:55:46.362194",
          "status": "completed"
        },
        "tags": []
      },
      "outputs": [],
      "source": [
        "import numpy as np\n",
        "import pandas as pd\n",
        "import matplotlib.pyplot as plt\n",
        "import seaborn as sns\n",
        "import datetime as dt\n",
        "\n",
        "import os"
      ]
    },
    {
      "cell_type": "markdown",
      "id": "da4e47ea",
      "metadata": {
        "id": "da4e47ea",
        "papermill": {
          "duration": 0.03247,
          "end_time": "2024-07-26T10:55:48.845386",
          "exception": false,
          "start_time": "2024-07-26T10:55:48.812916",
          "status": "completed"
        },
        "tags": []
      },
      "source": [
        "# Data Ingestion and analysis"
      ]
    },
    {
      "cell_type": "code",
      "execution_count": 112,
      "id": "9aea5de4",
      "metadata": {
        "execution": {
          "iopub.execute_input": "2024-07-26T10:55:48.912091Z",
          "iopub.status.busy": "2024-07-26T10:55:48.911554Z",
          "iopub.status.idle": "2024-07-26T10:55:49.812906Z",
          "shell.execute_reply": "2024-07-26T10:55:49.811852Z"
        },
        "id": "9aea5de4",
        "papermill": {
          "duration": 0.938028,
          "end_time": "2024-07-26T10:55:49.815625",
          "exception": false,
          "start_time": "2024-07-26T10:55:48.877597",
          "status": "completed"
        },
        "tags": []
      },
      "outputs": [],
      "source": [
        "df = pd.read_csv('data/uber.csv')"
      ]
    },
    {
      "cell_type": "markdown",
      "id": "ec6306a9",
      "metadata": {
        "id": "ec6306a9",
        "papermill": {
          "duration": 0.033102,
          "end_time": "2024-07-26T10:55:49.883550",
          "exception": false,
          "start_time": "2024-07-26T10:55:49.850448",
          "status": "completed"
        },
        "tags": []
      },
      "source": [
        "**Data Inspection** <br>\n",
        "\n",
        "Pertama-tama, kami memeriksa data, termasuk beberapa sampel data, tipe data, penggantian nama kolom, dan identifikasi nilai yang hilang."
      ]
    },
    {
      "cell_type": "code",
      "execution_count": 113,
      "id": "dcb1557f",
      "metadata": {
        "colab": {
          "base_uri": "https://localhost:8080/",
          "height": 310
        },
        "execution": {
          "iopub.execute_input": "2024-07-26T10:55:49.952244Z",
          "iopub.status.busy": "2024-07-26T10:55:49.951876Z",
          "iopub.status.idle": "2024-07-26T10:55:49.979587Z",
          "shell.execute_reply": "2024-07-26T10:55:49.978416Z"
        },
        "id": "dcb1557f",
        "outputId": "27e80260-2bb2-45eb-ec67-012967b9c6e2",
        "papermill": {
          "duration": 0.064788,
          "end_time": "2024-07-26T10:55:49.982026",
          "exception": false,
          "start_time": "2024-07-26T10:55:49.917238",
          "status": "completed"
        },
        "tags": []
      },
      "outputs": [
        {
          "data": {
            "text/html": [
              "<div>\n",
              "<style scoped>\n",
              "    .dataframe tbody tr th:only-of-type {\n",
              "        vertical-align: middle;\n",
              "    }\n",
              "\n",
              "    .dataframe tbody tr th {\n",
              "        vertical-align: top;\n",
              "    }\n",
              "\n",
              "    .dataframe thead th {\n",
              "        text-align: right;\n",
              "    }\n",
              "</style>\n",
              "<table border=\"1\" class=\"dataframe\">\n",
              "  <thead>\n",
              "    <tr style=\"text-align: right;\">\n",
              "      <th></th>\n",
              "      <th>Unnamed: 0</th>\n",
              "      <th>key</th>\n",
              "      <th>fare_amount</th>\n",
              "      <th>pickup_datetime</th>\n",
              "      <th>pickup_longitude</th>\n",
              "      <th>pickup_latitude</th>\n",
              "      <th>dropoff_longitude</th>\n",
              "      <th>dropoff_latitude</th>\n",
              "      <th>passenger_count</th>\n",
              "    </tr>\n",
              "  </thead>\n",
              "  <tbody>\n",
              "    <tr>\n",
              "      <th>0</th>\n",
              "      <td>24238194</td>\n",
              "      <td>2015-05-07 19:52:06.0000003</td>\n",
              "      <td>7.5</td>\n",
              "      <td>2015-05-07 19:52:06 UTC</td>\n",
              "      <td>-73.999817</td>\n",
              "      <td>40.738354</td>\n",
              "      <td>-73.999512</td>\n",
              "      <td>40.723217</td>\n",
              "      <td>1</td>\n",
              "    </tr>\n",
              "    <tr>\n",
              "      <th>1</th>\n",
              "      <td>27835199</td>\n",
              "      <td>2009-07-17 20:04:56.0000002</td>\n",
              "      <td>7.7</td>\n",
              "      <td>2009-07-17 20:04:56 UTC</td>\n",
              "      <td>-73.994355</td>\n",
              "      <td>40.728225</td>\n",
              "      <td>-73.994710</td>\n",
              "      <td>40.750325</td>\n",
              "      <td>1</td>\n",
              "    </tr>\n",
              "    <tr>\n",
              "      <th>2</th>\n",
              "      <td>44984355</td>\n",
              "      <td>2009-08-24 21:45:00.00000061</td>\n",
              "      <td>12.9</td>\n",
              "      <td>2009-08-24 21:45:00 UTC</td>\n",
              "      <td>-74.005043</td>\n",
              "      <td>40.740770</td>\n",
              "      <td>-73.962565</td>\n",
              "      <td>40.772647</td>\n",
              "      <td>1</td>\n",
              "    </tr>\n",
              "    <tr>\n",
              "      <th>3</th>\n",
              "      <td>25894730</td>\n",
              "      <td>2009-06-26 08:22:21.0000001</td>\n",
              "      <td>5.3</td>\n",
              "      <td>2009-06-26 08:22:21 UTC</td>\n",
              "      <td>-73.976124</td>\n",
              "      <td>40.790844</td>\n",
              "      <td>-73.965316</td>\n",
              "      <td>40.803349</td>\n",
              "      <td>3</td>\n",
              "    </tr>\n",
              "    <tr>\n",
              "      <th>4</th>\n",
              "      <td>17610152</td>\n",
              "      <td>2014-08-28 17:47:00.000000188</td>\n",
              "      <td>16.0</td>\n",
              "      <td>2014-08-28 17:47:00 UTC</td>\n",
              "      <td>-73.925023</td>\n",
              "      <td>40.744085</td>\n",
              "      <td>-73.973082</td>\n",
              "      <td>40.761247</td>\n",
              "      <td>5</td>\n",
              "    </tr>\n",
              "  </tbody>\n",
              "</table>\n",
              "</div>"
            ],
            "text/plain": [
              "   Unnamed: 0                            key  fare_amount  \\\n",
              "0    24238194    2015-05-07 19:52:06.0000003          7.5   \n",
              "1    27835199    2009-07-17 20:04:56.0000002          7.7   \n",
              "2    44984355   2009-08-24 21:45:00.00000061         12.9   \n",
              "3    25894730    2009-06-26 08:22:21.0000001          5.3   \n",
              "4    17610152  2014-08-28 17:47:00.000000188         16.0   \n",
              "\n",
              "           pickup_datetime  pickup_longitude  pickup_latitude  \\\n",
              "0  2015-05-07 19:52:06 UTC        -73.999817        40.738354   \n",
              "1  2009-07-17 20:04:56 UTC        -73.994355        40.728225   \n",
              "2  2009-08-24 21:45:00 UTC        -74.005043        40.740770   \n",
              "3  2009-06-26 08:22:21 UTC        -73.976124        40.790844   \n",
              "4  2014-08-28 17:47:00 UTC        -73.925023        40.744085   \n",
              "\n",
              "   dropoff_longitude  dropoff_latitude  passenger_count  \n",
              "0         -73.999512         40.723217                1  \n",
              "1         -73.994710         40.750325                1  \n",
              "2         -73.962565         40.772647                1  \n",
              "3         -73.965316         40.803349                3  \n",
              "4         -73.973082         40.761247                5  "
            ]
          },
          "execution_count": 113,
          "metadata": {},
          "output_type": "execute_result"
        }
      ],
      "source": [
        "df.head()"
      ]
    },
    {
      "cell_type": "markdown",
      "id": "670c66cb",
      "metadata": {
        "id": "670c66cb",
        "papermill": {
          "duration": 0.092499,
          "end_time": "2024-07-26T10:55:50.107098",
          "exception": false,
          "start_time": "2024-07-26T10:55:50.014599",
          "status": "completed"
        },
        "tags": []
      },
      "source": [
        "## Columns renaming and droping"
      ]
    },
    {
      "cell_type": "markdown",
      "id": "1a3cf5b0",
      "metadata": {
        "id": "1a3cf5b0",
        "papermill": {
          "duration": 0.033775,
          "end_time": "2024-07-26T10:55:50.174191",
          "exception": false,
          "start_time": "2024-07-26T10:55:50.140416",
          "status": "completed"
        },
        "tags": []
      },
      "source": [
        "Mengganti nama kolom \"Unnamed\" menjadi \"Id\" dan hapus kolom \"key\" karena kolom tersebut merupakan duplikat dari \"pickup_datetime."
      ]
    },
    {
      "cell_type": "code",
      "execution_count": 114,
      "id": "40fa00f5",
      "metadata": {
        "execution": {
          "iopub.execute_input": "2024-07-26T10:55:50.264147Z",
          "iopub.status.busy": "2024-07-26T10:55:50.263742Z",
          "iopub.status.idle": "2024-07-26T10:55:50.292951Z",
          "shell.execute_reply": "2024-07-26T10:55:50.291863Z"
        },
        "id": "40fa00f5",
        "papermill": {
          "duration": 0.078647,
          "end_time": "2024-07-26T10:55:50.295914",
          "exception": false,
          "start_time": "2024-07-26T10:55:50.217267",
          "status": "completed"
        },
        "tags": []
      },
      "outputs": [],
      "source": [
        "df = df.rename(columns={\"Unnamed: 0\": \"Id\"})\n",
        "df = df.drop(columns = ['key'])"
      ]
    },
    {
      "cell_type": "code",
      "execution_count": 115,
      "id": "c7ee902f",
      "metadata": {
        "colab": {
          "base_uri": "https://localhost:8080/",
          "height": 206
        },
        "execution": {
          "iopub.execute_input": "2024-07-26T10:55:50.371926Z",
          "iopub.status.busy": "2024-07-26T10:55:50.371533Z",
          "iopub.status.idle": "2024-07-26T10:55:50.390436Z",
          "shell.execute_reply": "2024-07-26T10:55:50.389409Z"
        },
        "id": "c7ee902f",
        "outputId": "6b4b63cc-c3df-4095-9ed8-7e5ac4ab8f0a",
        "papermill": {
          "duration": 0.065179,
          "end_time": "2024-07-26T10:55:50.394016",
          "exception": false,
          "start_time": "2024-07-26T10:55:50.328837",
          "status": "completed"
        },
        "tags": []
      },
      "outputs": [
        {
          "data": {
            "text/html": [
              "<div>\n",
              "<style scoped>\n",
              "    .dataframe tbody tr th:only-of-type {\n",
              "        vertical-align: middle;\n",
              "    }\n",
              "\n",
              "    .dataframe tbody tr th {\n",
              "        vertical-align: top;\n",
              "    }\n",
              "\n",
              "    .dataframe thead th {\n",
              "        text-align: right;\n",
              "    }\n",
              "</style>\n",
              "<table border=\"1\" class=\"dataframe\">\n",
              "  <thead>\n",
              "    <tr style=\"text-align: right;\">\n",
              "      <th></th>\n",
              "      <th>Id</th>\n",
              "      <th>fare_amount</th>\n",
              "      <th>pickup_datetime</th>\n",
              "      <th>pickup_longitude</th>\n",
              "      <th>pickup_latitude</th>\n",
              "      <th>dropoff_longitude</th>\n",
              "      <th>dropoff_latitude</th>\n",
              "      <th>passenger_count</th>\n",
              "    </tr>\n",
              "  </thead>\n",
              "  <tbody>\n",
              "    <tr>\n",
              "      <th>0</th>\n",
              "      <td>24238194</td>\n",
              "      <td>7.5</td>\n",
              "      <td>2015-05-07 19:52:06 UTC</td>\n",
              "      <td>-73.999817</td>\n",
              "      <td>40.738354</td>\n",
              "      <td>-73.999512</td>\n",
              "      <td>40.723217</td>\n",
              "      <td>1</td>\n",
              "    </tr>\n",
              "    <tr>\n",
              "      <th>1</th>\n",
              "      <td>27835199</td>\n",
              "      <td>7.7</td>\n",
              "      <td>2009-07-17 20:04:56 UTC</td>\n",
              "      <td>-73.994355</td>\n",
              "      <td>40.728225</td>\n",
              "      <td>-73.994710</td>\n",
              "      <td>40.750325</td>\n",
              "      <td>1</td>\n",
              "    </tr>\n",
              "    <tr>\n",
              "      <th>2</th>\n",
              "      <td>44984355</td>\n",
              "      <td>12.9</td>\n",
              "      <td>2009-08-24 21:45:00 UTC</td>\n",
              "      <td>-74.005043</td>\n",
              "      <td>40.740770</td>\n",
              "      <td>-73.962565</td>\n",
              "      <td>40.772647</td>\n",
              "      <td>1</td>\n",
              "    </tr>\n",
              "    <tr>\n",
              "      <th>3</th>\n",
              "      <td>25894730</td>\n",
              "      <td>5.3</td>\n",
              "      <td>2009-06-26 08:22:21 UTC</td>\n",
              "      <td>-73.976124</td>\n",
              "      <td>40.790844</td>\n",
              "      <td>-73.965316</td>\n",
              "      <td>40.803349</td>\n",
              "      <td>3</td>\n",
              "    </tr>\n",
              "    <tr>\n",
              "      <th>4</th>\n",
              "      <td>17610152</td>\n",
              "      <td>16.0</td>\n",
              "      <td>2014-08-28 17:47:00 UTC</td>\n",
              "      <td>-73.925023</td>\n",
              "      <td>40.744085</td>\n",
              "      <td>-73.973082</td>\n",
              "      <td>40.761247</td>\n",
              "      <td>5</td>\n",
              "    </tr>\n",
              "  </tbody>\n",
              "</table>\n",
              "</div>"
            ],
            "text/plain": [
              "         Id  fare_amount          pickup_datetime  pickup_longitude  \\\n",
              "0  24238194          7.5  2015-05-07 19:52:06 UTC        -73.999817   \n",
              "1  27835199          7.7  2009-07-17 20:04:56 UTC        -73.994355   \n",
              "2  44984355         12.9  2009-08-24 21:45:00 UTC        -74.005043   \n",
              "3  25894730          5.3  2009-06-26 08:22:21 UTC        -73.976124   \n",
              "4  17610152         16.0  2014-08-28 17:47:00 UTC        -73.925023   \n",
              "\n",
              "   pickup_latitude  dropoff_longitude  dropoff_latitude  passenger_count  \n",
              "0        40.738354         -73.999512         40.723217                1  \n",
              "1        40.728225         -73.994710         40.750325                1  \n",
              "2        40.740770         -73.962565         40.772647                1  \n",
              "3        40.790844         -73.965316         40.803349                3  \n",
              "4        40.744085         -73.973082         40.761247                5  "
            ]
          },
          "execution_count": 115,
          "metadata": {},
          "output_type": "execute_result"
        }
      ],
      "source": [
        "df.head()"
      ]
    },
    {
      "cell_type": "code",
      "execution_count": 116,
      "id": "b56bd6e2",
      "metadata": {
        "colab": {
          "base_uri": "https://localhost:8080/"
        },
        "execution": {
          "iopub.execute_input": "2024-07-26T10:55:50.492342Z",
          "iopub.status.busy": "2024-07-26T10:55:50.491455Z",
          "iopub.status.idle": "2024-07-26T10:55:50.528453Z",
          "shell.execute_reply": "2024-07-26T10:55:50.527080Z"
        },
        "id": "b56bd6e2",
        "outputId": "ccf8a29e-8061-4937-dffb-02ddd00a3dc1",
        "papermill": {
          "duration": 0.082762,
          "end_time": "2024-07-26T10:55:50.531222",
          "exception": false,
          "start_time": "2024-07-26T10:55:50.448460",
          "status": "completed"
        },
        "tags": []
      },
      "outputs": [
        {
          "name": "stdout",
          "output_type": "stream",
          "text": [
            "<class 'pandas.core.frame.DataFrame'>\n",
            "RangeIndex: 200000 entries, 0 to 199999\n",
            "Data columns (total 8 columns):\n",
            " #   Column             Non-Null Count   Dtype  \n",
            "---  ------             --------------   -----  \n",
            " 0   Id                 200000 non-null  int64  \n",
            " 1   fare_amount        200000 non-null  float64\n",
            " 2   pickup_datetime    200000 non-null  object \n",
            " 3   pickup_longitude   200000 non-null  float64\n",
            " 4   pickup_latitude    200000 non-null  float64\n",
            " 5   dropoff_longitude  199999 non-null  float64\n",
            " 6   dropoff_latitude   199999 non-null  float64\n",
            " 7   passenger_count    200000 non-null  int64  \n",
            "dtypes: float64(5), int64(2), object(1)\n",
            "memory usage: 12.2+ MB\n"
          ]
        }
      ],
      "source": [
        "df.info()"
      ]
    },
    {
      "cell_type": "markdown",
      "id": "1c4cc163",
      "metadata": {
        "id": "1c4cc163",
        "papermill": {
          "duration": 0.045322,
          "end_time": "2024-07-26T10:55:50.615722",
          "exception": false,
          "start_time": "2024-07-26T10:55:50.570400",
          "status": "completed"
        },
        "tags": []
      },
      "source": [
        "## Check for missing values"
      ]
    },
    {
      "cell_type": "markdown",
      "id": "2272677a",
      "metadata": {
        "id": "2272677a",
        "papermill": {
          "duration": 0.037391,
          "end_time": "2024-07-26T10:55:50.692872",
          "exception": false,
          "start_time": "2024-07-26T10:55:50.655481",
          "status": "completed"
        },
        "tags": []
      },
      "source": [
        "Karena informasi menunjukkan bahwa kedua kolom tersebut memiliki nilai yang hilang, mari kita cari nilai-nilai yang hilang tersebut."
      ]
    },
    {
      "cell_type": "code",
      "execution_count": 117,
      "id": "3ad985d9",
      "metadata": {
        "colab": {
          "base_uri": "https://localhost:8080/"
        },
        "execution": {
          "iopub.execute_input": "2024-07-26T10:55:50.764114Z",
          "iopub.status.busy": "2024-07-26T10:55:50.763712Z",
          "iopub.status.idle": "2024-07-26T10:55:50.783512Z",
          "shell.execute_reply": "2024-07-26T10:55:50.781754Z"
        },
        "id": "3ad985d9",
        "outputId": "3377c3b7-fb96-43ff-ee8a-0f33ba8f644c",
        "papermill": {
          "duration": 0.057953,
          "end_time": "2024-07-26T10:55:50.786405",
          "exception": false,
          "start_time": "2024-07-26T10:55:50.728452",
          "status": "completed"
        },
        "tags": []
      },
      "outputs": [
        {
          "name": "stdout",
          "output_type": "stream",
          "text": [
            "Id                   0\n",
            "fare_amount          0\n",
            "pickup_datetime      0\n",
            "pickup_longitude     0\n",
            "pickup_latitude      0\n",
            "dropoff_longitude    1\n",
            "dropoff_latitude     1\n",
            "passenger_count      0\n",
            "dtype: int64\n"
          ]
        }
      ],
      "source": [
        "missing_values = df.isnull().sum()\n",
        "print(missing_values)"
      ]
    },
    {
      "cell_type": "markdown",
      "id": "f982c3f6",
      "metadata": {
        "id": "f982c3f6",
        "papermill": {
          "duration": 0.032868,
          "end_time": "2024-07-26T10:55:51.019560",
          "exception": false,
          "start_time": "2024-07-26T10:55:50.986692",
          "status": "completed"
        },
        "tags": []
      },
      "source": [
        "Karena ini hanya satu baris dan \"passenger_count\" juga 0, serta key adalah datetime, ini adalah kesalahan dan akan kami hapus."
      ]
    },
    {
      "cell_type": "code",
      "execution_count": 118,
      "id": "3db1f3a6",
      "metadata": {
        "colab": {
          "base_uri": "https://localhost:8080/"
        },
        "execution": {
          "iopub.execute_input": "2024-07-26T10:55:51.088352Z",
          "iopub.status.busy": "2024-07-26T10:55:51.087965Z",
          "iopub.status.idle": "2024-07-26T10:55:51.127671Z",
          "shell.execute_reply": "2024-07-26T10:55:51.126242Z"
        },
        "id": "3db1f3a6",
        "outputId": "b9e1d60e-e788-41e7-8903-f1c7b8677bf5",
        "papermill": {
          "duration": 0.076933,
          "end_time": "2024-07-26T10:55:51.130360",
          "exception": false,
          "start_time": "2024-07-26T10:55:51.053427",
          "status": "completed"
        },
        "tags": []
      },
      "outputs": [
        {
          "name": "stdout",
          "output_type": "stream",
          "text": [
            "Id                   0\n",
            "fare_amount          0\n",
            "pickup_datetime      0\n",
            "pickup_longitude     0\n",
            "pickup_latitude      0\n",
            "dropoff_longitude    0\n",
            "dropoff_latitude     0\n",
            "passenger_count      0\n",
            "dtype: int64\n"
          ]
        }
      ],
      "source": [
        "df = df.dropna()\n",
        "\n",
        "# Verify that there are no more missing values (Verifikasi bahwa tidak ada lagi nilai yang hilang)\n",
        "print(df.isnull().sum())"
      ]
    },
    {
      "cell_type": "markdown",
      "id": "ade386a9",
      "metadata": {
        "id": "ade386a9",
        "papermill": {
          "duration": 0.035521,
          "end_time": "2024-07-26T10:55:51.200278",
          "exception": false,
          "start_time": "2024-07-26T10:55:51.164757",
          "status": "completed"
        },
        "tags": []
      },
      "source": [
        "## Data type conversion\n"
      ]
    },
    {
      "cell_type": "markdown",
      "id": "0ccc8395",
      "metadata": {
        "id": "0ccc8395",
        "papermill": {
          "duration": 0.033323,
          "end_time": "2024-07-26T10:55:51.270150",
          "exception": false,
          "start_time": "2024-07-26T10:55:51.236827",
          "status": "completed"
        },
        "tags": []
      },
      "source": [
        "Seperti yang kita lihat bahwa \"pickup_datetime\" adalah tipe object, mari kita konversi menjadi tipe datetime. Pertama, kita akan mengimpor modul datetime."
      ]
    },
    {
      "cell_type": "code",
      "execution_count": 119,
      "id": "b40e309e",
      "metadata": {
        "execution": {
          "iopub.execute_input": "2024-07-26T10:55:51.339492Z",
          "iopub.status.busy": "2024-07-26T10:55:51.339086Z",
          "iopub.status.idle": "2024-07-26T10:55:54.075481Z",
          "shell.execute_reply": "2024-07-26T10:55:54.074340Z"
        },
        "id": "b40e309e",
        "papermill": {
          "duration": 2.774172,
          "end_time": "2024-07-26T10:55:54.077975",
          "exception": false,
          "start_time": "2024-07-26T10:55:51.303803",
          "status": "completed"
        },
        "tags": []
      },
      "outputs": [],
      "source": [
        "df['pickup_datetime'] = pd.to_datetime(df['pickup_datetime'])"
      ]
    },
    {
      "cell_type": "code",
      "execution_count": 120,
      "id": "02b9a0e6",
      "metadata": {
        "colab": {
          "base_uri": "https://localhost:8080/"
        },
        "execution": {
          "iopub.execute_input": "2024-07-26T10:55:54.147604Z",
          "iopub.status.busy": "2024-07-26T10:55:54.147198Z",
          "iopub.status.idle": "2024-07-26T10:55:54.155487Z",
          "shell.execute_reply": "2024-07-26T10:55:54.154359Z"
        },
        "id": "02b9a0e6",
        "outputId": "8a5890f7-3ed3-45e7-c110-943045679a9d",
        "papermill": {
          "duration": 0.04586,
          "end_time": "2024-07-26T10:55:54.157693",
          "exception": false,
          "start_time": "2024-07-26T10:55:54.111833",
          "status": "completed"
        },
        "tags": []
      },
      "outputs": [
        {
          "data": {
            "text/plain": [
              "0   2015-05-07 19:52:06+00:00\n",
              "1   2009-07-17 20:04:56+00:00\n",
              "2   2009-08-24 21:45:00+00:00\n",
              "3   2009-06-26 08:22:21+00:00\n",
              "4   2014-08-28 17:47:00+00:00\n",
              "Name: pickup_datetime, dtype: datetime64[ns, UTC]"
            ]
          },
          "execution_count": 120,
          "metadata": {},
          "output_type": "execute_result"
        }
      ],
      "source": [
        "df['pickup_datetime'].head()"
      ]
    },
    {
      "cell_type": "markdown",
      "id": "1941e0f0",
      "metadata": {
        "id": "1941e0f0",
        "papermill": {
          "duration": 0.033178,
          "end_time": "2024-07-26T10:55:54.225534",
          "exception": false,
          "start_time": "2024-07-26T10:55:54.192356",
          "status": "completed"
        },
        "tags": []
      },
      "source": [
        "### Distance column creation\n",
        "\n",
        "Karena kami memiliki kolom \"latitude\" dan \"longitude\" dan tidak memiliki kolom \"distance\", mari kita buat kolom tersebut menggunakan [metode haversine](https://en.wikipedia.org/wiki/Haversine_formula."
      ]
    },
    {
      "cell_type": "code",
      "execution_count": 121,
      "id": "52e535d4",
      "metadata": {
        "execution": {
          "iopub.execute_input": "2024-07-26T10:55:54.298342Z",
          "iopub.status.busy": "2024-07-26T10:55:54.297973Z",
          "iopub.status.idle": "2024-07-26T10:55:54.341987Z",
          "shell.execute_reply": "2024-07-26T10:55:54.340872Z"
        },
        "id": "52e535d4",
        "papermill": {
          "duration": 0.081547,
          "end_time": "2024-07-26T10:55:54.344675",
          "exception": false,
          "start_time": "2024-07-26T10:55:54.263128",
          "status": "completed"
        },
        "tags": []
      },
      "outputs": [],
      "source": [
        "def haversine(lat1, lon1, lat2, lon2):\n",
        "    R = 6371  # Earth radius in kilometers (radius dalam kilometer)\n",
        "\n",
        "    # Convert degrees to radians (konversi derajat ke radian)\n",
        "    lat1 = np.radians(lat1)\n",
        "    lon1 = np.radians(lon1)\n",
        "    lat2 = np.radians(lat2)\n",
        "    lon2 = np.radians(lon2)\n",
        "\n",
        "    # Haversine formula\n",
        "    dlat = lat2 - lat1\n",
        "    dlon = lon2 - lon1\n",
        "    a = np.sin(dlat / 2)**2 + np.cos(lat1) * np.cos(lat2) * np.sin(dlon / 2)**2\n",
        "    c = 2 * np.arctan2(np.sqrt(a), np.sqrt(1 - a))\n",
        "    distance = R * c\n",
        "\n",
        "    return distance\n",
        "\n",
        "# Apply the function to calculate distance for each row (Terapkan fungsi untuk menghitung jarak untuk setiap baris)\n",
        "df['distance_km'] = haversine(df['pickup_latitude'], df['pickup_longitude'],\n",
        "                              df['dropoff_latitude'], df['dropoff_longitude'])"
      ]
    },
    {
      "cell_type": "code",
      "execution_count": 122,
      "id": "75838f99",
      "metadata": {
        "colab": {
          "base_uri": "https://localhost:8080/",
          "height": 206
        },
        "execution": {
          "iopub.execute_input": "2024-07-26T10:55:54.414397Z",
          "iopub.status.busy": "2024-07-26T10:55:54.414009Z",
          "iopub.status.idle": "2024-07-26T10:55:54.429761Z",
          "shell.execute_reply": "2024-07-26T10:55:54.428529Z"
        },
        "id": "75838f99",
        "outputId": "0d2d8deb-7c5c-4fae-b20f-4df963cbe08a",
        "papermill": {
          "duration": 0.053665,
          "end_time": "2024-07-26T10:55:54.432150",
          "exception": false,
          "start_time": "2024-07-26T10:55:54.378485",
          "status": "completed"
        },
        "tags": []
      },
      "outputs": [
        {
          "data": {
            "text/html": [
              "<div>\n",
              "<style scoped>\n",
              "    .dataframe tbody tr th:only-of-type {\n",
              "        vertical-align: middle;\n",
              "    }\n",
              "\n",
              "    .dataframe tbody tr th {\n",
              "        vertical-align: top;\n",
              "    }\n",
              "\n",
              "    .dataframe thead th {\n",
              "        text-align: right;\n",
              "    }\n",
              "</style>\n",
              "<table border=\"1\" class=\"dataframe\">\n",
              "  <thead>\n",
              "    <tr style=\"text-align: right;\">\n",
              "      <th></th>\n",
              "      <th>Id</th>\n",
              "      <th>fare_amount</th>\n",
              "      <th>pickup_datetime</th>\n",
              "      <th>pickup_longitude</th>\n",
              "      <th>pickup_latitude</th>\n",
              "      <th>dropoff_longitude</th>\n",
              "      <th>dropoff_latitude</th>\n",
              "      <th>passenger_count</th>\n",
              "      <th>distance_km</th>\n",
              "    </tr>\n",
              "  </thead>\n",
              "  <tbody>\n",
              "    <tr>\n",
              "      <th>0</th>\n",
              "      <td>24238194</td>\n",
              "      <td>7.5</td>\n",
              "      <td>2015-05-07 19:52:06+00:00</td>\n",
              "      <td>-73.999817</td>\n",
              "      <td>40.738354</td>\n",
              "      <td>-73.999512</td>\n",
              "      <td>40.723217</td>\n",
              "      <td>1</td>\n",
              "      <td>1.683323</td>\n",
              "    </tr>\n",
              "    <tr>\n",
              "      <th>1</th>\n",
              "      <td>27835199</td>\n",
              "      <td>7.7</td>\n",
              "      <td>2009-07-17 20:04:56+00:00</td>\n",
              "      <td>-73.994355</td>\n",
              "      <td>40.728225</td>\n",
              "      <td>-73.994710</td>\n",
              "      <td>40.750325</td>\n",
              "      <td>1</td>\n",
              "      <td>2.457590</td>\n",
              "    </tr>\n",
              "    <tr>\n",
              "      <th>2</th>\n",
              "      <td>44984355</td>\n",
              "      <td>12.9</td>\n",
              "      <td>2009-08-24 21:45:00+00:00</td>\n",
              "      <td>-74.005043</td>\n",
              "      <td>40.740770</td>\n",
              "      <td>-73.962565</td>\n",
              "      <td>40.772647</td>\n",
              "      <td>1</td>\n",
              "      <td>5.036377</td>\n",
              "    </tr>\n",
              "    <tr>\n",
              "      <th>3</th>\n",
              "      <td>25894730</td>\n",
              "      <td>5.3</td>\n",
              "      <td>2009-06-26 08:22:21+00:00</td>\n",
              "      <td>-73.976124</td>\n",
              "      <td>40.790844</td>\n",
              "      <td>-73.965316</td>\n",
              "      <td>40.803349</td>\n",
              "      <td>3</td>\n",
              "      <td>1.661683</td>\n",
              "    </tr>\n",
              "    <tr>\n",
              "      <th>4</th>\n",
              "      <td>17610152</td>\n",
              "      <td>16.0</td>\n",
              "      <td>2014-08-28 17:47:00+00:00</td>\n",
              "      <td>-73.925023</td>\n",
              "      <td>40.744085</td>\n",
              "      <td>-73.973082</td>\n",
              "      <td>40.761247</td>\n",
              "      <td>5</td>\n",
              "      <td>4.475450</td>\n",
              "    </tr>\n",
              "  </tbody>\n",
              "</table>\n",
              "</div>"
            ],
            "text/plain": [
              "         Id  fare_amount           pickup_datetime  pickup_longitude  \\\n",
              "0  24238194          7.5 2015-05-07 19:52:06+00:00        -73.999817   \n",
              "1  27835199          7.7 2009-07-17 20:04:56+00:00        -73.994355   \n",
              "2  44984355         12.9 2009-08-24 21:45:00+00:00        -74.005043   \n",
              "3  25894730          5.3 2009-06-26 08:22:21+00:00        -73.976124   \n",
              "4  17610152         16.0 2014-08-28 17:47:00+00:00        -73.925023   \n",
              "\n",
              "   pickup_latitude  dropoff_longitude  dropoff_latitude  passenger_count  \\\n",
              "0        40.738354         -73.999512         40.723217                1   \n",
              "1        40.728225         -73.994710         40.750325                1   \n",
              "2        40.740770         -73.962565         40.772647                1   \n",
              "3        40.790844         -73.965316         40.803349                3   \n",
              "4        40.744085         -73.973082         40.761247                5   \n",
              "\n",
              "   distance_km  \n",
              "0     1.683323  \n",
              "1     2.457590  \n",
              "2     5.036377  \n",
              "3     1.661683  \n",
              "4     4.475450  "
            ]
          },
          "execution_count": 122,
          "metadata": {},
          "output_type": "execute_result"
        }
      ],
      "source": [
        "df.head()"
      ]
    },
    {
      "cell_type": "markdown",
      "id": "2339b7b9",
      "metadata": {
        "id": "2339b7b9",
        "papermill": {
          "duration": 0.034432,
          "end_time": "2024-07-26T10:55:54.500527",
          "exception": false,
          "start_time": "2024-07-26T10:55:54.466095",
          "status": "completed"
        },
        "tags": []
      },
      "source": [
        "## Exploratory Data Analysis (EDA): <br>\n",
        "\n",
        "Menelusuri beberapa statistik data."
      ]
    },
    {
      "cell_type": "code",
      "execution_count": 123,
      "id": "1ff6bec6",
      "metadata": {
        "colab": {
          "base_uri": "https://localhost:8080/",
          "height": 300
        },
        "execution": {
          "iopub.execute_input": "2024-07-26T10:55:54.570383Z",
          "iopub.status.busy": "2024-07-26T10:55:54.569597Z",
          "iopub.status.idle": "2024-07-26T10:55:54.674774Z",
          "shell.execute_reply": "2024-07-26T10:55:54.673715Z"
        },
        "id": "1ff6bec6",
        "outputId": "20c0e0ad-b3f4-4374-d33d-f7d06c490ed6",
        "papermill": {
          "duration": 0.142222,
          "end_time": "2024-07-26T10:55:54.677118",
          "exception": false,
          "start_time": "2024-07-26T10:55:54.534896",
          "status": "completed"
        },
        "tags": []
      },
      "outputs": [
        {
          "data": {
            "text/html": [
              "<div>\n",
              "<style scoped>\n",
              "    .dataframe tbody tr th:only-of-type {\n",
              "        vertical-align: middle;\n",
              "    }\n",
              "\n",
              "    .dataframe tbody tr th {\n",
              "        vertical-align: top;\n",
              "    }\n",
              "\n",
              "    .dataframe thead th {\n",
              "        text-align: right;\n",
              "    }\n",
              "</style>\n",
              "<table border=\"1\" class=\"dataframe\">\n",
              "  <thead>\n",
              "    <tr style=\"text-align: right;\">\n",
              "      <th></th>\n",
              "      <th>Id</th>\n",
              "      <th>fare_amount</th>\n",
              "      <th>pickup_longitude</th>\n",
              "      <th>pickup_latitude</th>\n",
              "      <th>dropoff_longitude</th>\n",
              "      <th>dropoff_latitude</th>\n",
              "      <th>passenger_count</th>\n",
              "      <th>distance_km</th>\n",
              "    </tr>\n",
              "  </thead>\n",
              "  <tbody>\n",
              "    <tr>\n",
              "      <th>count</th>\n",
              "      <td>1.999990e+05</td>\n",
              "      <td>199999.000000</td>\n",
              "      <td>199999.000000</td>\n",
              "      <td>199999.000000</td>\n",
              "      <td>199999.000000</td>\n",
              "      <td>199999.000000</td>\n",
              "      <td>199999.000000</td>\n",
              "      <td>199999.000000</td>\n",
              "    </tr>\n",
              "    <tr>\n",
              "      <th>mean</th>\n",
              "      <td>2.771248e+07</td>\n",
              "      <td>11.359892</td>\n",
              "      <td>-72.527631</td>\n",
              "      <td>39.935881</td>\n",
              "      <td>-72.525292</td>\n",
              "      <td>39.923890</td>\n",
              "      <td>1.684543</td>\n",
              "      <td>20.855350</td>\n",
              "    </tr>\n",
              "    <tr>\n",
              "      <th>std</th>\n",
              "      <td>1.601386e+07</td>\n",
              "      <td>9.901760</td>\n",
              "      <td>11.437815</td>\n",
              "      <td>7.720558</td>\n",
              "      <td>13.117408</td>\n",
              "      <td>6.794829</td>\n",
              "      <td>1.385995</td>\n",
              "      <td>382.964642</td>\n",
              "    </tr>\n",
              "    <tr>\n",
              "      <th>min</th>\n",
              "      <td>1.000000e+00</td>\n",
              "      <td>-52.000000</td>\n",
              "      <td>-1340.648410</td>\n",
              "      <td>-74.015515</td>\n",
              "      <td>-3356.666300</td>\n",
              "      <td>-881.985513</td>\n",
              "      <td>0.000000</td>\n",
              "      <td>0.000000</td>\n",
              "    </tr>\n",
              "    <tr>\n",
              "      <th>25%</th>\n",
              "      <td>1.382534e+07</td>\n",
              "      <td>6.000000</td>\n",
              "      <td>-73.992065</td>\n",
              "      <td>40.734796</td>\n",
              "      <td>-73.991407</td>\n",
              "      <td>40.733823</td>\n",
              "      <td>1.000000</td>\n",
              "      <td>1.215222</td>\n",
              "    </tr>\n",
              "    <tr>\n",
              "      <th>50%</th>\n",
              "      <td>2.774524e+07</td>\n",
              "      <td>8.500000</td>\n",
              "      <td>-73.981823</td>\n",
              "      <td>40.752592</td>\n",
              "      <td>-73.980093</td>\n",
              "      <td>40.753042</td>\n",
              "      <td>1.000000</td>\n",
              "      <td>2.120992</td>\n",
              "    </tr>\n",
              "    <tr>\n",
              "      <th>75%</th>\n",
              "      <td>4.155535e+07</td>\n",
              "      <td>12.500000</td>\n",
              "      <td>-73.967154</td>\n",
              "      <td>40.767158</td>\n",
              "      <td>-73.963658</td>\n",
              "      <td>40.768001</td>\n",
              "      <td>2.000000</td>\n",
              "      <td>3.875169</td>\n",
              "    </tr>\n",
              "    <tr>\n",
              "      <th>max</th>\n",
              "      <td>5.542357e+07</td>\n",
              "      <td>499.000000</td>\n",
              "      <td>57.418457</td>\n",
              "      <td>1644.421482</td>\n",
              "      <td>1153.572603</td>\n",
              "      <td>872.697628</td>\n",
              "      <td>208.000000</td>\n",
              "      <td>16409.239135</td>\n",
              "    </tr>\n",
              "  </tbody>\n",
              "</table>\n",
              "</div>"
            ],
            "text/plain": [
              "                 Id    fare_amount  pickup_longitude  pickup_latitude  \\\n",
              "count  1.999990e+05  199999.000000     199999.000000    199999.000000   \n",
              "mean   2.771248e+07      11.359892        -72.527631        39.935881   \n",
              "std    1.601386e+07       9.901760         11.437815         7.720558   \n",
              "min    1.000000e+00     -52.000000      -1340.648410       -74.015515   \n",
              "25%    1.382534e+07       6.000000        -73.992065        40.734796   \n",
              "50%    2.774524e+07       8.500000        -73.981823        40.752592   \n",
              "75%    4.155535e+07      12.500000        -73.967154        40.767158   \n",
              "max    5.542357e+07     499.000000         57.418457      1644.421482   \n",
              "\n",
              "       dropoff_longitude  dropoff_latitude  passenger_count    distance_km  \n",
              "count      199999.000000     199999.000000    199999.000000  199999.000000  \n",
              "mean          -72.525292         39.923890         1.684543      20.855350  \n",
              "std            13.117408          6.794829         1.385995     382.964642  \n",
              "min         -3356.666300       -881.985513         0.000000       0.000000  \n",
              "25%           -73.991407         40.733823         1.000000       1.215222  \n",
              "50%           -73.980093         40.753042         1.000000       2.120992  \n",
              "75%           -73.963658         40.768001         2.000000       3.875169  \n",
              "max          1153.572603        872.697628       208.000000   16409.239135  "
            ]
          },
          "execution_count": 123,
          "metadata": {},
          "output_type": "execute_result"
        }
      ],
      "source": [
        "df.describe()"
      ]
    },
    {
      "cell_type": "markdown",
      "id": "1d831831",
      "metadata": {
        "id": "1d831831",
        "papermill": {
          "duration": 0.034211,
          "end_time": "2024-07-26T10:55:54.745358",
          "exception": false,
          "start_time": "2024-07-26T10:55:54.711147",
          "status": "completed"
        },
        "tags": []
      },
      "source": [
        "Terdapat outlier yang signifikan pada \"fare_amount\", \"pickup_longitude\", \"pickup_latitude\", \"dropoff_longitude\", \"dropoff_latitude\", dan \"penumpang_count\". Misalnya jumlah_tarif minimum adalah -52 (jelas merupakan outlier) dan maks adalah 499 (terlalu tinggi, merupakan outlier)."
      ]
    },
    {
      "cell_type": "code",
      "execution_count": 124,
      "id": "5e5ff367",
      "metadata": {},
      "outputs": [],
      "source": [
        "csv_file_path = 'data/inidf.csv'\n",
        "df.to_csv(csv_file_path, index=False)"
      ]
    },
    {
      "cell_type": "markdown",
      "id": "42133707",
      "metadata": {
        "id": "42133707",
        "papermill": {
          "duration": 0.03352,
          "end_time": "2024-07-26T10:55:54.813587",
          "exception": false,
          "start_time": "2024-07-26T10:55:54.780067",
          "status": "completed"
        },
        "tags": []
      },
      "source": [
        "### Analyzing Data distributions using Visualizations <br>\n",
        "\n",
        "Membuat beberapa box plots dan histogram untuk mencari sebaran data."
      ]
    },
    {
      "cell_type": "markdown",
      "id": "0d03bf33",
      "metadata": {
        "id": "0d03bf33"
      },
      "source": [
        "plt.figure(figsize=(7,2))\n",
        "plt.title('fare amount')\n",
        "sns.boxplot(data=df, x='fare_amount', fliersize=1)"
      ]
    },
    {
      "cell_type": "code",
      "execution_count": 125,
      "id": "9e8c7b92",
      "metadata": {
        "colab": {
          "base_uri": "https://localhost:8080/",
          "height": 333
        },
        "execution": {
          "iopub.execute_input": "2024-07-26T10:55:56.153333Z",
          "iopub.status.busy": "2024-07-26T10:55:56.152911Z",
          "iopub.status.idle": "2024-07-26T10:55:56.688009Z",
          "shell.execute_reply": "2024-07-26T10:55:56.686810Z"
        },
        "id": "9e8c7b92",
        "outputId": "674d1e9c-a2e7-45dc-f827-6cbbfc5f1682",
        "papermill": {
          "duration": 0.57434,
          "end_time": "2024-07-26T10:55:56.690605",
          "exception": false,
          "start_time": "2024-07-26T10:55:56.116265",
          "status": "completed"
        },
        "tags": []
      },
      "outputs": [
        {
          "data": {
            "image/png": "[encoded data removed]",
            "text/plain": [
              "<Figure size 700x300 with 1 Axes>"
            ]
          },
          "metadata": {},
          "output_type": "display_data"
        }
      ],
      "source": [
        "plt.figure(figsize=(7,3))\n",
        "ax = sns.histplot(df['fare_amount'],bins=range(0,100,5))\n",
        "ax.set_xticks(range(0,100,5))\n",
        "ax.set_xticklabels(range(0,100,5))\n",
        "plt.title('histogram jumlah harga');"
      ]
    },
    {
      "cell_type": "markdown",
      "id": "503b09b6",
      "metadata": {
        "id": "503b09b6",
        "papermill": {
          "duration": 0.036403,
          "end_time": "2024-07-26T10:55:56.763288",
          "exception": false,
          "start_time": "2024-07-26T10:55:56.726885",
          "status": "completed"
        },
        "tags": []
      },
      "source": [
        "Jumlah tarifnya miring ke kanan. dan visualisasi menunjukkan bahwa sebagian besar perjalanan memiliki tarif 5-20 dolar."
      ]
    },
    {
      "cell_type": "code",
      "execution_count": 126,
      "id": "4d689e78",
      "metadata": {
        "colab": {
          "base_uri": "https://localhost:8080/",
          "height": 333
        },
        "execution": {
          "iopub.execute_input": "2024-07-26T10:55:57.132777Z",
          "iopub.status.busy": "2024-07-26T10:55:57.132411Z",
          "iopub.status.idle": "2024-07-26T10:55:57.597024Z",
          "shell.execute_reply": "2024-07-26T10:55:57.595791Z"
        },
        "id": "4d689e78",
        "outputId": "2c911e0d-b942-45ad-a064-cb473cbe67c3",
        "papermill": {
          "duration": 0.504594,
          "end_time": "2024-07-26T10:55:57.599548",
          "exception": false,
          "start_time": "2024-07-26T10:55:57.094954",
          "status": "completed"
        },
        "tags": []
      },
      "outputs": [
        {
          "data": {
            "image/png": "[encoded data removed]",
            "text/plain": [
              "<Figure size 700x300 with 1 Axes>"
            ]
          },
          "metadata": {},
          "output_type": "display_data"
        }
      ],
      "source": [
        "plt.figure(figsize=(7,3))\n",
        "ax = sns.histplot(df['passenger_count'],bins=range(0,20,2))\n",
        "ax.set_xticks(range(0,20,2))\n",
        "ax.set_xticklabels(range(0,20,2))\n",
        "plt.title('histogram jumlah penumpang');"
      ]
    },
    {
      "cell_type": "markdown",
      "id": "a6ec8404",
      "metadata": {
        "id": "a6ec8404",
        "papermill": {
          "duration": 0.036523,
          "end_time": "2024-07-26T10:55:57.674481",
          "exception": false,
          "start_time": "2024-07-26T10:55:57.637958",
          "status": "completed"
        },
        "tags": []
      },
      "source": [
        "Jadi 2 penumpang per perjalanan adalah mayoritas dan jumlah penumpang mencapai 8."
      ]
    },
    {
      "cell_type": "markdown",
      "id": "4732ea22",
      "metadata": {
        "id": "4732ea22",
        "papermill": {
          "duration": 0.037952,
          "end_time": "2024-07-26T10:55:57.750682",
          "exception": false,
          "start_time": "2024-07-26T10:55:57.712730",
          "status": "completed"
        },
        "tags": []
      },
      "source": [
        "### Mean fare amount by passenger count\n",
        "\n",
        "Periksa jumlah tarif dengan jumlah penumpang."
      ]
    },
    {
      "cell_type": "code",
      "execution_count": 127,
      "id": "122bec4d",
      "metadata": {
        "colab": {
          "base_uri": "https://localhost:8080/"
        },
        "execution": {
          "iopub.execute_input": "2024-07-26T10:55:57.829136Z",
          "iopub.status.busy": "2024-07-26T10:55:57.828663Z",
          "iopub.status.idle": "2024-07-26T10:55:57.841315Z",
          "shell.execute_reply": "2024-07-26T10:55:57.840042Z"
        },
        "id": "122bec4d",
        "outputId": "312fc9d8-f00c-4009-979d-3e075bd3cd9a",
        "papermill": {
          "duration": 0.054525,
          "end_time": "2024-07-26T10:55:57.843555",
          "exception": false,
          "start_time": "2024-07-26T10:55:57.789030",
          "status": "completed"
        },
        "tags": []
      },
      "outputs": [
        {
          "data": {
            "text/plain": [
              "passenger_count\n",
              "1      138425\n",
              "2       29428\n",
              "5       14009\n",
              "3        8881\n",
              "4        4276\n",
              "6        4271\n",
              "0         708\n",
              "208         1\n",
              "Name: count, dtype: int64"
            ]
          },
          "execution_count": 127,
          "metadata": {},
          "output_type": "execute_result"
        }
      ],
      "source": [
        "df['passenger_count'].value_counts()"
      ]
    },
    {
      "cell_type": "code",
      "execution_count": 128,
      "id": "c4eoHlPCnYm9",
      "metadata": {
        "colab": {
          "base_uri": "https://localhost:8080/",
          "height": 332
        },
        "id": "c4eoHlPCnYm9",
        "outputId": "f7b5b3a1-6d4e-4026-baa6-59b978be3a2a"
      },
      "outputs": [
        {
          "data": {
            "text/html": [
              "<div>\n",
              "<style scoped>\n",
              "    .dataframe tbody tr th:only-of-type {\n",
              "        vertical-align: middle;\n",
              "    }\n",
              "\n",
              "    .dataframe tbody tr th {\n",
              "        vertical-align: top;\n",
              "    }\n",
              "\n",
              "    .dataframe thead th {\n",
              "        text-align: right;\n",
              "    }\n",
              "</style>\n",
              "<table border=\"1\" class=\"dataframe\">\n",
              "  <thead>\n",
              "    <tr style=\"text-align: right;\">\n",
              "      <th></th>\n",
              "      <th>fare_amount</th>\n",
              "    </tr>\n",
              "    <tr>\n",
              "      <th>passenger_count</th>\n",
              "      <th></th>\n",
              "    </tr>\n",
              "  </thead>\n",
              "  <tbody>\n",
              "    <tr>\n",
              "      <th>0</th>\n",
              "      <td>9.439266</td>\n",
              "    </tr>\n",
              "    <tr>\n",
              "      <th>1</th>\n",
              "      <td>11.254158</td>\n",
              "    </tr>\n",
              "    <tr>\n",
              "      <th>2</th>\n",
              "      <td>11.784452</td>\n",
              "    </tr>\n",
              "    <tr>\n",
              "      <th>3</th>\n",
              "      <td>11.486731</td>\n",
              "    </tr>\n",
              "    <tr>\n",
              "      <th>4</th>\n",
              "      <td>11.642472</td>\n",
              "    </tr>\n",
              "    <tr>\n",
              "      <th>5</th>\n",
              "      <td>11.199698</td>\n",
              "    </tr>\n",
              "    <tr>\n",
              "      <th>6</th>\n",
              "      <td>12.158537</td>\n",
              "    </tr>\n",
              "    <tr>\n",
              "      <th>208</th>\n",
              "      <td>11.700000</td>\n",
              "    </tr>\n",
              "  </tbody>\n",
              "</table>\n",
              "</div>"
            ],
            "text/plain": [
              "                 fare_amount\n",
              "passenger_count             \n",
              "0                   9.439266\n",
              "1                  11.254158\n",
              "2                  11.784452\n",
              "3                  11.486731\n",
              "4                  11.642472\n",
              "5                  11.199698\n",
              "6                  12.158537\n",
              "208                11.700000"
            ]
          },
          "execution_count": 128,
          "metadata": {},
          "output_type": "execute_result"
        }
      ],
      "source": [
        "mean_fares_by_passenger_count = df.groupby(['passenger_count']).mean()[['fare_amount']]\n",
        "mean_fares_by_passenger_count"
      ]
    },
    {
      "cell_type": "code",
      "execution_count": 129,
      "id": "c1726e0f",
      "metadata": {
        "colab": {
          "base_uri": "https://localhost:8080/",
          "height": 785
        },
        "execution": {
          "iopub.execute_input": "2024-07-26T10:55:58.026610Z",
          "iopub.status.busy": "2024-07-26T10:55:58.026236Z",
          "iopub.status.idle": "2024-07-26T10:55:58.391230Z",
          "shell.execute_reply": "2024-07-26T10:55:58.390014Z"
        },
        "id": "c1726e0f",
        "outputId": "e9e5540f-d507-497a-eb5b-accc00fc8c68",
        "papermill": {
          "duration": 0.407017,
          "end_time": "2024-07-26T10:55:58.394015",
          "exception": false,
          "start_time": "2024-07-26T10:55:57.986998",
          "status": "completed"
        },
        "tags": []
      },
      "outputs": [
        {
          "name": "stderr",
          "output_type": "stream",
          "text": [
            "/tmp/ipykernel_86076/2126696279.py:5: FutureWarning: \n",
            "\n",
            "Passing `palette` without assigning `hue` is deprecated and will be removed in v0.14.0. Assign the `x` variable to `hue` and set `legend=False` for the same effect.\n",
            "\n",
            "  ax = sns.barplot(x=data.index,\n",
            "/tmp/ipykernel_86076/2126696279.py:5: UserWarning: Numpy array is not a supported type for `palette`. Please convert your palette to a list. This will become an error in v0.14\n",
            "  ax = sns.barplot(x=data.index,\n"
          ]
        },
        {
          "data": {
            "image/png": "[encoded data removed]",
            "text/plain": [
              "<Figure size 1200x700 with 1 Axes>"
            ]
          },
          "metadata": {},
          "output_type": "display_data"
        }
      ],
      "source": [
        "data = mean_fares_by_passenger_count.tail(-1)\n",
        "pal = sns.color_palette(\"Greens_d\", len(data))\n",
        "rank = data['fare_amount'].argsort().argsort()\n",
        "plt.figure(figsize=(12,7))\n",
        "ax = sns.barplot(x=data.index,\n",
        "            y=data['fare_amount'],\n",
        "            palette=np.array(pal[::-1])[rank])\n",
        "ax.axhline(df['fare_amount'].mean(), ls='--', color='red', label='global mean')\n",
        "ax.legend()\n",
        "plt.title('Rata rata jumlah tarif per jumlah penumpang', fontsize=16);"
      ]
    },
    {
      "cell_type": "markdown",
      "id": "1e6c6237",
      "metadata": {
        "id": "1e6c6237",
        "papermill": {
          "duration": 0.037409,
          "end_time": "2024-07-26T10:55:58.470133",
          "exception": false,
          "start_time": "2024-07-26T10:55:58.432724",
          "status": "completed"
        },
        "tags": []
      },
      "source": [
        "## Feature Engineering: Creating month and day columns by datatime\n",
        "\n",
        "Buat kolom bulan dan hari untuk memahami data lebih detail.\n"
      ]
    },
    {
      "cell_type": "code",
      "execution_count": 130,
      "id": "24fb95af",
      "metadata": {
        "execution": {
          "iopub.execute_input": "2024-07-26T10:55:58.548177Z",
          "iopub.status.busy": "2024-07-26T10:55:58.547343Z",
          "iopub.status.idle": "2024-07-26T10:55:58.686217Z",
          "shell.execute_reply": "2024-07-26T10:55:58.685019Z"
        },
        "id": "24fb95af",
        "papermill": {
          "duration": 0.18068,
          "end_time": "2024-07-26T10:55:58.688935",
          "exception": false,
          "start_time": "2024-07-26T10:55:58.508255",
          "status": "completed"
        },
        "tags": []
      },
      "outputs": [],
      "source": [
        "# Membuat kolom bulan\n",
        "df['month'] = df['pickup_datetime'].dt.month_name()\n",
        "# Membuat kolom hari\n",
        "df['day'] = df['pickup_datetime'].dt.day_name()"
      ]
    },
    {
      "cell_type": "markdown",
      "id": "cf9b7977",
      "metadata": {
        "id": "cf9b7977",
        "papermill": {
          "duration": 0.038709,
          "end_time": "2024-07-26T10:55:58.768240",
          "exception": false,
          "start_time": "2024-07-26T10:55:58.729531",
          "status": "completed"
        },
        "tags": []
      },
      "source": [
        "### Monthly rides\n",
        "\n",
        "Menganalisis perjalanan berdasarkan bulan."
      ]
    },
    {
      "cell_type": "markdown",
      "id": "c5dd952c",
      "metadata": {
        "id": "c5dd952c",
        "papermill": {
          "duration": 0.038653,
          "end_time": "2024-07-26T10:55:58.957671",
          "exception": false,
          "start_time": "2024-07-26T10:55:58.919018",
          "status": "completed"
        },
        "tags": []
      },
      "source": [
        "menyusun ulang bulannya."
      ]
    },
    {
      "cell_type": "code",
      "execution_count": 131,
      "id": "b4135113",
      "metadata": {
        "colab": {
          "base_uri": "https://localhost:8080/"
        },
        "execution": {
          "iopub.execute_input": "2024-07-26T10:55:59.039098Z",
          "iopub.status.busy": "2024-07-26T10:55:59.038719Z",
          "iopub.status.idle": "2024-07-26T10:55:59.048883Z",
          "shell.execute_reply": "2024-07-26T10:55:59.047391Z"
        },
        "id": "b4135113",
        "outputId": "1647412f-94ec-48d8-e79f-42cb816f2160",
        "papermill": {
          "duration": 0.054667,
          "end_time": "2024-07-26T10:55:59.051210",
          "exception": false,
          "start_time": "2024-07-26T10:55:58.996543",
          "status": "completed"
        },
        "tags": []
      },
      "outputs": [
        {
          "data": {
            "text/plain": [
              "month\n",
              "January      17668\n",
              "February     16695\n",
              "March        18763\n",
              "April        18606\n",
              "May          18859\n",
              "June         17787\n",
              "July         15094\n",
              "August       14221\n",
              "September    15266\n",
              "October      16212\n",
              "November     15312\n",
              "December     15516\n",
              "Name: count, dtype: int64"
            ]
          },
          "execution_count": 131,
          "metadata": {},
          "output_type": "execute_result"
        }
      ],
      "source": [
        "month_order = ['January', 'February', 'March', 'April', 'May', 'June', 'July',\n",
        "         'August', 'September', 'October', 'November', 'December']\n",
        "\n",
        "monthly_rides = df['month'].value_counts().reindex(index=month_order)\n",
        "monthly_rides"
      ]
    },
    {
      "cell_type": "code",
      "execution_count": 132,
      "id": "c1391f02",
      "metadata": {
        "colab": {
          "base_uri": "https://localhost:8080/",
          "height": 678
        },
        "execution": {
          "iopub.execute_input": "2024-07-26T10:55:59.132043Z",
          "iopub.status.busy": "2024-07-26T10:55:59.131659Z",
          "iopub.status.idle": "2024-07-26T10:55:59.524106Z",
          "shell.execute_reply": "2024-07-26T10:55:59.522843Z"
        },
        "id": "c1391f02",
        "outputId": "5fb449da-394f-40ed-e90f-d817155eade2",
        "papermill": {
          "duration": 0.435036,
          "end_time": "2024-07-26T10:55:59.526747",
          "exception": false,
          "start_time": "2024-07-26T10:55:59.091711",
          "status": "completed"
        },
        "tags": []
      },
      "outputs": [
        {
          "name": "stderr",
          "output_type": "stream",
          "text": [
            "/tmp/ipykernel_86076/1128079627.py:3: UserWarning: set_ticklabels() should only be used with a fixed number of ticks, i.e. after set_ticks() or using a FixedLocator.\n",
            "  ax.set_xticklabels(month_order)\n"
          ]
        },
        {
          "data": {
            "image/png": "[encoded data removed]",
            "text/plain": [
              "<Figure size 1200x700 with 1 Axes>"
            ]
          },
          "metadata": {},
          "output_type": "display_data"
        }
      ],
      "source": [
        "plt.figure(figsize=(12,7))\n",
        "ax = sns.barplot(x=monthly_rides.index, y=monthly_rides)\n",
        "ax.set_xticklabels(month_order)\n",
        "plt.title('Jumlah perjalanan perbulan', fontsize=16);"
      ]
    },
    {
      "cell_type": "markdown",
      "id": "2d6766e3",
      "metadata": {
        "id": "2d6766e3",
        "papermill": {
          "duration": 0.038442,
          "end_time": "2024-07-26T10:55:59.605034",
          "exception": false,
          "start_time": "2024-07-26T10:55:59.566592",
          "status": "completed"
        },
        "tags": []
      },
      "source": [
        "Perjalanan bulanannya konsisten tetapi pada bulan-bulan musim panas seperti di bulan Juli, Agustus, dan September ada beberapa penurunan.\n",
        "\n",
        "\n",
        "\n"
      ]
    },
    {
      "cell_type": "markdown",
      "id": "bf366874",
      "metadata": {
        "id": "bf366874",
        "papermill": {
          "duration": 0.03781,
          "end_time": "2024-07-26T10:55:59.681022",
          "exception": false,
          "start_time": "2024-07-26T10:55:59.643212",
          "status": "completed"
        },
        "tags": []
      },
      "source": [
        "### Rides per day"
      ]
    },
    {
      "cell_type": "code",
      "execution_count": 133,
      "id": "f316174e",
      "metadata": {
        "execution": {
          "iopub.execute_input": "2024-07-26T10:55:59.762138Z",
          "iopub.status.busy": "2024-07-26T10:55:59.761743Z",
          "iopub.status.idle": "2024-07-26T10:55:59.789193Z",
          "shell.execute_reply": "2024-07-26T10:55:59.788042Z"
        },
        "id": "f316174e",
        "papermill": {
          "duration": 0.071068,
          "end_time": "2024-07-26T10:55:59.791522",
          "exception": false,
          "start_time": "2024-07-26T10:55:59.720454",
          "status": "completed"
        },
        "tags": []
      },
      "outputs": [],
      "source": [
        "daily_rides = df['day'].value_counts()"
      ]
    },
    {
      "cell_type": "code",
      "execution_count": 134,
      "id": "438efa5e",
      "metadata": {
        "colab": {
          "base_uri": "https://localhost:8080/"
        },
        "execution": {
          "iopub.execute_input": "2024-07-26T10:55:59.872393Z",
          "iopub.status.busy": "2024-07-26T10:55:59.871990Z",
          "iopub.status.idle": "2024-07-26T10:55:59.881121Z",
          "shell.execute_reply": "2024-07-26T10:55:59.880023Z"
        },
        "id": "438efa5e",
        "outputId": "35ee1a10-4ffd-40de-da09-5b5ee1339f87",
        "papermill": {
          "duration": 0.051974,
          "end_time": "2024-07-26T10:55:59.883517",
          "exception": false,
          "start_time": "2024-07-26T10:55:59.831543",
          "status": "completed"
        },
        "tags": []
      },
      "outputs": [
        {
          "data": {
            "text/plain": [
              "day\n",
              "Monday       25243\n",
              "Tuesday      28126\n",
              "Wednesday    29037\n",
              "Thursday     30021\n",
              "Friday       30880\n",
              "Saturday     30251\n",
              "Sunday       26441\n",
              "Name: count, dtype: int64"
            ]
          },
          "execution_count": 134,
          "metadata": {},
          "output_type": "execute_result"
        }
      ],
      "source": [
        "day_order = [\"Monday\",'Tuesday','Wednesday','Thursday','Friday','Saturday','Sunday']\n",
        "daily_rides.reindex(index=day_order)"
      ]
    },
    {
      "cell_type": "code",
      "execution_count": 135,
      "id": "0b055dbd",
      "metadata": {
        "colab": {
          "base_uri": "https://localhost:8080/",
          "height": 678
        },
        "execution": {
          "iopub.execute_input": "2024-07-26T10:55:59.963850Z",
          "iopub.status.busy": "2024-07-26T10:55:59.963022Z",
          "iopub.status.idle": "2024-07-26T10:56:00.296561Z",
          "shell.execute_reply": "2024-07-26T10:56:00.295412Z"
        },
        "id": "0b055dbd",
        "outputId": "26175995-bdeb-4aec-af17-3cbf8c5b0a29",
        "papermill": {
          "duration": 0.376149,
          "end_time": "2024-07-26T10:56:00.299251",
          "exception": false,
          "start_time": "2024-07-26T10:55:59.923102",
          "status": "completed"
        },
        "tags": []
      },
      "outputs": [
        {
          "name": "stderr",
          "output_type": "stream",
          "text": [
            "/tmp/ipykernel_86076/1021813327.py:3: UserWarning: set_ticklabels() should only be used with a fixed number of ticks, i.e. after set_ticks() or using a FixedLocator.\n",
            "  ax.set_xticklabels(day_order)\n"
          ]
        },
        {
          "data": {
            "image/png": "[encoded data removed]",
            "text/plain": [
              "<Figure size 1200x700 with 1 Axes>"
            ]
          },
          "metadata": {},
          "output_type": "display_data"
        }
      ],
      "source": [
        "plt.figure(figsize=(12,7))\n",
        "ax = sns.barplot(x=daily_rides.index, y=daily_rides)\n",
        "ax.set_xticklabels(day_order)\n",
        "plt.title('Jumlah perjalanan perhari', fontsize=16);"
      ]
    },
    {
      "cell_type": "markdown",
      "id": "dfdc82b8",
      "metadata": {
        "id": "dfdc82b8",
        "papermill": {
          "duration": 0.045466,
          "end_time": "2024-07-26T10:56:00.386252",
          "exception": false,
          "start_time": "2024-07-26T10:56:00.340786",
          "status": "completed"
        },
        "tags": []
      },
      "source": [
        "Jadi, hari Senin memiliki banyak perjalanan yang jelas karena merupakan awal minggu, sedangkan hari Sabtu dan Minggu mengalami penurunan karena hari libur."
      ]
    },
    {
      "cell_type": "markdown",
      "id": "656775a4",
      "metadata": {
        "id": "656775a4",
        "papermill": {
          "duration": 0.038667,
          "end_time": "2024-07-26T10:56:00.480926",
          "exception": false,
          "start_time": "2024-07-26T10:56:00.442259",
          "status": "completed"
        },
        "tags": []
      },
      "source": [
        "### Revenue per day"
      ]
    },
    {
      "cell_type": "code",
      "execution_count": 136,
      "id": "f1a2f9f0",
      "metadata": {
        "execution": {
          "iopub.execute_input": "2024-07-26T10:56:00.563846Z",
          "iopub.status.busy": "2024-07-26T10:56:00.563475Z",
          "iopub.status.idle": "2024-07-26T10:56:00.581245Z",
          "shell.execute_reply": "2024-07-26T10:56:00.580011Z"
        },
        "id": "f1a2f9f0",
        "papermill": {
          "duration": 0.062476,
          "end_time": "2024-07-26T10:56:00.584220",
          "exception": false,
          "start_time": "2024-07-26T10:56:00.521744",
          "status": "completed"
        },
        "tags": []
      },
      "outputs": [],
      "source": [
        "df_without_date = df.drop(columns=['pickup_datetime'])"
      ]
    },
    {
      "cell_type": "code",
      "execution_count": 137,
      "id": "d727ee20",
      "metadata": {
        "execution": {
          "iopub.execute_input": "2024-07-26T10:56:00.666277Z",
          "iopub.status.busy": "2024-07-26T10:56:00.665884Z",
          "iopub.status.idle": "2024-07-26T10:56:01.568280Z",
          "shell.execute_reply": "2024-07-26T10:56:01.567065Z"
        },
        "id": "d727ee20",
        "papermill": {
          "duration": 0.946006,
          "end_time": "2024-07-26T10:56:01.570933",
          "exception": false,
          "start_time": "2024-07-26T10:56:00.624927",
          "status": "completed"
        },
        "tags": []
      },
      "outputs": [],
      "source": [
        "total_amount_per_day = df_without_date.groupby(by='day').sum()[['fare_amount']]\n",
        "total_amount_per_day = total_amount_per_day.reindex(index=day_order)"
      ]
    },
    {
      "cell_type": "code",
      "execution_count": 138,
      "id": "5b183421",
      "metadata": {
        "colab": {
          "base_uri": "https://localhost:8080/",
          "height": 539
        },
        "execution": {
          "iopub.execute_input": "2024-07-26T10:56:01.749303Z",
          "iopub.status.busy": "2024-07-26T10:56:01.748260Z",
          "iopub.status.idle": "2024-07-26T10:56:02.073923Z",
          "shell.execute_reply": "2024-07-26T10:56:02.072849Z"
        },
        "id": "5b183421",
        "outputId": "14c988a8-79b6-4010-ff4a-ea67df8dd056",
        "papermill": {
          "duration": 0.36935,
          "end_time": "2024-07-26T10:56:02.076113",
          "exception": false,
          "start_time": "2024-07-26T10:56:01.706763",
          "status": "completed"
        },
        "tags": []
      },
      "outputs": [
        {
          "name": "stderr",
          "output_type": "stream",
          "text": [
            "/tmp/ipykernel_86076/4135955008.py:3: UserWarning: set_ticklabels() should only be used with a fixed number of ticks, i.e. after set_ticks() or using a FixedLocator.\n",
            "  ax.set_xticklabels(day_order)\n"
          ]
        },
        {
          "data": {
            "text/plain": [
              "Text(0.5, 1.0, 'Pendapatan perhari')"
            ]
          },
          "execution_count": 138,
          "metadata": {},
          "output_type": "execute_result"
        },
        {
          "data": {
            "image/png": "[encoded data removed]",
            "text/plain": [
              "<Figure size 1000x500 with 1 Axes>"
            ]
          },
          "metadata": {},
          "output_type": "display_data"
        }
      ],
      "source": [
        "plt.figure(figsize=(10,5))\n",
        "ax = sns.barplot(x=total_amount_per_day.index,y=total_amount_per_day['fare_amount'])\n",
        "ax.set_xticklabels(day_order)\n",
        "ax.set_ylabel(\"Pendapatan (USD)\")\n",
        "plt.title(\"Pendapatan perhari\")"
      ]
    },
    {
      "cell_type": "markdown",
      "id": "73c2af0c",
      "metadata": {
        "id": "73c2af0c",
        "papermill": {
          "duration": 0.03958,
          "end_time": "2024-07-26T10:56:02.155950",
          "exception": false,
          "start_time": "2024-07-26T10:56:02.116370",
          "status": "completed"
        },
        "tags": []
      },
      "source": [
        "Pendapatan tinggi pada hari Kamis dan Jumat, sementara hari lainnya memiliki pendapatan yang lebih rendah. Selain itu, jumlah perjalanan tinggi pada hari Senin, yang cukup menarik."
      ]
    },
    {
      "cell_type": "markdown",
      "id": "9c643e84",
      "metadata": {
        "id": "9c643e84",
        "papermill": {
          "duration": 0.043227,
          "end_time": "2024-07-26T10:56:02.239455",
          "exception": false,
          "start_time": "2024-07-26T10:56:02.196228",
          "status": "completed"
        },
        "tags": []
      },
      "source": [
        "### Revenue per month"
      ]
    },
    {
      "cell_type": "code",
      "execution_count": 139,
      "id": "042bc10b",
      "metadata": {
        "execution": {
          "iopub.execute_input": "2024-07-26T10:56:02.325045Z",
          "iopub.status.busy": "2024-07-26T10:56:02.324596Z",
          "iopub.status.idle": "2024-07-26T10:56:02.981577Z",
          "shell.execute_reply": "2024-07-26T10:56:02.980204Z"
        },
        "id": "042bc10b",
        "papermill": {
          "duration": 0.702265,
          "end_time": "2024-07-26T10:56:02.984258",
          "exception": false,
          "start_time": "2024-07-26T10:56:02.281993",
          "status": "completed"
        },
        "tags": []
      },
      "outputs": [],
      "source": [
        "total_amount_per_month = df_without_date.groupby(by='month').sum()[['fare_amount']]\n",
        "total_amount_per_month = total_amount_per_month.reindex(index=month_order)"
      ]
    },
    {
      "cell_type": "code",
      "execution_count": 140,
      "id": "a26005fb",
      "metadata": {
        "colab": {
          "base_uri": "https://localhost:8080/",
          "height": 693
        },
        "execution": {
          "iopub.execute_input": "2024-07-26T10:56:03.067931Z",
          "iopub.status.busy": "2024-07-26T10:56:03.067546Z",
          "iopub.status.idle": "2024-07-26T10:56:03.444306Z",
          "shell.execute_reply": "2024-07-26T10:56:03.443047Z"
        },
        "id": "a26005fb",
        "outputId": "3663d256-2ea3-4636-d0ab-ec79b39e6cd9",
        "papermill": {
          "duration": 0.421978,
          "end_time": "2024-07-26T10:56:03.446735",
          "exception": false,
          "start_time": "2024-07-26T10:56:03.024757",
          "status": "completed"
        },
        "tags": []
      },
      "outputs": [
        {
          "name": "stderr",
          "output_type": "stream",
          "text": [
            "/tmp/ipykernel_86076/760518800.py:3: UserWarning: set_ticklabels() should only be used with a fixed number of ticks, i.e. after set_ticks() or using a FixedLocator.\n",
            "  ax.set_xticklabels(month_order)\n"
          ]
        },
        {
          "data": {
            "text/plain": [
              "Text(0.5, 1.0, 'Pendapatan perbulan')"
            ]
          },
          "execution_count": 140,
          "metadata": {},
          "output_type": "execute_result"
        },
        {
          "data": {
            "image/png": "[encoded data removed]",
            "text/plain": [
              "<Figure size 1200x700 with 1 Axes>"
            ]
          },
          "metadata": {},
          "output_type": "display_data"
        }
      ],
      "source": [
        "plt.figure(figsize=(12,7))\n",
        "ax = sns.barplot(x=total_amount_per_month.index,y=total_amount_per_month['fare_amount'])\n",
        "ax.set_xticklabels(month_order)\n",
        "ax.set_ylabel(\"Pendapatan (USD)\")\n",
        "plt.title(\"Pendapatan perbulan\")"
      ]
    },
    {
      "cell_type": "markdown",
      "id": "4a727645",
      "metadata": {
        "id": "4a727645",
        "papermill": {
          "duration": 0.042898,
          "end_time": "2024-07-26T10:56:03.530192",
          "exception": false,
          "start_time": "2024-07-26T10:56:03.487294",
          "status": "completed"
        },
        "tags": []
      },
      "source": [
        "Pendapatan per bulan menunjukkan bahwa bulan-bulan musim panas, yaitu Juli, Agustus, dan September, memiliki pendapatan yang lebih rendah dibandingkan bulan-bulan lainnya, sebagaimana ditunjukkan oleh jumlah perjalanan per bulan."
      ]
    },
    {
      "cell_type": "markdown",
      "id": "a2590913",
      "metadata": {
        "id": "a2590913",
        "papermill": {
          "duration": 0.040168,
          "end_time": "2024-07-26T10:56:03.611460",
          "exception": false,
          "start_time": "2024-07-26T10:56:03.571292",
          "status": "completed"
        },
        "tags": []
      },
      "source": [
        "## hypothesis test for fare amount relationship with passenger count\n",
        "\n",
        "Seperti yang telah kita lihat sebelumnya, rata-rata tarif dengan jumlah penumpang menunjukkan nilai rata-rata yang sama untuk semua. Jadi, mari kita uji apakah ada hubungan di antara keduanya atau tidak."
      ]
    },
    {
      "cell_type": "code",
      "execution_count": 141,
      "id": "5a542a27",
      "metadata": {
        "execution": {
          "iopub.execute_input": "2024-07-26T10:56:03.697349Z",
          "iopub.status.busy": "2024-07-26T10:56:03.696947Z",
          "iopub.status.idle": "2024-07-26T10:56:03.702699Z",
          "shell.execute_reply": "2024-07-26T10:56:03.701443Z"
        },
        "id": "5a542a27",
        "papermill": {
          "duration": 0.051041,
          "end_time": "2024-07-26T10:56:03.705537",
          "exception": false,
          "start_time": "2024-07-26T10:56:03.654496",
          "status": "completed"
        },
        "tags": []
      },
      "outputs": [],
      "source": [
        "from scipy import stats"
      ]
    },
    {
      "cell_type": "code",
      "execution_count": 142,
      "id": "6f032672",
      "metadata": {
        "colab": {
          "base_uri": "https://localhost:8080/",
          "height": 300
        },
        "execution": {
          "iopub.execute_input": "2024-07-26T10:56:03.800986Z",
          "iopub.status.busy": "2024-07-26T10:56:03.800557Z",
          "iopub.status.idle": "2024-07-26T10:56:03.908453Z",
          "shell.execute_reply": "2024-07-26T10:56:03.906730Z"
        },
        "id": "6f032672",
        "outputId": "ca9c182d-d257-4f5b-e055-42feb815beed",
        "papermill": {
          "duration": 0.159572,
          "end_time": "2024-07-26T10:56:03.911518",
          "exception": false,
          "start_time": "2024-07-26T10:56:03.751946",
          "status": "completed"
        },
        "tags": []
      },
      "outputs": [
        {
          "data": {
            "text/html": [
              "<div>\n",
              "<style scoped>\n",
              "    .dataframe tbody tr th:only-of-type {\n",
              "        vertical-align: middle;\n",
              "    }\n",
              "\n",
              "    .dataframe tbody tr th {\n",
              "        vertical-align: top;\n",
              "    }\n",
              "\n",
              "    .dataframe thead th {\n",
              "        text-align: right;\n",
              "    }\n",
              "</style>\n",
              "<table border=\"1\" class=\"dataframe\">\n",
              "  <thead>\n",
              "    <tr style=\"text-align: right;\">\n",
              "      <th></th>\n",
              "      <th>fare_amount</th>\n",
              "      <th>passenger_count</th>\n",
              "    </tr>\n",
              "  </thead>\n",
              "  <tbody>\n",
              "    <tr>\n",
              "      <th>count</th>\n",
              "      <td>199999.000000</td>\n",
              "      <td>199999.000000</td>\n",
              "    </tr>\n",
              "    <tr>\n",
              "      <th>mean</th>\n",
              "      <td>11.359892</td>\n",
              "      <td>1.684543</td>\n",
              "    </tr>\n",
              "    <tr>\n",
              "      <th>std</th>\n",
              "      <td>9.901760</td>\n",
              "      <td>1.385995</td>\n",
              "    </tr>\n",
              "    <tr>\n",
              "      <th>min</th>\n",
              "      <td>-52.000000</td>\n",
              "      <td>0.000000</td>\n",
              "    </tr>\n",
              "    <tr>\n",
              "      <th>25%</th>\n",
              "      <td>6.000000</td>\n",
              "      <td>1.000000</td>\n",
              "    </tr>\n",
              "    <tr>\n",
              "      <th>50%</th>\n",
              "      <td>8.500000</td>\n",
              "      <td>1.000000</td>\n",
              "    </tr>\n",
              "    <tr>\n",
              "      <th>75%</th>\n",
              "      <td>12.500000</td>\n",
              "      <td>2.000000</td>\n",
              "    </tr>\n",
              "    <tr>\n",
              "      <th>max</th>\n",
              "      <td>499.000000</td>\n",
              "      <td>208.000000</td>\n",
              "    </tr>\n",
              "  </tbody>\n",
              "</table>\n",
              "</div>"
            ],
            "text/plain": [
              "         fare_amount  passenger_count\n",
              "count  199999.000000    199999.000000\n",
              "mean       11.359892         1.684543\n",
              "std         9.901760         1.385995\n",
              "min       -52.000000         0.000000\n",
              "25%         6.000000         1.000000\n",
              "50%         8.500000         1.000000\n",
              "75%        12.500000         2.000000\n",
              "max       499.000000       208.000000"
            ]
          },
          "execution_count": 142,
          "metadata": {},
          "output_type": "execute_result"
        }
      ],
      "source": [
        "df.describe()[['fare_amount','passenger_count']]"
      ]
    },
    {
      "cell_type": "code",
      "execution_count": 143,
      "id": "184ea269",
      "metadata": {
        "colab": {
          "base_uri": "https://localhost:8080/",
          "height": 332
        },
        "execution": {
          "iopub.execute_input": "2024-07-26T10:56:04.005135Z",
          "iopub.status.busy": "2024-07-26T10:56:04.004592Z",
          "iopub.status.idle": "2024-07-26T10:56:04.025601Z",
          "shell.execute_reply": "2024-07-26T10:56:04.024264Z"
        },
        "id": "184ea269",
        "outputId": "4a2ee85e-34cd-47f8-dd14-26183f3cb593",
        "papermill": {
          "duration": 0.070983,
          "end_time": "2024-07-26T10:56:04.028270",
          "exception": false,
          "start_time": "2024-07-26T10:56:03.957287",
          "status": "completed"
        },
        "tags": []
      },
      "outputs": [
        {
          "data": {
            "text/html": [
              "<div>\n",
              "<style scoped>\n",
              "    .dataframe tbody tr th:only-of-type {\n",
              "        vertical-align: middle;\n",
              "    }\n",
              "\n",
              "    .dataframe tbody tr th {\n",
              "        vertical-align: top;\n",
              "    }\n",
              "\n",
              "    .dataframe thead th {\n",
              "        text-align: right;\n",
              "    }\n",
              "</style>\n",
              "<table border=\"1\" class=\"dataframe\">\n",
              "  <thead>\n",
              "    <tr style=\"text-align: right;\">\n",
              "      <th></th>\n",
              "      <th>fare_amount</th>\n",
              "    </tr>\n",
              "    <tr>\n",
              "      <th>passenger_count</th>\n",
              "      <th></th>\n",
              "    </tr>\n",
              "  </thead>\n",
              "  <tbody>\n",
              "    <tr>\n",
              "      <th>0</th>\n",
              "      <td>9.439266</td>\n",
              "    </tr>\n",
              "    <tr>\n",
              "      <th>1</th>\n",
              "      <td>11.254158</td>\n",
              "    </tr>\n",
              "    <tr>\n",
              "      <th>2</th>\n",
              "      <td>11.784452</td>\n",
              "    </tr>\n",
              "    <tr>\n",
              "      <th>3</th>\n",
              "      <td>11.486731</td>\n",
              "    </tr>\n",
              "    <tr>\n",
              "      <th>4</th>\n",
              "      <td>11.642472</td>\n",
              "    </tr>\n",
              "    <tr>\n",
              "      <th>5</th>\n",
              "      <td>11.199698</td>\n",
              "    </tr>\n",
              "    <tr>\n",
              "      <th>6</th>\n",
              "      <td>12.158537</td>\n",
              "    </tr>\n",
              "    <tr>\n",
              "      <th>208</th>\n",
              "      <td>11.700000</td>\n",
              "    </tr>\n",
              "  </tbody>\n",
              "</table>\n",
              "</div>"
            ],
            "text/plain": [
              "                 fare_amount\n",
              "passenger_count             \n",
              "0                   9.439266\n",
              "1                  11.254158\n",
              "2                  11.784452\n",
              "3                  11.486731\n",
              "4                  11.642472\n",
              "5                  11.199698\n",
              "6                  12.158537\n",
              "208                11.700000"
            ]
          },
          "execution_count": 143,
          "metadata": {},
          "output_type": "execute_result"
        }
      ],
      "source": [
        "df.groupby('passenger_count')[['fare_amount']].mean()"
      ]
    },
    {
      "cell_type": "markdown",
      "id": "85667f73",
      "metadata": {
        "id": "85667f73",
        "papermill": {
          "duration": 0.044547,
          "end_time": "2024-07-26T10:56:04.117279",
          "exception": false,
          "start_time": "2024-07-26T10:56:04.072732",
          "status": "completed"
        },
        "tags": []
      },
      "source": [
        "Seperti yang kita lihat, nilai jumlah penumpang dan tarif konsisten dan tidak menunjukkan adanya hubungan, tetapi hal ini bisa jadi karena pengambilan sampel secara acak. Untuk menentukan apakah nilai-nilai ini signifikan secara statistik, mari kita lakukan uji hipotesis."
      ]
    },
    {
      "cell_type": "markdown",
      "id": "881d6c7e",
      "metadata": {
        "id": "881d6c7e",
        "papermill": {
          "duration": 0.043025,
          "end_time": "2024-07-26T10:56:04.204820",
          "exception": false,
          "start_time": "2024-07-26T10:56:04.161795",
          "status": "completed"
        },
        "tags": []
      },
      "source": [
        "**Hypothesis** <br>\n",
        "\n",
        "\n",
        "**Null Hypothesis:** Tidak ada perbedaan antara rata-rata tarif berdasarkan jumlah penumpang. <br>\n",
        "**Alternative Hypothesis:** Terdapat perbedaan antara rata-rata tarif berdasarkan jumlah penumpang."
      ]
    },
    {
      "cell_type": "code",
      "execution_count": 144,
      "id": "009090f9",
      "metadata": {
        "execution": {
          "iopub.execute_input": "2024-07-26T10:56:04.301086Z",
          "iopub.status.busy": "2024-07-26T10:56:04.300684Z",
          "iopub.status.idle": "2024-07-26T10:56:04.351378Z",
          "shell.execute_reply": "2024-07-26T10:56:04.349508Z"
        },
        "id": "009090f9",
        "papermill": {
          "duration": 0.10592,
          "end_time": "2024-07-26T10:56:04.355161",
          "exception": false,
          "start_time": "2024-07-26T10:56:04.249241",
          "status": "completed"
        },
        "tags": []
      },
      "outputs": [],
      "source": [
        "one_passenger = df[df['passenger_count'] == 1]['fare_amount']\n",
        "two_passenger = df[df['passenger_count'] == 2]['fare_amount']\n",
        "three_passenger = df[df['passenger_count'] == 3]['fare_amount']\n",
        "four_passenger = df[df['passenger_count'] == 4]['fare_amount']\n",
        "five_passenger = df[df['passenger_count'] == 5]['fare_amount']\n",
        "six_passenger = df[df['passenger_count'] == 6]['fare_amount']"
      ]
    },
    {
      "cell_type": "code",
      "execution_count": 145,
      "id": "ff3e47b6",
      "metadata": {
        "colab": {
          "base_uri": "https://localhost:8080/"
        },
        "execution": {
          "iopub.execute_input": "2024-07-26T10:56:04.441039Z",
          "iopub.status.busy": "2024-07-26T10:56:04.440616Z",
          "iopub.status.idle": "2024-07-26T10:56:04.452742Z",
          "shell.execute_reply": "2024-07-26T10:56:04.450971Z"
        },
        "id": "ff3e47b6",
        "outputId": "47ed55ed-401f-4665-c94c-e603e612a6a8",
        "papermill": {
          "duration": 0.058346,
          "end_time": "2024-07-26T10:56:04.455471",
          "exception": false,
          "start_time": "2024-07-26T10:56:04.397125",
          "status": "completed"
        },
        "tags": []
      },
      "outputs": [
        {
          "name": "stdout",
          "output_type": "stream",
          "text": [
            "F-statistic: 21.20953546719199\n",
            "p-value: 2.838724710616687e-21\n"
          ]
        }
      ],
      "source": [
        "result = stats.f_oneway(one_passenger,two_passenger,three_passenger,four_passenger,five_passenger,six_passenger)\n",
        "print(\"F-statistic:\", result.statistic)\n",
        "print(\"p-value:\", result.pvalue)"
      ]
    },
    {
      "cell_type": "markdown",
      "id": "9c9a5e92",
      "metadata": {
        "id": "9c9a5e92",
        "papermill": {
          "duration": 0.041346,
          "end_time": "2024-07-26T10:56:04.539287",
          "exception": false,
          "start_time": "2024-07-26T10:56:04.497941",
          "status": "completed"
        },
        "tags": []
      },
      "source": [
        "Karena p-value lebih kecil dari tingkat signifikansi 0,05, maka kami menolak  null hypothesis dan menyimpulkan bahwa terdapat perbedaan signifikan dalam rata-rata tarif berdasarkan jumlah penumpang."
      ]
    },
    {
      "cell_type": "markdown",
      "id": "e9e62e69",
      "metadata": {
        "id": "e9e62e69",
        "papermill": {
          "duration": 0.04313,
          "end_time": "2024-07-26T10:56:04.625243",
          "exception": false,
          "start_time": "2024-07-26T10:56:04.582113",
          "status": "completed"
        },
        "tags": []
      },
      "source": [
        "## Linear regression model"
      ]
    },
    {
      "cell_type": "markdown",
      "id": "242ab282",
      "metadata": {
        "id": "242ab282",
        "papermill": {
          "duration": 0.042066,
          "end_time": "2024-07-26T10:56:04.711177",
          "exception": false,
          "start_time": "2024-07-26T10:56:04.669111",
          "status": "completed"
        },
        "tags": []
      },
      "source": [
        "Setelah menghapus nilai yang hilang, selanjutnya analisis duplikat."
      ]
    },
    {
      "cell_type": "code",
      "execution_count": 146,
      "id": "6e303dd6",
      "metadata": {
        "execution": {
          "iopub.execute_input": "2024-07-26T10:56:04.798405Z",
          "iopub.status.busy": "2024-07-26T10:56:04.797954Z",
          "iopub.status.idle": "2024-07-26T10:56:04.841490Z",
          "shell.execute_reply": "2024-07-26T10:56:04.840406Z"
        },
        "id": "6e303dd6",
        "papermill": {
          "duration": 0.089994,
          "end_time": "2024-07-26T10:56:04.844117",
          "exception": false,
          "start_time": "2024-07-26T10:56:04.754123",
          "status": "completed"
        },
        "tags": []
      },
      "outputs": [],
      "source": [
        "df1 = df.copy()"
      ]
    },
    {
      "cell_type": "code",
      "execution_count": 147,
      "id": "3274ab59",
      "metadata": {
        "colab": {
          "base_uri": "https://localhost:8080/",
          "height": 293
        },
        "execution": {
          "iopub.execute_input": "2024-07-26T10:56:04.936662Z",
          "iopub.status.busy": "2024-07-26T10:56:04.936221Z",
          "iopub.status.idle": "2024-07-26T10:56:04.954153Z",
          "shell.execute_reply": "2024-07-26T10:56:04.952884Z"
        },
        "id": "3274ab59",
        "outputId": "ac11a45a-29e9-4bde-e2c5-0780609382b6",
        "papermill": {
          "duration": 0.069523,
          "end_time": "2024-07-26T10:56:04.956815",
          "exception": false,
          "start_time": "2024-07-26T10:56:04.887292",
          "status": "completed"
        },
        "tags": []
      },
      "outputs": [
        {
          "data": {
            "text/html": [
              "<div>\n",
              "<style scoped>\n",
              "    .dataframe tbody tr th:only-of-type {\n",
              "        vertical-align: middle;\n",
              "    }\n",
              "\n",
              "    .dataframe tbody tr th {\n",
              "        vertical-align: top;\n",
              "    }\n",
              "\n",
              "    .dataframe thead th {\n",
              "        text-align: right;\n",
              "    }\n",
              "</style>\n",
              "<table border=\"1\" class=\"dataframe\">\n",
              "  <thead>\n",
              "    <tr style=\"text-align: right;\">\n",
              "      <th></th>\n",
              "      <th>Id</th>\n",
              "      <th>fare_amount</th>\n",
              "      <th>pickup_datetime</th>\n",
              "      <th>pickup_longitude</th>\n",
              "      <th>pickup_latitude</th>\n",
              "      <th>dropoff_longitude</th>\n",
              "      <th>dropoff_latitude</th>\n",
              "      <th>passenger_count</th>\n",
              "      <th>distance_km</th>\n",
              "      <th>month</th>\n",
              "      <th>day</th>\n",
              "    </tr>\n",
              "  </thead>\n",
              "  <tbody>\n",
              "    <tr>\n",
              "      <th>0</th>\n",
              "      <td>24238194</td>\n",
              "      <td>7.5</td>\n",
              "      <td>2015-05-07 19:52:06+00:00</td>\n",
              "      <td>-73.999817</td>\n",
              "      <td>40.738354</td>\n",
              "      <td>-73.999512</td>\n",
              "      <td>40.723217</td>\n",
              "      <td>1</td>\n",
              "      <td>1.683323</td>\n",
              "      <td>May</td>\n",
              "      <td>Thursday</td>\n",
              "    </tr>\n",
              "    <tr>\n",
              "      <th>1</th>\n",
              "      <td>27835199</td>\n",
              "      <td>7.7</td>\n",
              "      <td>2009-07-17 20:04:56+00:00</td>\n",
              "      <td>-73.994355</td>\n",
              "      <td>40.728225</td>\n",
              "      <td>-73.994710</td>\n",
              "      <td>40.750325</td>\n",
              "      <td>1</td>\n",
              "      <td>2.457590</td>\n",
              "      <td>July</td>\n",
              "      <td>Friday</td>\n",
              "    </tr>\n",
              "    <tr>\n",
              "      <th>2</th>\n",
              "      <td>44984355</td>\n",
              "      <td>12.9</td>\n",
              "      <td>2009-08-24 21:45:00+00:00</td>\n",
              "      <td>-74.005043</td>\n",
              "      <td>40.740770</td>\n",
              "      <td>-73.962565</td>\n",
              "      <td>40.772647</td>\n",
              "      <td>1</td>\n",
              "      <td>5.036377</td>\n",
              "      <td>August</td>\n",
              "      <td>Monday</td>\n",
              "    </tr>\n",
              "    <tr>\n",
              "      <th>3</th>\n",
              "      <td>25894730</td>\n",
              "      <td>5.3</td>\n",
              "      <td>2009-06-26 08:22:21+00:00</td>\n",
              "      <td>-73.976124</td>\n",
              "      <td>40.790844</td>\n",
              "      <td>-73.965316</td>\n",
              "      <td>40.803349</td>\n",
              "      <td>3</td>\n",
              "      <td>1.661683</td>\n",
              "      <td>June</td>\n",
              "      <td>Friday</td>\n",
              "    </tr>\n",
              "    <tr>\n",
              "      <th>4</th>\n",
              "      <td>17610152</td>\n",
              "      <td>16.0</td>\n",
              "      <td>2014-08-28 17:47:00+00:00</td>\n",
              "      <td>-73.925023</td>\n",
              "      <td>40.744085</td>\n",
              "      <td>-73.973082</td>\n",
              "      <td>40.761247</td>\n",
              "      <td>5</td>\n",
              "      <td>4.475450</td>\n",
              "      <td>August</td>\n",
              "      <td>Thursday</td>\n",
              "    </tr>\n",
              "  </tbody>\n",
              "</table>\n",
              "</div>"
            ],
            "text/plain": [
              "         Id  fare_amount           pickup_datetime  pickup_longitude  \\\n",
              "0  24238194          7.5 2015-05-07 19:52:06+00:00        -73.999817   \n",
              "1  27835199          7.7 2009-07-17 20:04:56+00:00        -73.994355   \n",
              "2  44984355         12.9 2009-08-24 21:45:00+00:00        -74.005043   \n",
              "3  25894730          5.3 2009-06-26 08:22:21+00:00        -73.976124   \n",
              "4  17610152         16.0 2014-08-28 17:47:00+00:00        -73.925023   \n",
              "\n",
              "   pickup_latitude  dropoff_longitude  dropoff_latitude  passenger_count  \\\n",
              "0        40.738354         -73.999512         40.723217                1   \n",
              "1        40.728225         -73.994710         40.750325                1   \n",
              "2        40.740770         -73.962565         40.772647                1   \n",
              "3        40.790844         -73.965316         40.803349                3   \n",
              "4        40.744085         -73.973082         40.761247                5   \n",
              "\n",
              "   distance_km   month       day  \n",
              "0     1.683323     May  Thursday  \n",
              "1     2.457590    July    Friday  \n",
              "2     5.036377  August    Monday  \n",
              "3     1.661683    June    Friday  \n",
              "4     4.475450  August  Thursday  "
            ]
          },
          "execution_count": 147,
          "metadata": {},
          "output_type": "execute_result"
        }
      ],
      "source": [
        "df1.head()"
      ]
    },
    {
      "cell_type": "code",
      "execution_count": 148,
      "id": "9b992e75",
      "metadata": {
        "colab": {
          "base_uri": "https://localhost:8080/"
        },
        "execution": {
          "iopub.execute_input": "2024-07-26T10:56:05.041427Z",
          "iopub.status.busy": "2024-07-26T10:56:05.041048Z",
          "iopub.status.idle": "2024-07-26T10:56:05.190427Z",
          "shell.execute_reply": "2024-07-26T10:56:05.189212Z"
        },
        "id": "9b992e75",
        "outputId": "dc2944f4-47e5-4feb-fed3-1c24f0a84854",
        "papermill": {
          "duration": 0.194918,
          "end_time": "2024-07-26T10:56:05.192914",
          "exception": false,
          "start_time": "2024-07-26T10:56:04.997996",
          "status": "completed"
        },
        "tags": []
      },
      "outputs": [
        {
          "data": {
            "text/plain": [
              "0"
            ]
          },
          "execution_count": 148,
          "metadata": {},
          "output_type": "execute_result"
        }
      ],
      "source": [
        "df1.duplicated().sum()"
      ]
    },
    {
      "cell_type": "markdown",
      "id": "b5f2297a",
      "metadata": {
        "id": "b5f2297a",
        "papermill": {
          "duration": 0.042469,
          "end_time": "2024-07-26T10:56:05.279690",
          "exception": false,
          "start_time": "2024-07-26T10:56:05.237221",
          "status": "completed"
        },
        "tags": []
      },
      "source": [
        "Jadi, kami tidak memiliki duplikat atau nilai yang hilang. Sekarang, kami akan mencari dan menghapus outlier dari data karena model pembelajaran mesin terpengaruh oleh outlier tersebut."
      ]
    },
    {
      "cell_type": "code",
      "execution_count": 149,
      "id": "28a63e93",
      "metadata": {
        "execution": {
          "iopub.execute_input": "2024-07-26T10:56:05.371230Z",
          "iopub.status.busy": "2024-07-26T10:56:05.370308Z",
          "iopub.status.idle": "2024-07-26T10:56:05.387877Z",
          "shell.execute_reply": "2024-07-26T10:56:05.386759Z"
        },
        "id": "28a63e93",
        "papermill": {
          "duration": 0.064568,
          "end_time": "2024-07-26T10:56:05.390420",
          "exception": false,
          "start_time": "2024-07-26T10:56:05.325852",
          "status": "completed"
        },
        "tags": []
      },
      "outputs": [],
      "source": [
        "df1['pickup_datetime'] = pd.to_datetime(df1['pickup_datetime'],format='%m/%d/%Y %I:%M:%S %p')"
      ]
    },
    {
      "cell_type": "code",
      "execution_count": 150,
      "id": "c28f077d",
      "metadata": {
        "colab": {
          "base_uri": "https://localhost:8080/"
        },
        "execution": {
          "iopub.execute_input": "2024-07-26T10:56:05.477607Z",
          "iopub.status.busy": "2024-07-26T10:56:05.477197Z",
          "iopub.status.idle": "2024-07-26T10:56:05.485460Z",
          "shell.execute_reply": "2024-07-26T10:56:05.484399Z"
        },
        "id": "c28f077d",
        "outputId": "30be2ded-6509-4965-cfcd-161be6a198f6",
        "papermill": {
          "duration": 0.055023,
          "end_time": "2024-07-26T10:56:05.487911",
          "exception": false,
          "start_time": "2024-07-26T10:56:05.432888",
          "status": "completed"
        },
        "tags": []
      },
      "outputs": [
        {
          "data": {
            "text/plain": [
              "0   2015-05-07 19:52:06+00:00\n",
              "1   2009-07-17 20:04:56+00:00\n",
              "2   2009-08-24 21:45:00+00:00\n",
              "3   2009-06-26 08:22:21+00:00\n",
              "4   2014-08-28 17:47:00+00:00\n",
              "Name: pickup_datetime, dtype: datetime64[ns, UTC]"
            ]
          },
          "execution_count": 150,
          "metadata": {},
          "output_type": "execute_result"
        }
      ],
      "source": [
        "df1['pickup_datetime'].head()"
      ]
    },
    {
      "cell_type": "markdown",
      "id": "c906bcda",
      "metadata": {
        "id": "c906bcda",
        "papermill": {
          "duration": 0.043207,
          "end_time": "2024-07-26T10:56:05.574744",
          "exception": false,
          "start_time": "2024-07-26T10:56:05.531537",
          "status": "completed"
        },
        "tags": []
      },
      "source": [
        "Sekarang fitur utama kami adalah jumlah tarif, jarak, dan jumlah penumpang, jadi mari kita lihat outlier di fitur-fitur tersebut."
      ]
    },
    {
      "cell_type": "markdown",
      "id": "9e1d9fd1",
      "metadata": {
        "id": "9e1d9fd1",
        "papermill": {
          "duration": 0.04171,
          "end_time": "2024-07-26T10:56:05.659006",
          "exception": false,
          "start_time": "2024-07-26T10:56:05.617296",
          "status": "completed"
        },
        "tags": []
      },
      "source": [
        "### Removing Outline for LR model"
      ]
    },
    {
      "cell_type": "markdown",
      "id": "80693b9c",
      "metadata": {
        "id": "80693b9c",
        "papermill": {
          "duration": 0.042976,
          "end_time": "2024-07-26T10:56:06.403927",
          "exception": false,
          "start_time": "2024-07-26T10:56:06.360951",
          "status": "completed"
        },
        "tags": []
      },
      "source": [
        "Jadi, \"fare_amount\" dan 'distance' juga memiliki nilai negatif."
      ]
    },
    {
      "cell_type": "code",
      "execution_count": 151,
      "id": "1a32a2e5",
      "metadata": {
        "colab": {
          "base_uri": "https://localhost:8080/"
        },
        "execution": {
          "iopub.execute_input": "2024-07-26T10:56:06.491573Z",
          "iopub.status.busy": "2024-07-26T10:56:06.491168Z",
          "iopub.status.idle": "2024-07-26T10:56:06.516541Z",
          "shell.execute_reply": "2024-07-26T10:56:06.515407Z"
        },
        "id": "1a32a2e5",
        "outputId": "5deb307c-881e-4e45-9a59-cacc427f4a43",
        "papermill": {
          "duration": 0.071505,
          "end_time": "2024-07-26T10:56:06.518899",
          "exception": false,
          "start_time": "2024-07-26T10:56:06.447394",
          "status": "completed"
        },
        "tags": []
      },
      "outputs": [
        {
          "data": {
            "text/plain": [
              "5632"
            ]
          },
          "execution_count": 151,
          "metadata": {},
          "output_type": "execute_result"
        }
      ],
      "source": [
        "sum(df1['distance_km']==0)"
      ]
    },
    {
      "cell_type": "markdown",
      "id": "a9d1cad6",
      "metadata": {
        "id": "a9d1cad6",
        "papermill": {
          "duration": 0.043245,
          "end_time": "2024-07-26T10:56:06.604834",
          "exception": false,
          "start_time": "2024-07-26T10:56:06.561589",
          "status": "completed"
        },
        "tags": []
      },
      "source": [
        "5 ribu perjalanan memiliki jarak 0."
      ]
    },
    {
      "cell_type": "code",
      "execution_count": 152,
      "id": "a3ca7948",
      "metadata": {
        "colab": {
          "base_uri": "https://localhost:8080/"
        },
        "execution": {
          "iopub.execute_input": "2024-07-26T10:56:06.692209Z",
          "iopub.status.busy": "2024-07-26T10:56:06.691820Z",
          "iopub.status.idle": "2024-07-26T10:56:06.711126Z",
          "shell.execute_reply": "2024-07-26T10:56:06.710012Z"
        },
        "id": "a3ca7948",
        "outputId": "5870f96f-44c3-42ac-b55d-c729c5d8c018",
        "papermill": {
          "duration": 0.066246,
          "end_time": "2024-07-26T10:56:06.713540",
          "exception": false,
          "start_time": "2024-07-26T10:56:06.647294",
          "status": "completed"
        },
        "tags": []
      },
      "outputs": [
        {
          "data": {
            "text/plain": [
              "count    199999.000000\n",
              "mean         11.359892\n",
              "std           9.901760\n",
              "min         -52.000000\n",
              "25%           6.000000\n",
              "50%           8.500000\n",
              "75%          12.500000\n",
              "max         499.000000\n",
              "Name: fare_amount, dtype: float64"
            ]
          },
          "execution_count": 152,
          "metadata": {},
          "output_type": "execute_result"
        }
      ],
      "source": [
        "df1['fare_amount'].describe()"
      ]
    },
    {
      "cell_type": "markdown",
      "id": "66f7d137",
      "metadata": {
        "id": "66f7d137",
        "papermill": {
          "duration": 0.046562,
          "end_time": "2024-07-26T10:56:06.803117",
          "exception": false,
          "start_time": "2024-07-26T10:56:06.756555",
          "status": "completed"
        },
        "tags": []
      },
      "source": [
        "Nilai minimum adalah -52, jadi kita bisa mengubahnya menjadi 0, tetapi nilai maksimum adalah 499, yang tidak realistis."
      ]
    },
    {
      "cell_type": "code",
      "execution_count": 153,
      "id": "ee7e7943",
      "metadata": {
        "execution": {
          "iopub.execute_input": "2024-07-26T10:56:06.890812Z",
          "iopub.status.busy": "2024-07-26T10:56:06.890434Z",
          "iopub.status.idle": "2024-07-26T10:56:06.898177Z",
          "shell.execute_reply": "2024-07-26T10:56:06.896878Z"
        },
        "id": "ee7e7943",
        "papermill": {
          "duration": 0.054477,
          "end_time": "2024-07-26T10:56:06.900594",
          "exception": false,
          "start_time": "2024-07-26T10:56:06.846117",
          "status": "completed"
        },
        "tags": []
      },
      "outputs": [],
      "source": [
        "def outlier_imputer(df, column_list, iqr_factor):\n",
        "    df_copy = df.copy()  # Work on a copy of the dataframe (Bekerja pada salinan dataframe)\n",
        "\n",
        "    for col in column_list:\n",
        "        q1 = df_copy[col].quantile(0.25)\n",
        "        q3 = df_copy[col].quantile(0.75)\n",
        "        iqr = q3 - q1\n",
        "        upper_threshold = q3 + (iqr_factor * iqr)\n",
        "        lower_threshold = q1 - (iqr_factor * iqr)\n",
        "\n",
        "        print(col)\n",
        "        print('q3:', q3)\n",
        "        print('upper_threshold:', upper_threshold)\n",
        "\n",
        "        print('q1:', q1)\n",
        "        print('lower_threshold:', lower_threshold)\n",
        "\n",
        "        # Filter out outliers\n",
        "        df_copy = df_copy[(df_copy[col] <= upper_threshold) & (df_copy[col] >= lower_threshold)]\n",
        "        print(df_copy[col].describe())\n",
        "        print()\n",
        "\n",
        "    return df_copy"
      ]
    },
    {
      "cell_type": "code",
      "execution_count": 154,
      "id": "b3c0c0ba",
      "metadata": {
        "colab": {
          "base_uri": "https://localhost:8080/"
        },
        "execution": {
          "iopub.execute_input": "2024-07-26T10:56:06.988472Z",
          "iopub.status.busy": "2024-07-26T10:56:06.988075Z",
          "iopub.status.idle": "2024-07-26T10:56:07.096120Z",
          "shell.execute_reply": "2024-07-26T10:56:07.094872Z"
        },
        "id": "b3c0c0ba",
        "outputId": "273cd7bf-e39d-4910-c464-4f097e303329",
        "papermill": {
          "duration": 0.155163,
          "end_time": "2024-07-26T10:56:07.098816",
          "exception": false,
          "start_time": "2024-07-26T10:56:06.943653",
          "status": "completed"
        },
        "tags": []
      },
      "outputs": [
        {
          "name": "stdout",
          "output_type": "stream",
          "text": [
            "fare_amount\n",
            "q3: 12.5\n",
            "upper_threshold: 22.25\n",
            "q1: 6.0\n",
            "lower_threshold: -3.75\n",
            "count    182833.000000\n",
            "mean          8.940095\n",
            "std           4.143264\n",
            "min          -3.500000\n",
            "25%           5.700000\n",
            "50%           8.000000\n",
            "75%          11.000000\n",
            "max          22.200000\n",
            "Name: fare_amount, dtype: float64\n",
            "\n",
            "distance_km\n",
            "q3: 3.2827774817668756\n",
            "upper_threshold: 6.4631959656428295\n",
            "q1: 1.1624984925162398\n",
            "lower_threshold: -2.0179199913597143\n",
            "count    174540.000000\n",
            "mean          2.218767\n",
            "std           1.454764\n",
            "min           0.000000\n",
            "25%           1.131295\n",
            "50%           1.876565\n",
            "75%           3.030305\n",
            "max           6.463182\n",
            "Name: distance_km, dtype: float64\n",
            "\n",
            "passenger_count\n",
            "q3: 2.0\n",
            "upper_threshold: 3.5\n",
            "q1: 1.0\n",
            "lower_threshold: -0.5\n",
            "count    154869.000000\n",
            "mean          1.259942\n",
            "std           0.548312\n",
            "min           0.000000\n",
            "25%           1.000000\n",
            "50%           1.000000\n",
            "75%           1.000000\n",
            "max           3.000000\n",
            "Name: passenger_count, dtype: float64\n",
            "\n"
          ]
        }
      ],
      "source": [
        "df1 = outlier_imputer(df1, ['fare_amount','distance_km','passenger_count'], 1.5)"
      ]
    },
    {
      "cell_type": "code",
      "execution_count": 155,
      "id": "49202ca8",
      "metadata": {
        "colab": {
          "base_uri": "https://localhost:8080/"
        },
        "execution": {
          "iopub.execute_input": "2024-07-26T10:56:07.186453Z",
          "iopub.status.busy": "2024-07-26T10:56:07.185312Z",
          "iopub.status.idle": "2024-07-26T10:56:07.193019Z",
          "shell.execute_reply": "2024-07-26T10:56:07.191885Z"
        },
        "id": "49202ca8",
        "outputId": "37813d8c-cbdb-46cb-a198-baaab7d93452",
        "papermill": {
          "duration": 0.053816,
          "end_time": "2024-07-26T10:56:07.195344",
          "exception": false,
          "start_time": "2024-07-26T10:56:07.141528",
          "status": "completed"
        },
        "tags": []
      },
      "outputs": [
        {
          "data": {
            "text/plain": [
              "(154869, 11)"
            ]
          },
          "execution_count": 155,
          "metadata": {},
          "output_type": "execute_result"
        }
      ],
      "source": [
        "df1.shape"
      ]
    },
    {
      "cell_type": "markdown",
      "id": "9797c4f2",
      "metadata": {
        "id": "9797c4f2",
        "papermill": {
          "duration": 0.042552,
          "end_time": "2024-07-26T10:56:07.283734",
          "exception": false,
          "start_time": "2024-07-26T10:56:07.241182",
          "status": "completed"
        },
        "tags": []
      },
      "source": [
        "Sekarang kita memiliki kolom tanggal, bulan, dan hari.\n",
        "\n",
        "Mari kita ubah menjadi huruf kecil dan temukan jam sibuk dalam data."
      ]
    },
    {
      "cell_type": "code",
      "execution_count": 156,
      "id": "11b65f52",
      "metadata": {
        "colab": {
          "base_uri": "https://localhost:8080/"
        },
        "execution": {
          "iopub.execute_input": "2024-07-26T10:56:07.378556Z",
          "iopub.status.busy": "2024-07-26T10:56:07.378165Z",
          "iopub.status.idle": "2024-07-26T10:56:07.385349Z",
          "shell.execute_reply": "2024-07-26T10:56:07.384158Z"
        },
        "id": "11b65f52",
        "outputId": "70bcfe9c-18f8-4054-84ab-c22adc9fd6ef",
        "papermill": {
          "duration": 0.055971,
          "end_time": "2024-07-26T10:56:07.387832",
          "exception": false,
          "start_time": "2024-07-26T10:56:07.331861",
          "status": "completed"
        },
        "tags": []
      },
      "outputs": [
        {
          "data": {
            "text/plain": [
              "Index(['Id', 'fare_amount', 'pickup_datetime', 'pickup_longitude',\n",
              "       'pickup_latitude', 'dropoff_longitude', 'dropoff_latitude',\n",
              "       'passenger_count', 'distance_km', 'month', 'day'],\n",
              "      dtype='object')"
            ]
          },
          "execution_count": 156,
          "metadata": {},
          "output_type": "execute_result"
        }
      ],
      "source": [
        "df1.columns"
      ]
    },
    {
      "cell_type": "code",
      "execution_count": 157,
      "id": "28aae6ac",
      "metadata": {
        "execution": {
          "iopub.execute_input": "2024-07-26T10:56:07.477760Z",
          "iopub.status.busy": "2024-07-26T10:56:07.477355Z",
          "iopub.status.idle": "2024-07-26T10:56:08.450491Z",
          "shell.execute_reply": "2024-07-26T10:56:08.449312Z"
        },
        "id": "28aae6ac",
        "papermill": {
          "duration": 1.021341,
          "end_time": "2024-07-26T10:56:08.453125",
          "exception": false,
          "start_time": "2024-07-26T10:56:07.431784",
          "status": "completed"
        },
        "tags": []
      },
      "outputs": [],
      "source": [
        "df1['day'] = df1['day'].str.lower()\n",
        "df1['month'] = df1['pickup_datetime'].dt.strftime('%b').str.lower()"
      ]
    },
    {
      "cell_type": "code",
      "execution_count": 158,
      "id": "4f4bf9ae",
      "metadata": {
        "colab": {
          "base_uri": "https://localhost:8080/",
          "height": 293
        },
        "execution": {
          "iopub.execute_input": "2024-07-26T10:56:08.542085Z",
          "iopub.status.busy": "2024-07-26T10:56:08.541720Z",
          "iopub.status.idle": "2024-07-26T10:56:08.559154Z",
          "shell.execute_reply": "2024-07-26T10:56:08.558033Z"
        },
        "id": "4f4bf9ae",
        "outputId": "b0802ad6-5009-49ff-e578-334b1efc9334",
        "papermill": {
          "duration": 0.065027,
          "end_time": "2024-07-26T10:56:08.561615",
          "exception": false,
          "start_time": "2024-07-26T10:56:08.496588",
          "status": "completed"
        },
        "tags": []
      },
      "outputs": [
        {
          "data": {
            "text/html": [
              "<div>\n",
              "<style scoped>\n",
              "    .dataframe tbody tr th:only-of-type {\n",
              "        vertical-align: middle;\n",
              "    }\n",
              "\n",
              "    .dataframe tbody tr th {\n",
              "        vertical-align: top;\n",
              "    }\n",
              "\n",
              "    .dataframe thead th {\n",
              "        text-align: right;\n",
              "    }\n",
              "</style>\n",
              "<table border=\"1\" class=\"dataframe\">\n",
              "  <thead>\n",
              "    <tr style=\"text-align: right;\">\n",
              "      <th></th>\n",
              "      <th>Id</th>\n",
              "      <th>fare_amount</th>\n",
              "      <th>pickup_datetime</th>\n",
              "      <th>pickup_longitude</th>\n",
              "      <th>pickup_latitude</th>\n",
              "      <th>dropoff_longitude</th>\n",
              "      <th>dropoff_latitude</th>\n",
              "      <th>passenger_count</th>\n",
              "      <th>distance_km</th>\n",
              "      <th>month</th>\n",
              "      <th>day</th>\n",
              "    </tr>\n",
              "  </thead>\n",
              "  <tbody>\n",
              "    <tr>\n",
              "      <th>0</th>\n",
              "      <td>24238194</td>\n",
              "      <td>7.5</td>\n",
              "      <td>2015-05-07 19:52:06+00:00</td>\n",
              "      <td>-73.999817</td>\n",
              "      <td>40.738354</td>\n",
              "      <td>-73.999512</td>\n",
              "      <td>40.723217</td>\n",
              "      <td>1</td>\n",
              "      <td>1.683323</td>\n",
              "      <td>may</td>\n",
              "      <td>thursday</td>\n",
              "    </tr>\n",
              "    <tr>\n",
              "      <th>1</th>\n",
              "      <td>27835199</td>\n",
              "      <td>7.7</td>\n",
              "      <td>2009-07-17 20:04:56+00:00</td>\n",
              "      <td>-73.994355</td>\n",
              "      <td>40.728225</td>\n",
              "      <td>-73.994710</td>\n",
              "      <td>40.750325</td>\n",
              "      <td>1</td>\n",
              "      <td>2.457590</td>\n",
              "      <td>jul</td>\n",
              "      <td>friday</td>\n",
              "    </tr>\n",
              "    <tr>\n",
              "      <th>2</th>\n",
              "      <td>44984355</td>\n",
              "      <td>12.9</td>\n",
              "      <td>2009-08-24 21:45:00+00:00</td>\n",
              "      <td>-74.005043</td>\n",
              "      <td>40.740770</td>\n",
              "      <td>-73.962565</td>\n",
              "      <td>40.772647</td>\n",
              "      <td>1</td>\n",
              "      <td>5.036377</td>\n",
              "      <td>aug</td>\n",
              "      <td>monday</td>\n",
              "    </tr>\n",
              "    <tr>\n",
              "      <th>3</th>\n",
              "      <td>25894730</td>\n",
              "      <td>5.3</td>\n",
              "      <td>2009-06-26 08:22:21+00:00</td>\n",
              "      <td>-73.976124</td>\n",
              "      <td>40.790844</td>\n",
              "      <td>-73.965316</td>\n",
              "      <td>40.803349</td>\n",
              "      <td>3</td>\n",
              "      <td>1.661683</td>\n",
              "      <td>jun</td>\n",
              "      <td>friday</td>\n",
              "    </tr>\n",
              "    <tr>\n",
              "      <th>5</th>\n",
              "      <td>44470845</td>\n",
              "      <td>4.9</td>\n",
              "      <td>2011-02-12 02:27:09+00:00</td>\n",
              "      <td>-73.969019</td>\n",
              "      <td>40.755910</td>\n",
              "      <td>-73.969019</td>\n",
              "      <td>40.755910</td>\n",
              "      <td>1</td>\n",
              "      <td>0.000000</td>\n",
              "      <td>feb</td>\n",
              "      <td>saturday</td>\n",
              "    </tr>\n",
              "  </tbody>\n",
              "</table>\n",
              "</div>"
            ],
            "text/plain": [
              "         Id  fare_amount           pickup_datetime  pickup_longitude  \\\n",
              "0  24238194          7.5 2015-05-07 19:52:06+00:00        -73.999817   \n",
              "1  27835199          7.7 2009-07-17 20:04:56+00:00        -73.994355   \n",
              "2  44984355         12.9 2009-08-24 21:45:00+00:00        -74.005043   \n",
              "3  25894730          5.3 2009-06-26 08:22:21+00:00        -73.976124   \n",
              "5  44470845          4.9 2011-02-12 02:27:09+00:00        -73.969019   \n",
              "\n",
              "   pickup_latitude  dropoff_longitude  dropoff_latitude  passenger_count  \\\n",
              "0        40.738354         -73.999512         40.723217                1   \n",
              "1        40.728225         -73.994710         40.750325                1   \n",
              "2        40.740770         -73.962565         40.772647                1   \n",
              "3        40.790844         -73.965316         40.803349                3   \n",
              "5        40.755910         -73.969019         40.755910                1   \n",
              "\n",
              "   distance_km month       day  \n",
              "0     1.683323   may  thursday  \n",
              "1     2.457590   jul    friday  \n",
              "2     5.036377   aug    monday  \n",
              "3     1.661683   jun    friday  \n",
              "5     0.000000   feb  saturday  "
            ]
          },
          "execution_count": 158,
          "metadata": {},
          "output_type": "execute_result"
        }
      ],
      "source": [
        "df1.head()"
      ]
    },
    {
      "cell_type": "markdown",
      "id": "2bdcddb5",
      "metadata": {
        "id": "2bdcddb5",
        "papermill": {
          "duration": 0.04377,
          "end_time": "2024-07-26T10:56:08.649419",
          "exception": false,
          "start_time": "2024-07-26T10:56:08.605649",
          "status": "completed"
        },
        "tags": []
      },
      "source": [
        "### Feature Engineering: Creating Rush hour column"
      ]
    },
    {
      "cell_type": "code",
      "execution_count": 159,
      "id": "99476de1",
      "metadata": {
        "execution": {
          "iopub.execute_input": "2024-07-26T10:56:08.740151Z",
          "iopub.status.busy": "2024-07-26T10:56:08.739748Z",
          "iopub.status.idle": "2024-07-26T10:56:08.753639Z",
          "shell.execute_reply": "2024-07-26T10:56:08.752227Z"
        },
        "id": "99476de1",
        "papermill": {
          "duration": 0.062632,
          "end_time": "2024-07-26T10:56:08.756215",
          "exception": false,
          "start_time": "2024-07-26T10:56:08.693583",
          "status": "completed"
        },
        "tags": []
      },
      "outputs": [],
      "source": [
        "df1['rush_hour'] = df1['pickup_datetime'].dt.hour"
      ]
    },
    {
      "cell_type": "code",
      "execution_count": 160,
      "id": "7aa9c686",
      "metadata": {
        "colab": {
          "base_uri": "https://localhost:8080/",
          "height": 313
        },
        "execution": {
          "iopub.execute_input": "2024-07-26T10:56:08.848228Z",
          "iopub.status.busy": "2024-07-26T10:56:08.847273Z",
          "iopub.status.idle": "2024-07-26T10:56:08.864641Z",
          "shell.execute_reply": "2024-07-26T10:56:08.863598Z"
        },
        "id": "7aa9c686",
        "outputId": "a44ba3c3-4ce9-43ff-a8f4-7ea66b8b047c",
        "papermill": {
          "duration": 0.06537,
          "end_time": "2024-07-26T10:56:08.866927",
          "exception": false,
          "start_time": "2024-07-26T10:56:08.801557",
          "status": "completed"
        },
        "tags": []
      },
      "outputs": [
        {
          "data": {
            "text/html": [
              "<div>\n",
              "<style scoped>\n",
              "    .dataframe tbody tr th:only-of-type {\n",
              "        vertical-align: middle;\n",
              "    }\n",
              "\n",
              "    .dataframe tbody tr th {\n",
              "        vertical-align: top;\n",
              "    }\n",
              "\n",
              "    .dataframe thead th {\n",
              "        text-align: right;\n",
              "    }\n",
              "</style>\n",
              "<table border=\"1\" class=\"dataframe\">\n",
              "  <thead>\n",
              "    <tr style=\"text-align: right;\">\n",
              "      <th></th>\n",
              "      <th>Id</th>\n",
              "      <th>fare_amount</th>\n",
              "      <th>pickup_datetime</th>\n",
              "      <th>pickup_longitude</th>\n",
              "      <th>pickup_latitude</th>\n",
              "      <th>dropoff_longitude</th>\n",
              "      <th>dropoff_latitude</th>\n",
              "      <th>passenger_count</th>\n",
              "      <th>distance_km</th>\n",
              "      <th>month</th>\n",
              "      <th>day</th>\n",
              "      <th>rush_hour</th>\n",
              "    </tr>\n",
              "  </thead>\n",
              "  <tbody>\n",
              "    <tr>\n",
              "      <th>0</th>\n",
              "      <td>24238194</td>\n",
              "      <td>7.5</td>\n",
              "      <td>2015-05-07 19:52:06+00:00</td>\n",
              "      <td>-73.999817</td>\n",
              "      <td>40.738354</td>\n",
              "      <td>-73.999512</td>\n",
              "      <td>40.723217</td>\n",
              "      <td>1</td>\n",
              "      <td>1.683323</td>\n",
              "      <td>may</td>\n",
              "      <td>thursday</td>\n",
              "      <td>19</td>\n",
              "    </tr>\n",
              "    <tr>\n",
              "      <th>1</th>\n",
              "      <td>27835199</td>\n",
              "      <td>7.7</td>\n",
              "      <td>2009-07-17 20:04:56+00:00</td>\n",
              "      <td>-73.994355</td>\n",
              "      <td>40.728225</td>\n",
              "      <td>-73.994710</td>\n",
              "      <td>40.750325</td>\n",
              "      <td>1</td>\n",
              "      <td>2.457590</td>\n",
              "      <td>jul</td>\n",
              "      <td>friday</td>\n",
              "      <td>20</td>\n",
              "    </tr>\n",
              "    <tr>\n",
              "      <th>2</th>\n",
              "      <td>44984355</td>\n",
              "      <td>12.9</td>\n",
              "      <td>2009-08-24 21:45:00+00:00</td>\n",
              "      <td>-74.005043</td>\n",
              "      <td>40.740770</td>\n",
              "      <td>-73.962565</td>\n",
              "      <td>40.772647</td>\n",
              "      <td>1</td>\n",
              "      <td>5.036377</td>\n",
              "      <td>aug</td>\n",
              "      <td>monday</td>\n",
              "      <td>21</td>\n",
              "    </tr>\n",
              "    <tr>\n",
              "      <th>3</th>\n",
              "      <td>25894730</td>\n",
              "      <td>5.3</td>\n",
              "      <td>2009-06-26 08:22:21+00:00</td>\n",
              "      <td>-73.976124</td>\n",
              "      <td>40.790844</td>\n",
              "      <td>-73.965316</td>\n",
              "      <td>40.803349</td>\n",
              "      <td>3</td>\n",
              "      <td>1.661683</td>\n",
              "      <td>jun</td>\n",
              "      <td>friday</td>\n",
              "      <td>8</td>\n",
              "    </tr>\n",
              "    <tr>\n",
              "      <th>5</th>\n",
              "      <td>44470845</td>\n",
              "      <td>4.9</td>\n",
              "      <td>2011-02-12 02:27:09+00:00</td>\n",
              "      <td>-73.969019</td>\n",
              "      <td>40.755910</td>\n",
              "      <td>-73.969019</td>\n",
              "      <td>40.755910</td>\n",
              "      <td>1</td>\n",
              "      <td>0.000000</td>\n",
              "      <td>feb</td>\n",
              "      <td>saturday</td>\n",
              "      <td>2</td>\n",
              "    </tr>\n",
              "  </tbody>\n",
              "</table>\n",
              "</div>"
            ],
            "text/plain": [
              "         Id  fare_amount           pickup_datetime  pickup_longitude  \\\n",
              "0  24238194          7.5 2015-05-07 19:52:06+00:00        -73.999817   \n",
              "1  27835199          7.7 2009-07-17 20:04:56+00:00        -73.994355   \n",
              "2  44984355         12.9 2009-08-24 21:45:00+00:00        -74.005043   \n",
              "3  25894730          5.3 2009-06-26 08:22:21+00:00        -73.976124   \n",
              "5  44470845          4.9 2011-02-12 02:27:09+00:00        -73.969019   \n",
              "\n",
              "   pickup_latitude  dropoff_longitude  dropoff_latitude  passenger_count  \\\n",
              "0        40.738354         -73.999512         40.723217                1   \n",
              "1        40.728225         -73.994710         40.750325                1   \n",
              "2        40.740770         -73.962565         40.772647                1   \n",
              "3        40.790844         -73.965316         40.803349                3   \n",
              "5        40.755910         -73.969019         40.755910                1   \n",
              "\n",
              "   distance_km month       day  rush_hour  \n",
              "0     1.683323   may  thursday         19  \n",
              "1     2.457590   jul    friday         20  \n",
              "2     5.036377   aug    monday         21  \n",
              "3     1.661683   jun    friday          8  \n",
              "5     0.000000   feb  saturday          2  "
            ]
          },
          "execution_count": 160,
          "metadata": {},
          "output_type": "execute_result"
        }
      ],
      "source": [
        "df1.head()"
      ]
    },
    {
      "cell_type": "code",
      "execution_count": 161,
      "id": "c467b00f",
      "metadata": {
        "execution": {
          "iopub.execute_input": "2024-07-26T10:56:08.957535Z",
          "iopub.status.busy": "2024-07-26T10:56:08.956640Z",
          "iopub.status.idle": "2024-07-26T10:56:08.975588Z",
          "shell.execute_reply": "2024-07-26T10:56:08.974290Z"
        },
        "id": "c467b00f",
        "papermill": {
          "duration": 0.067474,
          "end_time": "2024-07-26T10:56:08.978212",
          "exception": false,
          "start_time": "2024-07-26T10:56:08.910738",
          "status": "completed"
        },
        "tags": []
      },
      "outputs": [],
      "source": [
        "df1.loc[df1['day'].isin(['sunday']), 'rush_hour'] = 1"
      ]
    },
    {
      "cell_type": "code",
      "execution_count": 162,
      "id": "d5c27e68",
      "metadata": {
        "execution": {
          "iopub.execute_input": "2024-07-26T10:56:09.068226Z",
          "iopub.status.busy": "2024-07-26T10:56:09.067848Z",
          "iopub.status.idle": "2024-07-26T10:56:09.073921Z",
          "shell.execute_reply": "2024-07-26T10:56:09.072695Z"
        },
        "id": "d5c27e68",
        "papermill": {
          "duration": 0.053576,
          "end_time": "2024-07-26T10:56:09.076215",
          "exception": false,
          "start_time": "2024-07-26T10:56:09.022639",
          "status": "completed"
        },
        "tags": []
      },
      "outputs": [],
      "source": [
        "def rush_hourizer(hour):\n",
        "    if 6 <= hour['rush_hour'] < 10:\n",
        "        val = 1\n",
        "    elif 16 <= hour['rush_hour'] < 20:\n",
        "        val = 1\n",
        "    else:\n",
        "        val = 0\n",
        "    return val"
      ]
    },
    {
      "cell_type": "code",
      "execution_count": 163,
      "id": "ba596e82",
      "metadata": {
        "colab": {
          "base_uri": "https://localhost:8080/",
          "height": 313
        },
        "execution": {
          "iopub.execute_input": "2024-07-26T10:56:09.165507Z",
          "iopub.status.busy": "2024-07-26T10:56:09.165092Z",
          "iopub.status.idle": "2024-07-26T10:56:11.287566Z",
          "shell.execute_reply": "2024-07-26T10:56:11.286487Z"
        },
        "id": "ba596e82",
        "outputId": "ed984236-c4c7-46c2-da29-ec45ce35908e",
        "papermill": {
          "duration": 2.169675,
          "end_time": "2024-07-26T10:56:11.290237",
          "exception": false,
          "start_time": "2024-07-26T10:56:09.120562",
          "status": "completed"
        },
        "tags": []
      },
      "outputs": [
        {
          "data": {
            "text/html": [
              "<div>\n",
              "<style scoped>\n",
              "    .dataframe tbody tr th:only-of-type {\n",
              "        vertical-align: middle;\n",
              "    }\n",
              "\n",
              "    .dataframe tbody tr th {\n",
              "        vertical-align: top;\n",
              "    }\n",
              "\n",
              "    .dataframe thead th {\n",
              "        text-align: right;\n",
              "    }\n",
              "</style>\n",
              "<table border=\"1\" class=\"dataframe\">\n",
              "  <thead>\n",
              "    <tr style=\"text-align: right;\">\n",
              "      <th></th>\n",
              "      <th>Id</th>\n",
              "      <th>fare_amount</th>\n",
              "      <th>pickup_datetime</th>\n",
              "      <th>pickup_longitude</th>\n",
              "      <th>pickup_latitude</th>\n",
              "      <th>dropoff_longitude</th>\n",
              "      <th>dropoff_latitude</th>\n",
              "      <th>passenger_count</th>\n",
              "      <th>distance_km</th>\n",
              "      <th>month</th>\n",
              "      <th>day</th>\n",
              "      <th>rush_hour</th>\n",
              "    </tr>\n",
              "  </thead>\n",
              "  <tbody>\n",
              "    <tr>\n",
              "      <th>0</th>\n",
              "      <td>24238194</td>\n",
              "      <td>7.5</td>\n",
              "      <td>2015-05-07 19:52:06+00:00</td>\n",
              "      <td>-73.999817</td>\n",
              "      <td>40.738354</td>\n",
              "      <td>-73.999512</td>\n",
              "      <td>40.723217</td>\n",
              "      <td>1</td>\n",
              "      <td>1.683323</td>\n",
              "      <td>may</td>\n",
              "      <td>thursday</td>\n",
              "      <td>1</td>\n",
              "    </tr>\n",
              "    <tr>\n",
              "      <th>1</th>\n",
              "      <td>27835199</td>\n",
              "      <td>7.7</td>\n",
              "      <td>2009-07-17 20:04:56+00:00</td>\n",
              "      <td>-73.994355</td>\n",
              "      <td>40.728225</td>\n",
              "      <td>-73.994710</td>\n",
              "      <td>40.750325</td>\n",
              "      <td>1</td>\n",
              "      <td>2.457590</td>\n",
              "      <td>jul</td>\n",
              "      <td>friday</td>\n",
              "      <td>0</td>\n",
              "    </tr>\n",
              "    <tr>\n",
              "      <th>2</th>\n",
              "      <td>44984355</td>\n",
              "      <td>12.9</td>\n",
              "      <td>2009-08-24 21:45:00+00:00</td>\n",
              "      <td>-74.005043</td>\n",
              "      <td>40.740770</td>\n",
              "      <td>-73.962565</td>\n",
              "      <td>40.772647</td>\n",
              "      <td>1</td>\n",
              "      <td>5.036377</td>\n",
              "      <td>aug</td>\n",
              "      <td>monday</td>\n",
              "      <td>0</td>\n",
              "    </tr>\n",
              "    <tr>\n",
              "      <th>3</th>\n",
              "      <td>25894730</td>\n",
              "      <td>5.3</td>\n",
              "      <td>2009-06-26 08:22:21+00:00</td>\n",
              "      <td>-73.976124</td>\n",
              "      <td>40.790844</td>\n",
              "      <td>-73.965316</td>\n",
              "      <td>40.803349</td>\n",
              "      <td>3</td>\n",
              "      <td>1.661683</td>\n",
              "      <td>jun</td>\n",
              "      <td>friday</td>\n",
              "      <td>1</td>\n",
              "    </tr>\n",
              "    <tr>\n",
              "      <th>5</th>\n",
              "      <td>44470845</td>\n",
              "      <td>4.9</td>\n",
              "      <td>2011-02-12 02:27:09+00:00</td>\n",
              "      <td>-73.969019</td>\n",
              "      <td>40.755910</td>\n",
              "      <td>-73.969019</td>\n",
              "      <td>40.755910</td>\n",
              "      <td>1</td>\n",
              "      <td>0.000000</td>\n",
              "      <td>feb</td>\n",
              "      <td>saturday</td>\n",
              "      <td>0</td>\n",
              "    </tr>\n",
              "  </tbody>\n",
              "</table>\n",
              "</div>"
            ],
            "text/plain": [
              "         Id  fare_amount           pickup_datetime  pickup_longitude  \\\n",
              "0  24238194          7.5 2015-05-07 19:52:06+00:00        -73.999817   \n",
              "1  27835199          7.7 2009-07-17 20:04:56+00:00        -73.994355   \n",
              "2  44984355         12.9 2009-08-24 21:45:00+00:00        -74.005043   \n",
              "3  25894730          5.3 2009-06-26 08:22:21+00:00        -73.976124   \n",
              "5  44470845          4.9 2011-02-12 02:27:09+00:00        -73.969019   \n",
              "\n",
              "   pickup_latitude  dropoff_longitude  dropoff_latitude  passenger_count  \\\n",
              "0        40.738354         -73.999512         40.723217                1   \n",
              "1        40.728225         -73.994710         40.750325                1   \n",
              "2        40.740770         -73.962565         40.772647                1   \n",
              "3        40.790844         -73.965316         40.803349                3   \n",
              "5        40.755910         -73.969019         40.755910                1   \n",
              "\n",
              "   distance_km month       day  rush_hour  \n",
              "0     1.683323   may  thursday          1  \n",
              "1     2.457590   jul    friday          0  \n",
              "2     5.036377   aug    monday          0  \n",
              "3     1.661683   jun    friday          1  \n",
              "5     0.000000   feb  saturday          0  "
            ]
          },
          "execution_count": 163,
          "metadata": {},
          "output_type": "execute_result"
        }
      ],
      "source": [
        "df1.loc[(df1.day != 'sunday'), 'rush_hour'] = df1.apply(rush_hourizer, axis=1).astype('int32')\n",
        "\n",
        "df1.head()"
      ]
    },
    {
      "cell_type": "code",
      "execution_count": 164,
      "id": "5b32ca86",
      "metadata": {
        "colab": {
          "base_uri": "https://localhost:8080/"
        },
        "execution": {
          "iopub.execute_input": "2024-07-26T10:56:11.490484Z",
          "iopub.status.busy": "2024-07-26T10:56:11.490099Z",
          "iopub.status.idle": "2024-07-26T10:56:11.497371Z",
          "shell.execute_reply": "2024-07-26T10:56:11.496214Z"
        },
        "id": "5b32ca86",
        "outputId": "9efa0f72-c450-4de3-cebd-f0ee084ceeba",
        "papermill": {
          "duration": 0.054253,
          "end_time": "2024-07-26T10:56:11.499428",
          "exception": false,
          "start_time": "2024-07-26T10:56:11.445175",
          "status": "completed"
        },
        "tags": []
      },
      "outputs": [
        {
          "data": {
            "text/plain": [
              "Index(['Id', 'fare_amount', 'pickup_datetime', 'pickup_longitude',\n",
              "       'pickup_latitude', 'dropoff_longitude', 'dropoff_latitude',\n",
              "       'passenger_count', 'distance_km', 'month', 'day', 'rush_hour'],\n",
              "      dtype='object')"
            ]
          },
          "execution_count": 164,
          "metadata": {},
          "output_type": "execute_result"
        }
      ],
      "source": [
        "df1.columns"
      ]
    },
    {
      "cell_type": "code",
      "execution_count": 165,
      "id": "5c377ad8",
      "metadata": {
        "colab": {
          "base_uri": "https://localhost:8080/",
          "height": 206
        },
        "execution": {
          "iopub.execute_input": "2024-07-26T10:56:11.592266Z",
          "iopub.status.busy": "2024-07-26T10:56:11.591889Z",
          "iopub.status.idle": "2024-07-26T10:56:11.608275Z",
          "shell.execute_reply": "2024-07-26T10:56:11.607220Z"
        },
        "id": "5c377ad8",
        "outputId": "f3233594-617a-4090-f4c8-2f864e0b9584",
        "papermill": {
          "duration": 0.064701,
          "end_time": "2024-07-26T10:56:11.610624",
          "exception": false,
          "start_time": "2024-07-26T10:56:11.545923",
          "status": "completed"
        },
        "tags": []
      },
      "outputs": [
        {
          "data": {
            "text/html": [
              "<div>\n",
              "<style scoped>\n",
              "    .dataframe tbody tr th:only-of-type {\n",
              "        vertical-align: middle;\n",
              "    }\n",
              "\n",
              "    .dataframe tbody tr th {\n",
              "        vertical-align: top;\n",
              "    }\n",
              "\n",
              "    .dataframe thead th {\n",
              "        text-align: right;\n",
              "    }\n",
              "</style>\n",
              "<table border=\"1\" class=\"dataframe\">\n",
              "  <thead>\n",
              "    <tr style=\"text-align: right;\">\n",
              "      <th></th>\n",
              "      <th>fare_amount</th>\n",
              "      <th>passenger_count</th>\n",
              "      <th>distance_km</th>\n",
              "      <th>rush_hour</th>\n",
              "    </tr>\n",
              "  </thead>\n",
              "  <tbody>\n",
              "    <tr>\n",
              "      <th>0</th>\n",
              "      <td>7.5</td>\n",
              "      <td>1</td>\n",
              "      <td>1.683323</td>\n",
              "      <td>1</td>\n",
              "    </tr>\n",
              "    <tr>\n",
              "      <th>1</th>\n",
              "      <td>7.7</td>\n",
              "      <td>1</td>\n",
              "      <td>2.457590</td>\n",
              "      <td>0</td>\n",
              "    </tr>\n",
              "    <tr>\n",
              "      <th>2</th>\n",
              "      <td>12.9</td>\n",
              "      <td>1</td>\n",
              "      <td>5.036377</td>\n",
              "      <td>0</td>\n",
              "    </tr>\n",
              "    <tr>\n",
              "      <th>3</th>\n",
              "      <td>5.3</td>\n",
              "      <td>3</td>\n",
              "      <td>1.661683</td>\n",
              "      <td>1</td>\n",
              "    </tr>\n",
              "    <tr>\n",
              "      <th>5</th>\n",
              "      <td>4.9</td>\n",
              "      <td>1</td>\n",
              "      <td>0.000000</td>\n",
              "      <td>0</td>\n",
              "    </tr>\n",
              "  </tbody>\n",
              "</table>\n",
              "</div>"
            ],
            "text/plain": [
              "   fare_amount  passenger_count  distance_km  rush_hour\n",
              "0          7.5                1     1.683323          1\n",
              "1          7.7                1     2.457590          0\n",
              "2         12.9                1     5.036377          0\n",
              "3          5.3                3     1.661683          1\n",
              "5          4.9                1     0.000000          0"
            ]
          },
          "execution_count": 165,
          "metadata": {},
          "output_type": "execute_result"
        }
      ],
      "source": [
        "df2 = df1.drop(['Id', 'pickup_datetime', 'pickup_longitude',\n",
        "       'pickup_latitude', 'dropoff_longitude', 'dropoff_latitude','day', 'month'],axis=1)\n",
        "df2.head()"
      ]
    },
    {
      "cell_type": "code",
      "execution_count": 166,
      "id": "4b77f098",
      "metadata": {
        "execution": {
          "iopub.execute_input": "2024-07-26T10:56:24.479005Z",
          "iopub.status.busy": "2024-07-26T10:56:24.478606Z",
          "iopub.status.idle": "2024-07-26T10:56:24.484587Z",
          "shell.execute_reply": "2024-07-26T10:56:24.483412Z"
        },
        "id": "4b77f098",
        "papermill": {
          "duration": 0.057921,
          "end_time": "2024-07-26T10:56:24.487100",
          "exception": false,
          "start_time": "2024-07-26T10:56:24.429179",
          "status": "completed"
        },
        "tags": []
      },
      "outputs": [],
      "source": [
        "df2['rush_hour'] = df2['rush_hour'].astype(float)"
      ]
    },
    {
      "cell_type": "code",
      "execution_count": 167,
      "id": "d0204dfc",
      "metadata": {
        "colab": {
          "base_uri": "https://localhost:8080/"
        },
        "execution": {
          "iopub.execute_input": "2024-07-26T10:56:24.584276Z",
          "iopub.status.busy": "2024-07-26T10:56:24.583901Z",
          "iopub.status.idle": "2024-07-26T10:56:24.590868Z",
          "shell.execute_reply": "2024-07-26T10:56:24.589806Z"
        },
        "id": "d0204dfc",
        "outputId": "0a4d8db9-24a6-4ad9-d582-77a9b2295a6a",
        "papermill": {
          "duration": 0.057981,
          "end_time": "2024-07-26T10:56:24.593108",
          "exception": false,
          "start_time": "2024-07-26T10:56:24.535127",
          "status": "completed"
        },
        "tags": []
      },
      "outputs": [
        {
          "data": {
            "text/plain": [
              "(154869, 4)"
            ]
          },
          "execution_count": 167,
          "metadata": {},
          "output_type": "execute_result"
        }
      ],
      "source": [
        "df2.shape"
      ]
    },
    {
      "cell_type": "markdown",
      "id": "aa7e5780",
      "metadata": {
        "id": "aa7e5780",
        "papermill": {
          "duration": 0.047349,
          "end_time": "2024-07-26T10:56:24.689386",
          "exception": false,
          "start_time": "2024-07-26T10:56:24.642037",
          "status": "completed"
        },
        "tags": []
      },
      "source": [
        "### Removing the rows with 0 distance"
      ]
    },
    {
      "cell_type": "code",
      "execution_count": 168,
      "id": "b2e22783",
      "metadata": {
        "execution": {
          "iopub.execute_input": "2024-07-26T10:56:24.788470Z",
          "iopub.status.busy": "2024-07-26T10:56:24.788093Z",
          "iopub.status.idle": "2024-07-26T10:56:24.802420Z",
          "shell.execute_reply": "2024-07-26T10:56:24.801249Z"
        },
        "id": "b2e22783",
        "papermill": {
          "duration": 0.068162,
          "end_time": "2024-07-26T10:56:24.805054",
          "exception": false,
          "start_time": "2024-07-26T10:56:24.736892",
          "status": "completed"
        },
        "tags": []
      },
      "outputs": [],
      "source": [
        "df2 = df2[df2['distance_km']!=0].reindex()"
      ]
    },
    {
      "cell_type": "code",
      "execution_count": 169,
      "id": "4fd1b330",
      "metadata": {
        "colab": {
          "base_uri": "https://localhost:8080/"
        },
        "execution": {
          "iopub.execute_input": "2024-07-26T10:56:24.902082Z",
          "iopub.status.busy": "2024-07-26T10:56:24.901608Z",
          "iopub.status.idle": "2024-07-26T10:56:24.908446Z",
          "shell.execute_reply": "2024-07-26T10:56:24.907270Z"
        },
        "id": "4fd1b330",
        "outputId": "c3a06969-361c-42cc-e761-256c91671e9e",
        "papermill": {
          "duration": 0.057619,
          "end_time": "2024-07-26T10:56:24.910788",
          "exception": false,
          "start_time": "2024-07-26T10:56:24.853169",
          "status": "completed"
        },
        "tags": []
      },
      "outputs": [
        {
          "data": {
            "text/plain": [
              "(150334, 4)"
            ]
          },
          "execution_count": 169,
          "metadata": {},
          "output_type": "execute_result"
        }
      ],
      "source": [
        "df2.shape"
      ]
    },
    {
      "cell_type": "code",
      "execution_count": 170,
      "id": "7ff7e217",
      "metadata": {
        "colab": {
          "base_uri": "https://localhost:8080/",
          "height": 500
        },
        "execution": {
          "iopub.execute_input": "2024-07-26T10:56:25.008606Z",
          "iopub.status.busy": "2024-07-26T10:56:25.008188Z",
          "iopub.status.idle": "2024-07-26T10:56:25.306535Z",
          "shell.execute_reply": "2024-07-26T10:56:25.305399Z"
        },
        "id": "7ff7e217",
        "outputId": "a373d6aa-35f0-4343-da30-63761445cda7",
        "papermill": {
          "duration": 0.350412,
          "end_time": "2024-07-26T10:56:25.309031",
          "exception": false,
          "start_time": "2024-07-26T10:56:24.958619",
          "status": "completed"
        },
        "tags": []
      },
      "outputs": [
        {
          "data": {
            "image/png": "[encoded data removed]",
            "text/plain": [
              "<Figure size 600x400 with 2 Axes>"
            ]
          },
          "metadata": {},
          "output_type": "display_data"
        }
      ],
      "source": [
        "\n",
        "plt.figure(figsize=(6,4))\n",
        "sns.heatmap(df2.corr(method='pearson'), annot=True, cmap='Reds')\n",
        "plt.title('Correlation heatmap', fontsize=18)\n",
        "plt.tight_layout()\n",
        "plt.savefig('data/CorrelationHeatmap.png', dpi=300)\n",
        "plt.show()"
      ]
    },
    {
      "cell_type": "markdown",
      "id": "2d3d1b55",
      "metadata": {
        "id": "2d3d1b55",
        "papermill": {
          "duration": 0.04899,
          "end_time": "2024-07-26T10:56:25.904085",
          "exception": false,
          "start_time": "2024-07-26T10:56:25.855095",
          "status": "completed"
        },
        "tags": []
      },
      "source": [
        "### sklearn Imports"
      ]
    },
    {
      "cell_type": "code",
      "execution_count": 171,
      "id": "acf47d13",
      "metadata": {
        "execution": {
          "iopub.execute_input": "2024-07-26T10:56:26.003268Z",
          "iopub.status.busy": "2024-07-26T10:56:26.002891Z",
          "iopub.status.idle": "2024-07-26T10:56:26.401565Z",
          "shell.execute_reply": "2024-07-26T10:56:26.400178Z"
        },
        "id": "acf47d13",
        "papermill": {
          "duration": 0.451526,
          "end_time": "2024-07-26T10:56:26.404234",
          "exception": false,
          "start_time": "2024-07-26T10:56:25.952708",
          "status": "completed"
        },
        "tags": []
      },
      "outputs": [],
      "source": [
        "from sklearn.preprocessing import StandardScaler\n",
        "from sklearn.model_selection import train_test_split\n",
        "import sklearn.metrics as metrics # For confusion matrix\n",
        "from sklearn.linear_model import LinearRegression\n",
        "from sklearn.metrics import mean_absolute_error,r2_score,mean_squared_error"
      ]
    },
    {
      "cell_type": "markdown",
      "id": "fc1f65be",
      "metadata": {
        "id": "fc1f65be",
        "papermill": {
          "duration": 0.049632,
          "end_time": "2024-07-26T10:56:26.502891",
          "exception": false,
          "start_time": "2024-07-26T10:56:26.453259",
          "status": "completed"
        },
        "tags": []
      },
      "source": [
        "### Split between train and test sets"
      ]
    },
    {
      "cell_type": "code",
      "execution_count": 172,
      "id": "sh84h5j8v1gq",
      "metadata": {
        "id": "sh84h5j8v1gq"
      },
      "outputs": [],
      "source": [
        "X = df2.drop(columns=['fare_amount'])\n",
        "\n",
        "# Set y variable\n",
        "y = df2[['fare_amount']]"
      ]
    },
    {
      "cell_type": "code",
      "execution_count": 173,
      "id": "bd248b9a",
      "metadata": {
        "execution": {
          "iopub.execute_input": "2024-07-26T10:56:26.603861Z",
          "iopub.status.busy": "2024-07-26T10:56:26.603474Z",
          "iopub.status.idle": "2024-07-26T10:56:26.768497Z",
          "shell.execute_reply": "2024-07-26T10:56:26.767395Z"
        },
        "id": "bd248b9a",
        "papermill": {
          "duration": 0.218261,
          "end_time": "2024-07-26T10:56:26.771080",
          "exception": false,
          "start_time": "2024-07-26T10:56:26.552819",
          "status": "completed"
        },
        "tags": []
      },
      "outputs": [],
      "source": [
        "X_train, X_test, y_train, y_test = train_test_split(X, y, test_size=0.1, random_state=0)"
      ]
    },
    {
      "cell_type": "markdown",
      "id": "c8a69dc9",
      "metadata": {
        "id": "c8a69dc9",
        "papermill": {
          "duration": 0.048753,
          "end_time": "2024-07-26T10:56:26.868412",
          "exception": false,
          "start_time": "2024-07-26T10:56:26.819659",
          "status": "completed"
        },
        "tags": []
      },
      "source": [
        "### Scaling Data"
      ]
    },
    {
      "cell_type": "code",
      "execution_count": 174,
      "id": "2e427b2e",
      "metadata": {
        "colab": {
          "base_uri": "https://localhost:8080/"
        },
        "execution": {
          "iopub.execute_input": "2024-07-26T10:56:26.968354Z",
          "iopub.status.busy": "2024-07-26T10:56:26.967971Z",
          "iopub.status.idle": "2024-07-26T10:56:26.984232Z",
          "shell.execute_reply": "2024-07-26T10:56:26.983179Z"
        },
        "id": "2e427b2e",
        "outputId": "0a93fb41-1d1c-45b4-d34b-a24346a4b615",
        "papermill": {
          "duration": 0.069193,
          "end_time": "2024-07-26T10:56:26.986632",
          "exception": false,
          "start_time": "2024-07-26T10:56:26.917439",
          "status": "completed"
        },
        "tags": []
      },
      "outputs": [
        {
          "name": "stdout",
          "output_type": "stream",
          "text": [
            "X_train scaled: [[-0.47525458  0.04439963 -0.92799532]\n",
            " [-0.47525458 -0.27870613  1.07759165]\n",
            " [-0.47525458  0.20015523 -0.92799532]\n",
            " ...\n",
            " [-0.47525458  2.0666192   1.07759165]\n",
            " [ 1.34715627  0.36458155 -0.92799532]\n",
            " [-0.47525458 -0.9281082   1.07759165]]\n"
          ]
        }
      ],
      "source": [
        "scaler = StandardScaler().fit(X_train)\n",
        "X_train_scaled = scaler.transform(X_train)\n",
        "print('X_train scaled:', X_train_scaled)"
      ]
    },
    {
      "cell_type": "markdown",
      "id": "abdc4a82",
      "metadata": {
        "id": "abdc4a82",
        "papermill": {
          "duration": 0.048773,
          "end_time": "2024-07-26T10:56:27.084987",
          "exception": false,
          "start_time": "2024-07-26T10:56:27.036214",
          "status": "completed"
        },
        "tags": []
      },
      "source": [
        "### Fitting LR model"
      ]
    },
    {
      "cell_type": "code",
      "execution_count": 175,
      "id": "027efe90",
      "metadata": {
        "colab": {
          "base_uri": "https://localhost:8080/",
          "height": 75
        },
        "execution": {
          "iopub.execute_input": "2024-07-26T10:56:27.186062Z",
          "iopub.status.busy": "2024-07-26T10:56:27.185673Z",
          "iopub.status.idle": "2024-07-26T10:56:27.238987Z",
          "shell.execute_reply": "2024-07-26T10:56:27.237864Z"
        },
        "id": "027efe90",
        "outputId": "8eb81a93-db52-4712-85df-b6e123f163a8",
        "papermill": {
          "duration": 0.107719,
          "end_time": "2024-07-26T10:56:27.241462",
          "exception": false,
          "start_time": "2024-07-26T10:56:27.133743",
          "status": "completed"
        },
        "tags": []
      },
      "outputs": [
        {
          "data": {
            "text/html": [
              "<style>#sk-container-id-5 {\n",
              "  /* Definition of color scheme common for light and dark mode */\n",
              "  --sklearn-color-text: black;\n",
              "  --sklearn-color-line: gray;\n",
              "  /* Definition of color scheme for unfitted estimators */\n",
              "  --sklearn-color-unfitted-level-0: #fff5e6;\n",
              "  --sklearn-color-unfitted-level-1: #f6e4d2;\n",
              "  --sklearn-color-unfitted-level-2: #ffe0b3;\n",
              "  --sklearn-color-unfitted-level-3: chocolate;\n",
              "  /* Definition of color scheme for fitted estimators */\n",
              "  --sklearn-color-fitted-level-0: #f0f8ff;\n",
              "  --sklearn-color-fitted-level-1: #d4ebff;\n",
              "  --sklearn-color-fitted-level-2: #b3dbfd;\n",
              "  --sklearn-color-fitted-level-3: cornflowerblue;\n",
              "\n",
              "  /* Specific color for light theme */\n",
              "  --sklearn-color-text-on-default-background: var(--sg-text-color, var(--theme-code-foreground, var(--jp-content-font-color1, black)));\n",
              "  --sklearn-color-background: var(--sg-background-color, var(--theme-background, var(--jp-layout-color0, white)));\n",
              "  --sklearn-color-border-box: var(--sg-text-color, var(--theme-code-foreground, var(--jp-content-font-color1, black)));\n",
              "  --sklearn-color-icon: #696969;\n",
              "\n",
              "  @media (prefers-color-scheme: dark) {\n",
              "    /* Redefinition of color scheme for dark theme */\n",
              "    --sklearn-color-text-on-default-background: var(--sg-text-color, var(--theme-code-foreground, var(--jp-content-font-color1, white)));\n",
              "    --sklearn-color-background: var(--sg-background-color, var(--theme-background, var(--jp-layout-color0, #111)));\n",
              "    --sklearn-color-border-box: var(--sg-text-color, var(--theme-code-foreground, var(--jp-content-font-color1, white)));\n",
              "    --sklearn-color-icon: #878787;\n",
              "  }\n",
              "}\n",
              "\n",
              "#sk-container-id-5 {\n",
              "  color: var(--sklearn-color-text);\n",
              "}\n",
              "\n",
              "#sk-container-id-5 pre {\n",
              "  padding: 0;\n",
              "}\n",
              "\n",
              "#sk-container-id-5 input.sk-hidden--visually {\n",
              "  border: 0;\n",
              "  clip: rect(1px 1px 1px 1px);\n",
              "  clip: rect(1px, 1px, 1px, 1px);\n",
              "  height: 1px;\n",
              "  margin: -1px;\n",
              "  overflow: hidden;\n",
              "  padding: 0;\n",
              "  position: absolute;\n",
              "  width: 1px;\n",
              "}\n",
              "\n",
              "#sk-container-id-5 div.sk-dashed-wrapped {\n",
              "  border: 1px dashed var(--sklearn-color-line);\n",
              "  margin: 0 0.4em 0.5em 0.4em;\n",
              "  box-sizing: border-box;\n",
              "  padding-bottom: 0.4em;\n",
              "  background-color: var(--sklearn-color-background);\n",
              "}\n",
              "\n",
              "#sk-container-id-5 div.sk-container {\n",
              "  /* jupyter's `normalize.less` sets `[hidden] { display: none; }`\n",
              "     but bootstrap.min.css set `[hidden] { display: none !important; }`\n",
              "     so we also need the `!important` here to be able to override the\n",
              "     default hidden behavior on the sphinx rendered scikit-learn.org.\n",
              "     See: https://github.com/scikit-learn/scikit-learn/issues/21755 */\n",
              "  display: inline-block !important;\n",
              "  position: relative;\n",
              "}\n",
              "\n",
              "#sk-container-id-5 div.sk-text-repr-fallback {\n",
              "  display: none;\n",
              "}\n",
              "\n",
              "div.sk-parallel-item,\n",
              "div.sk-serial,\n",
              "div.sk-item {\n",
              "  /* draw centered vertical line to link estimators */\n",
              "  background-image: linear-gradient(var(--sklearn-color-text-on-default-background), var(--sklearn-color-text-on-default-background));\n",
              "  background-size: 2px 100%;\n",
              "  background-repeat: no-repeat;\n",
              "  background-position: center center;\n",
              "}\n",
              "\n",
              "/* Parallel-specific style estimator block */\n",
              "\n",
              "#sk-container-id-5 div.sk-parallel-item::after {\n",
              "  content: \"\";\n",
              "  width: 100%;\n",
              "  border-bottom: 2px solid var(--sklearn-color-text-on-default-background);\n",
              "  flex-grow: 1;\n",
              "}\n",
              "\n",
              "#sk-container-id-5 div.sk-parallel {\n",
              "  display: flex;\n",
              "  align-items: stretch;\n",
              "  justify-content: center;\n",
              "  background-color: var(--sklearn-color-background);\n",
              "  position: relative;\n",
              "}\n",
              "\n",
              "#sk-container-id-5 div.sk-parallel-item {\n",
              "  display: flex;\n",
              "  flex-direction: column;\n",
              "}\n",
              "\n",
              "#sk-container-id-5 div.sk-parallel-item:first-child::after {\n",
              "  align-self: flex-end;\n",
              "  width: 50%;\n",
              "}\n",
              "\n",
              "#sk-container-id-5 div.sk-parallel-item:last-child::after {\n",
              "  align-self: flex-start;\n",
              "  width: 50%;\n",
              "}\n",
              "\n",
              "#sk-container-id-5 div.sk-parallel-item:only-child::after {\n",
              "  width: 0;\n",
              "}\n",
              "\n",
              "/* Serial-specific style estimator block */\n",
              "\n",
              "#sk-container-id-5 div.sk-serial {\n",
              "  display: flex;\n",
              "  flex-direction: column;\n",
              "  align-items: center;\n",
              "  background-color: var(--sklearn-color-background);\n",
              "  padding-right: 1em;\n",
              "  padding-left: 1em;\n",
              "}\n",
              "\n",
              "\n",
              "/* Toggleable style: style used for estimator/Pipeline/ColumnTransformer box that is\n",
              "clickable and can be expanded/collapsed.\n",
              "- Pipeline and ColumnTransformer use this feature and define the default style\n",
              "- Estimators will overwrite some part of the style using the `sk-estimator` class\n",
              "*/\n",
              "\n",
              "/* Pipeline and ColumnTransformer style (default) */\n",
              "\n",
              "#sk-container-id-5 div.sk-toggleable {\n",
              "  /* Default theme specific background. It is overwritten whether we have a\n",
              "  specific estimator or a Pipeline/ColumnTransformer */\n",
              "  background-color: var(--sklearn-color-background);\n",
              "}\n",
              "\n",
              "/* Toggleable label */\n",
              "#sk-container-id-5 label.sk-toggleable__label {\n",
              "  cursor: pointer;\n",
              "  display: block;\n",
              "  width: 100%;\n",
              "  margin-bottom: 0;\n",
              "  padding: 0.5em;\n",
              "  box-sizing: border-box;\n",
              "  text-align: center;\n",
              "}\n",
              "\n",
              "#sk-container-id-5 label.sk-toggleable__label-arrow:before {\n",
              "  /* Arrow on the left of the label */\n",
              "  content: \"▸\";\n",
              "  float: left;\n",
              "  margin-right: 0.25em;\n",
              "  color: var(--sklearn-color-icon);\n",
              "}\n",
              "\n",
              "#sk-container-id-5 label.sk-toggleable__label-arrow:hover:before {\n",
              "  color: var(--sklearn-color-text);\n",
              "}\n",
              "\n",
              "/* Toggleable content - dropdown */\n",
              "\n",
              "#sk-container-id-5 div.sk-toggleable__content {\n",
              "  max-height: 0;\n",
              "  max-width: 0;\n",
              "  overflow: hidden;\n",
              "  text-align: left;\n",
              "  /* unfitted */\n",
              "  background-color: var(--sklearn-color-unfitted-level-0);\n",
              "}\n",
              "\n",
              "#sk-container-id-5 div.sk-toggleable__content.fitted {\n",
              "  /* fitted */\n",
              "  background-color: var(--sklearn-color-fitted-level-0);\n",
              "}\n",
              "\n",
              "#sk-container-id-5 div.sk-toggleable__content pre {\n",
              "  margin: 0.2em;\n",
              "  border-radius: 0.25em;\n",
              "  color: var(--sklearn-color-text);\n",
              "  /* unfitted */\n",
              "  background-color: var(--sklearn-color-unfitted-level-0);\n",
              "}\n",
              "\n",
              "#sk-container-id-5 div.sk-toggleable__content.fitted pre {\n",
              "  /* unfitted */\n",
              "  background-color: var(--sklearn-color-fitted-level-0);\n",
              "}\n",
              "\n",
              "#sk-container-id-5 input.sk-toggleable__control:checked~div.sk-toggleable__content {\n",
              "  /* Expand drop-down */\n",
              "  max-height: 200px;\n",
              "  max-width: 100%;\n",
              "  overflow: auto;\n",
              "}\n",
              "\n",
              "#sk-container-id-5 input.sk-toggleable__control:checked~label.sk-toggleable__label-arrow:before {\n",
              "  content: \"▾\";\n",
              "}\n",
              "\n",
              "/* Pipeline/ColumnTransformer-specific style */\n",
              "\n",
              "#sk-container-id-5 div.sk-label input.sk-toggleable__control:checked~label.sk-toggleable__label {\n",
              "  color: var(--sklearn-color-text);\n",
              "  background-color: var(--sklearn-color-unfitted-level-2);\n",
              "}\n",
              "\n",
              "#sk-container-id-5 div.sk-label.fitted input.sk-toggleable__control:checked~label.sk-toggleable__label {\n",
              "  background-color: var(--sklearn-color-fitted-level-2);\n",
              "}\n",
              "\n",
              "/* Estimator-specific style */\n",
              "\n",
              "/* Colorize estimator box */\n",
              "#sk-container-id-5 div.sk-estimator input.sk-toggleable__control:checked~label.sk-toggleable__label {\n",
              "  /* unfitted */\n",
              "  background-color: var(--sklearn-color-unfitted-level-2);\n",
              "}\n",
              "\n",
              "#sk-container-id-5 div.sk-estimator.fitted input.sk-toggleable__control:checked~label.sk-toggleable__label {\n",
              "  /* fitted */\n",
              "  background-color: var(--sklearn-color-fitted-level-2);\n",
              "}\n",
              "\n",
              "#sk-container-id-5 div.sk-label label.sk-toggleable__label,\n",
              "#sk-container-id-5 div.sk-label label {\n",
              "  /* The background is the default theme color */\n",
              "  color: var(--sklearn-color-text-on-default-background);\n",
              "}\n",
              "\n",
              "/* On hover, darken the color of the background */\n",
              "#sk-container-id-5 div.sk-label:hover label.sk-toggleable__label {\n",
              "  color: var(--sklearn-color-text);\n",
              "  background-color: var(--sklearn-color-unfitted-level-2);\n",
              "}\n",
              "\n",
              "/* Label box, darken color on hover, fitted */\n",
              "#sk-container-id-5 div.sk-label.fitted:hover label.sk-toggleable__label.fitted {\n",
              "  color: var(--sklearn-color-text);\n",
              "  background-color: var(--sklearn-color-fitted-level-2);\n",
              "}\n",
              "\n",
              "/* Estimator label */\n",
              "\n",
              "#sk-container-id-5 div.sk-label label {\n",
              "  font-family: monospace;\n",
              "  font-weight: bold;\n",
              "  display: inline-block;\n",
              "  line-height: 1.2em;\n",
              "}\n",
              "\n",
              "#sk-container-id-5 div.sk-label-container {\n",
              "  text-align: center;\n",
              "}\n",
              "\n",
              "/* Estimator-specific */\n",
              "#sk-container-id-5 div.sk-estimator {\n",
              "  font-family: monospace;\n",
              "  border: 1px dotted var(--sklearn-color-border-box);\n",
              "  border-radius: 0.25em;\n",
              "  box-sizing: border-box;\n",
              "  margin-bottom: 0.5em;\n",
              "  /* unfitted */\n",
              "  background-color: var(--sklearn-color-unfitted-level-0);\n",
              "}\n",
              "\n",
              "#sk-container-id-5 div.sk-estimator.fitted {\n",
              "  /* fitted */\n",
              "  background-color: var(--sklearn-color-fitted-level-0);\n",
              "}\n",
              "\n",
              "/* on hover */\n",
              "#sk-container-id-5 div.sk-estimator:hover {\n",
              "  /* unfitted */\n",
              "  background-color: var(--sklearn-color-unfitted-level-2);\n",
              "}\n",
              "\n",
              "#sk-container-id-5 div.sk-estimator.fitted:hover {\n",
              "  /* fitted */\n",
              "  background-color: var(--sklearn-color-fitted-level-2);\n",
              "}\n",
              "\n",
              "/* Specification for estimator info (e.g. \"i\" and \"?\") */\n",
              "\n",
              "/* Common style for \"i\" and \"?\" */\n",
              "\n",
              ".sk-estimator-doc-link,\n",
              "a:link.sk-estimator-doc-link,\n",
              "a:visited.sk-estimator-doc-link {\n",
              "  float: right;\n",
              "  font-size: smaller;\n",
              "  line-height: 1em;\n",
              "  font-family: monospace;\n",
              "  background-color: var(--sklearn-color-background);\n",
              "  border-radius: 1em;\n",
              "  height: 1em;\n",
              "  width: 1em;\n",
              "  text-decoration: none !important;\n",
              "  margin-left: 1ex;\n",
              "  /* unfitted */\n",
              "  border: var(--sklearn-color-unfitted-level-1) 1pt solid;\n",
              "  color: var(--sklearn-color-unfitted-level-1);\n",
              "}\n",
              "\n",
              ".sk-estimator-doc-link.fitted,\n",
              "a:link.sk-estimator-doc-link.fitted,\n",
              "a:visited.sk-estimator-doc-link.fitted {\n",
              "  /* fitted */\n",
              "  border: var(--sklearn-color-fitted-level-1) 1pt solid;\n",
              "  color: var(--sklearn-color-fitted-level-1);\n",
              "}\n",
              "\n",
              "/* On hover */\n",
              "div.sk-estimator:hover .sk-estimator-doc-link:hover,\n",
              ".sk-estimator-doc-link:hover,\n",
              "div.sk-label-container:hover .sk-estimator-doc-link:hover,\n",
              ".sk-estimator-doc-link:hover {\n",
              "  /* unfitted */\n",
              "  background-color: var(--sklearn-color-unfitted-level-3);\n",
              "  color: var(--sklearn-color-background);\n",
              "  text-decoration: none;\n",
              "}\n",
              "\n",
              "div.sk-estimator.fitted:hover .sk-estimator-doc-link.fitted:hover,\n",
              ".sk-estimator-doc-link.fitted:hover,\n",
              "div.sk-label-container:hover .sk-estimator-doc-link.fitted:hover,\n",
              ".sk-estimator-doc-link.fitted:hover {\n",
              "  /* fitted */\n",
              "  background-color: var(--sklearn-color-fitted-level-3);\n",
              "  color: var(--sklearn-color-background);\n",
              "  text-decoration: none;\n",
              "}\n",
              "\n",
              "/* Span, style for the box shown on hovering the info icon */\n",
              ".sk-estimator-doc-link span {\n",
              "  display: none;\n",
              "  z-index: 9999;\n",
              "  position: relative;\n",
              "  font-weight: normal;\n",
              "  right: .2ex;\n",
              "  padding: .5ex;\n",
              "  margin: .5ex;\n",
              "  width: min-content;\n",
              "  min-width: 20ex;\n",
              "  max-width: 50ex;\n",
              "  color: var(--sklearn-color-text);\n",
              "  box-shadow: 2pt 2pt 4pt #999;\n",
              "  /* unfitted */\n",
              "  background: var(--sklearn-color-unfitted-level-0);\n",
              "  border: .5pt solid var(--sklearn-color-unfitted-level-3);\n",
              "}\n",
              "\n",
              ".sk-estimator-doc-link.fitted span {\n",
              "  /* fitted */\n",
              "  background: var(--sklearn-color-fitted-level-0);\n",
              "  border: var(--sklearn-color-fitted-level-3);\n",
              "}\n",
              "\n",
              ".sk-estimator-doc-link:hover span {\n",
              "  display: block;\n",
              "}\n",
              "\n",
              "/* \"?\"-specific style due to the `<a>` HTML tag */\n",
              "\n",
              "#sk-container-id-5 a.estimator_doc_link {\n",
              "  float: right;\n",
              "  font-size: 1rem;\n",
              "  line-height: 1em;\n",
              "  font-family: monospace;\n",
              "  background-color: var(--sklearn-color-background);\n",
              "  border-radius: 1rem;\n",
              "  height: 1rem;\n",
              "  width: 1rem;\n",
              "  text-decoration: none;\n",
              "  /* unfitted */\n",
              "  color: var(--sklearn-color-unfitted-level-1);\n",
              "  border: var(--sklearn-color-unfitted-level-1) 1pt solid;\n",
              "}\n",
              "\n",
              "#sk-container-id-5 a.estimator_doc_link.fitted {\n",
              "  /* fitted */\n",
              "  border: var(--sklearn-color-fitted-level-1) 1pt solid;\n",
              "  color: var(--sklearn-color-fitted-level-1);\n",
              "}\n",
              "\n",
              "/* On hover */\n",
              "#sk-container-id-5 a.estimator_doc_link:hover {\n",
              "  /* unfitted */\n",
              "  background-color: var(--sklearn-color-unfitted-level-3);\n",
              "  color: var(--sklearn-color-background);\n",
              "  text-decoration: none;\n",
              "}\n",
              "\n",
              "#sk-container-id-5 a.estimator_doc_link.fitted:hover {\n",
              "  /* fitted */\n",
              "  background-color: var(--sklearn-color-fitted-level-3);\n",
              "}\n",
              "</style><div id=\"sk-container-id-5\" class=\"sk-top-container\"><div class=\"sk-text-repr-fallback\"><pre>LinearRegression()</pre><b>In a Jupyter environment, please rerun this cell to show the HTML representation or trust the notebook. <br />On GitHub, the HTML representation is unable to render, please try loading this page with nbviewer.org.</b></div><div class=\"sk-container\" hidden><div class=\"sk-item\"><div class=\"sk-estimator fitted sk-toggleable\"><input class=\"sk-toggleable__control sk-hidden--visually\" id=\"sk-estimator-id-5\" type=\"checkbox\" checked><label for=\"sk-estimator-id-5\" class=\"sk-toggleable__label fitted sk-toggleable__label-arrow fitted\">&nbsp;&nbsp;LinearRegression<a class=\"sk-estimator-doc-link fitted\" rel=\"noreferrer\" target=\"_blank\" href=\"https://scikit-learn.org/1.5/modules/generated/sklearn.linear_model.LinearRegression.html\">?<span>Documentation for LinearRegression</span></a><span class=\"sk-estimator-doc-link fitted\">i<span>Fitted</span></span></label><div class=\"sk-toggleable__content fitted\"><pre>LinearRegression()</pre></div> </div></div></div></div>"
            ],
            "text/plain": [
              "LinearRegression()"
            ]
          },
          "execution_count": 175,
          "metadata": {},
          "output_type": "execute_result"
        }
      ],
      "source": [
        "lr=LinearRegression()\n",
        "lr.fit(X_train_scaled, y_train)"
      ]
    },
    {
      "cell_type": "code",
      "execution_count": 176,
      "id": "be4a8321",
      "metadata": {
        "colab": {
          "base_uri": "https://localhost:8080/"
        },
        "execution": {
          "iopub.execute_input": "2024-07-26T10:56:27.343117Z",
          "iopub.status.busy": "2024-07-26T10:56:27.342727Z",
          "iopub.status.idle": "2024-07-26T10:56:27.371040Z",
          "shell.execute_reply": "2024-07-26T10:56:27.369692Z"
        },
        "id": "be4a8321",
        "outputId": "60742815-100c-4f8a-9545-c5cdfe2cafaf",
        "papermill": {
          "duration": 0.083565,
          "end_time": "2024-07-26T10:56:27.374783",
          "exception": false,
          "start_time": "2024-07-26T10:56:27.291218",
          "status": "completed"
        },
        "tags": []
      },
      "outputs": [
        {
          "name": "stdout",
          "output_type": "stream",
          "text": [
            "Coefficient of determination: 0.6343486664757545\n",
            "R^2: 0.6343486664757545\n",
            "MAE: 1.6094934340513007\n",
            "MSE: 5.038622623320374\n",
            "RMSE: 2.2446876449342286\n"
          ]
        }
      ],
      "source": [
        "r_sq = lr.score(X_train_scaled, y_train)\n",
        "print('Coefficient of determination:', r_sq)\n",
        "y_pred_train = lr.predict(X_train_scaled)\n",
        "print('R^2:', r2_score(y_train, y_pred_train))\n",
        "print('MAE:', mean_absolute_error(y_train, y_pred_train))\n",
        "print('MSE:', mean_squared_error(y_train, y_pred_train))\n",
        "print('RMSE:',np.sqrt(mean_squared_error(y_train, y_pred_train)))"
      ]
    },
    {
      "cell_type": "code",
      "execution_count": 177,
      "id": "66e68d1d",
      "metadata": {
        "execution": {
          "iopub.execute_input": "2024-07-26T10:56:27.522947Z",
          "iopub.status.busy": "2024-07-26T10:56:27.522177Z",
          "iopub.status.idle": "2024-07-26T10:56:27.529965Z",
          "shell.execute_reply": "2024-07-26T10:56:27.528859Z"
        },
        "id": "66e68d1d",
        "papermill": {
          "duration": 0.067465,
          "end_time": "2024-07-26T10:56:27.532382",
          "exception": false,
          "start_time": "2024-07-26T10:56:27.464917",
          "status": "completed"
        },
        "tags": []
      },
      "outputs": [],
      "source": [
        "X_test_scaled = scaler.transform(X_test)"
      ]
    },
    {
      "cell_type": "code",
      "execution_count": 178,
      "id": "f551eab9",
      "metadata": {
        "colab": {
          "base_uri": "https://localhost:8080/"
        },
        "execution": {
          "iopub.execute_input": "2024-07-26T10:56:27.634069Z",
          "iopub.status.busy": "2024-07-26T10:56:27.633341Z",
          "iopub.status.idle": "2024-07-26T10:56:27.649847Z",
          "shell.execute_reply": "2024-07-26T10:56:27.648746Z"
        },
        "id": "f551eab9",
        "outputId": "1ff0d340-a944-476c-91c6-d86bec329b88",
        "papermill": {
          "duration": 0.070554,
          "end_time": "2024-07-26T10:56:27.652147",
          "exception": false,
          "start_time": "2024-07-26T10:56:27.581593",
          "status": "completed"
        },
        "tags": []
      },
      "outputs": [
        {
          "name": "stdout",
          "output_type": "stream",
          "text": [
            "Coefficient of determination: 0.6155362567578377\n",
            "R^2: 0.6155362567578377\n",
            "MAE: 1.63667201854413\n",
            "MSE: 5.311641794341511\n",
            "RMSE: 2.3046999358574882\n"
          ]
        }
      ],
      "source": [
        "r_sq_test = lr.score(X_test_scaled, y_test)\n",
        "print('Coefficient of determination:', r_sq_test)\n",
        "y_pred_test = lr.predict(X_test_scaled)\n",
        "print('R^2:', r2_score(y_test, y_pred_test))\n",
        "print('MAE:', mean_absolute_error(y_test,y_pred_test))\n",
        "print('MSE:', mean_squared_error(y_test, y_pred_test))\n",
        "print('RMSE:',np.sqrt(mean_squared_error(y_test, y_pred_test)))"
      ]
    },
    {
      "cell_type": "markdown",
      "id": "717d0990",
      "metadata": {
        "id": "717d0990",
        "papermill": {
          "duration": 0.058845,
          "end_time": "2024-07-26T10:56:27.799017",
          "exception": false,
          "start_time": "2024-07-26T10:56:27.740172",
          "status": "completed"
        },
        "tags": []
      },
      "source": [
        "### Evaluating wether LR is good for this data or not?"
      ]
    },
    {
      "cell_type": "code",
      "execution_count": 179,
      "id": "a285d542",
      "metadata": {
        "colab": {
          "base_uri": "https://localhost:8080/",
          "height": 206
        },
        "execution": {
          "iopub.execute_input": "2024-07-26T10:56:27.902276Z",
          "iopub.status.busy": "2024-07-26T10:56:27.901846Z",
          "iopub.status.idle": "2024-07-26T10:56:27.917413Z",
          "shell.execute_reply": "2024-07-26T10:56:27.916264Z"
        },
        "id": "a285d542",
        "outputId": "eadb397a-2192-410b-a4ff-c5e23daa9946",
        "papermill": {
          "duration": 0.069587,
          "end_time": "2024-07-26T10:56:27.919632",
          "exception": false,
          "start_time": "2024-07-26T10:56:27.850045",
          "status": "completed"
        },
        "tags": []
      },
      "outputs": [
        {
          "data": {
            "text/html": [
              "<div>\n",
              "<style scoped>\n",
              "    .dataframe tbody tr th:only-of-type {\n",
              "        vertical-align: middle;\n",
              "    }\n",
              "\n",
              "    .dataframe tbody tr th {\n",
              "        vertical-align: top;\n",
              "    }\n",
              "\n",
              "    .dataframe thead th {\n",
              "        text-align: right;\n",
              "    }\n",
              "</style>\n",
              "<table border=\"1\" class=\"dataframe\">\n",
              "  <thead>\n",
              "    <tr style=\"text-align: right;\">\n",
              "      <th></th>\n",
              "      <th>actual</th>\n",
              "      <th>predicted</th>\n",
              "      <th>residual</th>\n",
              "    </tr>\n",
              "  </thead>\n",
              "  <tbody>\n",
              "    <tr>\n",
              "      <th>43530</th>\n",
              "      <td>5.7</td>\n",
              "      <td>6.574404</td>\n",
              "      <td>-0.874404</td>\n",
              "    </tr>\n",
              "    <tr>\n",
              "      <th>25500</th>\n",
              "      <td>8.5</td>\n",
              "      <td>8.106230</td>\n",
              "      <td>0.393770</td>\n",
              "    </tr>\n",
              "    <tr>\n",
              "      <th>144453</th>\n",
              "      <td>5.0</td>\n",
              "      <td>5.684405</td>\n",
              "      <td>-0.684405</td>\n",
              "    </tr>\n",
              "    <tr>\n",
              "      <th>14117</th>\n",
              "      <td>4.5</td>\n",
              "      <td>5.971026</td>\n",
              "      <td>-1.471026</td>\n",
              "    </tr>\n",
              "    <tr>\n",
              "      <th>155218</th>\n",
              "      <td>4.9</td>\n",
              "      <td>5.718351</td>\n",
              "      <td>-0.818351</td>\n",
              "    </tr>\n",
              "  </tbody>\n",
              "</table>\n",
              "</div>"
            ],
            "text/plain": [
              "        actual  predicted  residual\n",
              "43530      5.7   6.574404 -0.874404\n",
              "25500      8.5   8.106230  0.393770\n",
              "144453     5.0   5.684405 -0.684405\n",
              "14117      4.5   5.971026 -1.471026\n",
              "155218     4.9   5.718351 -0.818351"
            ]
          },
          "execution_count": 179,
          "metadata": {},
          "output_type": "execute_result"
        }
      ],
      "source": [
        "results = pd.DataFrame(data={'actual': y_test['fare_amount'], 'predicted': y_pred_test.ravel()})\n",
        "results['residual'] = results['actual'] - results['predicted']\n",
        "results.head()"
      ]
    },
    {
      "cell_type": "code",
      "execution_count": 180,
      "id": "5151adf0",
      "metadata": {
        "colab": {
          "base_uri": "https://localhost:8080/",
          "height": 564
        },
        "execution": {
          "iopub.execute_input": "2024-07-26T10:56:28.022458Z",
          "iopub.status.busy": "2024-07-26T10:56:28.022067Z",
          "iopub.status.idle": "2024-07-26T10:56:28.418420Z",
          "shell.execute_reply": "2024-07-26T10:56:28.417261Z"
        },
        "id": "5151adf0",
        "outputId": "170fa6de-5b75-4240-ae76-ee8e86bf9c35",
        "papermill": {
          "duration": 0.451218,
          "end_time": "2024-07-26T10:56:28.422507",
          "exception": false,
          "start_time": "2024-07-26T10:56:27.971289",
          "status": "completed"
        },
        "tags": []
      },
      "outputs": [
        {
          "data": {
            "image/png": "[encoded data removed]",
            "text/plain": [
              "<Figure size 600x600 with 1 Axes>"
            ]
          },
          "metadata": {},
          "output_type": "display_data"
        }
      ],
      "source": [
        "fig, ax = plt.subplots(figsize=(6, 6))\n",
        "sns.set(style='whitegrid')\n",
        "sns.scatterplot(x='actual',\n",
        "                y='predicted',\n",
        "                data=results,\n",
        "                s=20,\n",
        "                alpha=0.5,\n",
        "                ax=ax\n",
        ")\n",
        "# Draw an x=y line to show what the results would be if the model were perfect\n",
        "plt.plot([2.5,20], [2.5,20], c='red', linewidth=2)\n",
        "plt.title('Aktual vs. Prediksi');\n",
        "# Sesuaikan tata letak dan simpan gambar\n",
        "plt.tight_layout()\n",
        "plt.savefig('data/AktualvsPrediksi.png', dpi=300)"
      ]
    },
    {
      "cell_type": "code",
      "execution_count": 181,
      "id": "8bd2519f",
      "metadata": {
        "colab": {
          "base_uri": "https://localhost:8080/",
          "height": 480
        },
        "execution": {
          "iopub.execute_input": "2024-07-26T10:56:29.274244Z",
          "iopub.status.busy": "2024-07-26T10:56:29.273870Z",
          "iopub.status.idle": "2024-07-26T10:56:29.708257Z",
          "shell.execute_reply": "2024-07-26T10:56:29.707062Z"
        },
        "id": "8bd2519f",
        "outputId": "b022c913-9130-42fc-ed7d-c9c05b2eb10c",
        "papermill": {
          "duration": 0.493415,
          "end_time": "2024-07-26T10:56:29.711492",
          "exception": false,
          "start_time": "2024-07-26T10:56:29.218077",
          "status": "completed"
        },
        "tags": []
      },
      "outputs": [
        {
          "data": {
            "image/png": "[encoded data removed]",
            "text/plain": [
              "<Figure size 640x480 with 1 Axes>"
            ]
          },
          "metadata": {},
          "output_type": "display_data"
        }
      ],
      "source": [
        "sns.scatterplot(x='predicted', y='residual', data=results)\n",
        "plt.axhline(0, c='red')\n",
        "plt.title('Plot residual terhadap nilai prediksi')\n",
        "plt.xlabel('predicted value')\n",
        "plt.ylabel('residual value')\n",
        "# Sesuaikan tata letak dan simpan gambar\n",
        "plt.tight_layout()\n",
        "plt.savefig('data/Plotresidualprediksi.png', dpi=300)\n",
        "\n",
        "plt.show()"
      ]
    },
    {
      "cell_type": "code",
      "execution_count": 182,
      "id": "63efefde",
      "metadata": {
        "colab": {
          "base_uri": "https://localhost:8080/"
        },
        "execution": {
          "iopub.execute_input": "2024-07-26T10:56:29.956916Z",
          "iopub.status.busy": "2024-07-26T10:56:29.956519Z",
          "iopub.status.idle": "2024-07-26T10:56:29.967340Z",
          "shell.execute_reply": "2024-07-26T10:56:29.965870Z"
        },
        "id": "63efefde",
        "outputId": "3c1d81eb-ca4b-44bc-d58f-64db80ff1e61",
        "papermill": {
          "duration": 0.070657,
          "end_time": "2024-07-26T10:56:29.969760",
          "exception": false,
          "start_time": "2024-07-26T10:56:29.899103",
          "status": "completed"
        },
        "tags": []
      },
      "outputs": [
        {
          "name": "stdout",
          "output_type": "stream",
          "text": [
            "1.4223114110654356\n",
            "2.081013325895216\n"
          ]
        }
      ],
      "source": [
        "print(X_train['distance_km'].std())\n",
        "\n",
        "# 2. Membagia koefisien model dengan standard deviation\n",
        "print(2.959849 / X_train['distance_km'].std())"
      ]
    },
    {
      "cell_type": "markdown",
      "id": "eb18c4c0",
      "metadata": {
        "id": "eb18c4c0",
        "papermill": {
          "duration": 0.055844,
          "end_time": "2024-07-26T10:56:30.081936",
          "exception": false,
          "start_time": "2024-07-26T10:56:30.026092",
          "status": "completed"
        },
        "tags": []
      },
      "source": [
        "### Finding from the LR model"
      ]
    },
    {
      "cell_type": "markdown",
      "id": "dff0ea80",
      "metadata": {
        "id": "dff0ea80",
        "papermill": {
          "duration": 0.060018,
          "end_time": "2024-07-26T10:56:30.199384",
          "exception": false,
          "start_time": "2024-07-26T10:56:30.139366",
          "status": "completed"
        },
        "tags": []
      },
      "source": [
        "Jadi, menurut data, untuk setiap 1,42 km perjalanan, tarif meningkat rata-rata sebesar 2,95 dolar, atau untuk setiap 1 km perjalanan, tarif meningkat rata-rata sebesar 2,08 dolar."
      ]
    },
    {
      "cell_type": "markdown",
      "id": "aa7fb483",
      "metadata": {
        "id": "aa7fb483",
        "papermill": {
          "duration": 0.056109,
          "end_time": "2024-07-26T10:56:30.312343",
          "exception": false,
          "start_time": "2024-07-26T10:56:30.256234",
          "status": "completed"
        },
        "tags": []
      },
      "source": [
        "## Training Model for prediction purpose"
      ]
    },
    {
      "cell_type": "code",
      "execution_count": 183,
      "id": "d83e1b33",
      "metadata": {
        "execution": {
          "iopub.execute_input": "2024-07-26T10:56:30.449066Z",
          "iopub.status.busy": "2024-07-26T10:56:30.448420Z",
          "iopub.status.idle": "2024-07-26T10:56:30.808214Z",
          "shell.execute_reply": "2024-07-26T10:56:30.806964Z"
        },
        "id": "d83e1b33",
        "papermill": {
          "duration": 0.437349,
          "end_time": "2024-07-26T10:56:30.810876",
          "exception": false,
          "start_time": "2024-07-26T10:56:30.373527",
          "status": "completed"
        },
        "tags": []
      },
      "outputs": [],
      "source": [
        "from sklearn.model_selection import GridSearchCV\n",
        "from sklearn.metrics import accuracy_score\n",
        "from sklearn.ensemble import RandomForestRegressor\n",
        "from xgboost import XGBRegressor\n",
        "\n",
        "from xgboost import plot_importance"
      ]
    },
    {
      "cell_type": "code",
      "execution_count": 184,
      "id": "b427beb2",
      "metadata": {
        "colab": {
          "base_uri": "https://localhost:8080/",
          "height": 313
        },
        "execution": {
          "iopub.execute_input": "2024-07-26T10:56:30.925419Z",
          "iopub.status.busy": "2024-07-26T10:56:30.925006Z",
          "iopub.status.idle": "2024-07-26T10:56:30.941836Z",
          "shell.execute_reply": "2024-07-26T10:56:30.940780Z"
        },
        "id": "b427beb2",
        "outputId": "7df78f61-6bac-4cf2-8f6b-d73ebf1227a2",
        "papermill": {
          "duration": 0.076612,
          "end_time": "2024-07-26T10:56:30.944006",
          "exception": false,
          "start_time": "2024-07-26T10:56:30.867394",
          "status": "completed"
        },
        "tags": []
      },
      "outputs": [
        {
          "data": {
            "text/html": [
              "<div>\n",
              "<style scoped>\n",
              "    .dataframe tbody tr th:only-of-type {\n",
              "        vertical-align: middle;\n",
              "    }\n",
              "\n",
              "    .dataframe tbody tr th {\n",
              "        vertical-align: top;\n",
              "    }\n",
              "\n",
              "    .dataframe thead th {\n",
              "        text-align: right;\n",
              "    }\n",
              "</style>\n",
              "<table border=\"1\" class=\"dataframe\">\n",
              "  <thead>\n",
              "    <tr style=\"text-align: right;\">\n",
              "      <th></th>\n",
              "      <th>Id</th>\n",
              "      <th>fare_amount</th>\n",
              "      <th>pickup_datetime</th>\n",
              "      <th>pickup_longitude</th>\n",
              "      <th>pickup_latitude</th>\n",
              "      <th>dropoff_longitude</th>\n",
              "      <th>dropoff_latitude</th>\n",
              "      <th>passenger_count</th>\n",
              "      <th>distance_km</th>\n",
              "      <th>month</th>\n",
              "      <th>day</th>\n",
              "      <th>rush_hour</th>\n",
              "    </tr>\n",
              "  </thead>\n",
              "  <tbody>\n",
              "    <tr>\n",
              "      <th>0</th>\n",
              "      <td>24238194</td>\n",
              "      <td>7.5</td>\n",
              "      <td>2015-05-07 19:52:06+00:00</td>\n",
              "      <td>-73.999817</td>\n",
              "      <td>40.738354</td>\n",
              "      <td>-73.999512</td>\n",
              "      <td>40.723217</td>\n",
              "      <td>1</td>\n",
              "      <td>1.683323</td>\n",
              "      <td>may</td>\n",
              "      <td>thursday</td>\n",
              "      <td>1</td>\n",
              "    </tr>\n",
              "    <tr>\n",
              "      <th>1</th>\n",
              "      <td>27835199</td>\n",
              "      <td>7.7</td>\n",
              "      <td>2009-07-17 20:04:56+00:00</td>\n",
              "      <td>-73.994355</td>\n",
              "      <td>40.728225</td>\n",
              "      <td>-73.994710</td>\n",
              "      <td>40.750325</td>\n",
              "      <td>1</td>\n",
              "      <td>2.457590</td>\n",
              "      <td>jul</td>\n",
              "      <td>friday</td>\n",
              "      <td>0</td>\n",
              "    </tr>\n",
              "    <tr>\n",
              "      <th>2</th>\n",
              "      <td>44984355</td>\n",
              "      <td>12.9</td>\n",
              "      <td>2009-08-24 21:45:00+00:00</td>\n",
              "      <td>-74.005043</td>\n",
              "      <td>40.740770</td>\n",
              "      <td>-73.962565</td>\n",
              "      <td>40.772647</td>\n",
              "      <td>1</td>\n",
              "      <td>5.036377</td>\n",
              "      <td>aug</td>\n",
              "      <td>monday</td>\n",
              "      <td>0</td>\n",
              "    </tr>\n",
              "    <tr>\n",
              "      <th>3</th>\n",
              "      <td>25894730</td>\n",
              "      <td>5.3</td>\n",
              "      <td>2009-06-26 08:22:21+00:00</td>\n",
              "      <td>-73.976124</td>\n",
              "      <td>40.790844</td>\n",
              "      <td>-73.965316</td>\n",
              "      <td>40.803349</td>\n",
              "      <td>3</td>\n",
              "      <td>1.661683</td>\n",
              "      <td>jun</td>\n",
              "      <td>friday</td>\n",
              "      <td>1</td>\n",
              "    </tr>\n",
              "    <tr>\n",
              "      <th>5</th>\n",
              "      <td>44470845</td>\n",
              "      <td>4.9</td>\n",
              "      <td>2011-02-12 02:27:09+00:00</td>\n",
              "      <td>-73.969019</td>\n",
              "      <td>40.755910</td>\n",
              "      <td>-73.969019</td>\n",
              "      <td>40.755910</td>\n",
              "      <td>1</td>\n",
              "      <td>0.000000</td>\n",
              "      <td>feb</td>\n",
              "      <td>saturday</td>\n",
              "      <td>0</td>\n",
              "    </tr>\n",
              "  </tbody>\n",
              "</table>\n",
              "</div>"
            ],
            "text/plain": [
              "         Id  fare_amount           pickup_datetime  pickup_longitude  \\\n",
              "0  24238194          7.5 2015-05-07 19:52:06+00:00        -73.999817   \n",
              "1  27835199          7.7 2009-07-17 20:04:56+00:00        -73.994355   \n",
              "2  44984355         12.9 2009-08-24 21:45:00+00:00        -74.005043   \n",
              "3  25894730          5.3 2009-06-26 08:22:21+00:00        -73.976124   \n",
              "5  44470845          4.9 2011-02-12 02:27:09+00:00        -73.969019   \n",
              "\n",
              "   pickup_latitude  dropoff_longitude  dropoff_latitude  passenger_count  \\\n",
              "0        40.738354         -73.999512         40.723217                1   \n",
              "1        40.728225         -73.994710         40.750325                1   \n",
              "2        40.740770         -73.962565         40.772647                1   \n",
              "3        40.790844         -73.965316         40.803349                3   \n",
              "5        40.755910         -73.969019         40.755910                1   \n",
              "\n",
              "   distance_km month       day  rush_hour  \n",
              "0     1.683323   may  thursday          1  \n",
              "1     2.457590   jul    friday          0  \n",
              "2     5.036377   aug    monday          0  \n",
              "3     1.661683   jun    friday          1  \n",
              "5     0.000000   feb  saturday          0  "
            ]
          },
          "execution_count": 184,
          "metadata": {},
          "output_type": "execute_result"
        }
      ],
      "source": [
        "df1.head()"
      ]
    },
    {
      "cell_type": "markdown",
      "id": "f0e54557",
      "metadata": {
        "id": "f0e54557",
        "papermill": {
          "duration": 0.056171,
          "end_time": "2024-07-26T10:56:31.057623",
          "exception": false,
          "start_time": "2024-07-26T10:56:31.001452",
          "status": "completed"
        },
        "tags": []
      },
      "source": [
        "### Feature Engineering"
      ]
    },
    {
      "cell_type": "code",
      "execution_count": 185,
      "id": "af05216f",
      "metadata": {
        "execution": {
          "iopub.execute_input": "2024-07-26T10:56:31.170789Z",
          "iopub.status.busy": "2024-07-26T10:56:31.170411Z",
          "iopub.status.idle": "2024-07-26T10:56:31.209976Z",
          "shell.execute_reply": "2024-07-26T10:56:31.208828Z"
        },
        "id": "af05216f",
        "papermill": {
          "duration": 0.099326,
          "end_time": "2024-07-26T10:56:31.212609",
          "exception": false,
          "start_time": "2024-07-26T10:56:31.113283",
          "status": "completed"
        },
        "tags": []
      },
      "outputs": [],
      "source": [
        "# membuat kolom 'am_rush'\n",
        "df1['am_rush'] = df1['pickup_datetime'].dt.hour\n",
        "\n",
        "# membuat kolom 'daytime'\n",
        "df1['daytime'] = df1['pickup_datetime'].dt.hour\n",
        "\n",
        "# membuat kolom 'pm_rush'\n",
        "df1['pm_rush'] = df1['pickup_datetime'].dt.hour\n",
        "\n",
        "# membuat kolom 'nighttime'\n",
        "df1['nighttime'] = df1['pickup_datetime'].dt.hour"
      ]
    },
    {
      "cell_type": "code",
      "execution_count": 186,
      "id": "1bc3c8b0",
      "metadata": {
        "execution": {
          "iopub.execute_input": "2024-07-26T10:56:31.327078Z",
          "iopub.status.busy": "2024-07-26T10:56:31.326670Z",
          "iopub.status.idle": "2024-07-26T10:56:31.332372Z",
          "shell.execute_reply": "2024-07-26T10:56:31.331267Z"
        },
        "id": "1bc3c8b0",
        "papermill": {
          "duration": 0.065785,
          "end_time": "2024-07-26T10:56:31.334954",
          "exception": false,
          "start_time": "2024-07-26T10:56:31.269169",
          "status": "completed"
        },
        "tags": []
      },
      "outputs": [],
      "source": [
        "def am_rush(hour):\n",
        "    if 6 <= hour['am_rush'] < 10:\n",
        "        val = 1\n",
        "    else:\n",
        "        val = 0\n",
        "    return val"
      ]
    },
    {
      "cell_type": "code",
      "execution_count": 187,
      "id": "c073551a",
      "metadata": {
        "execution": {
          "iopub.execute_input": "2024-07-26T10:56:31.450567Z",
          "iopub.status.busy": "2024-07-26T10:56:31.450171Z",
          "iopub.status.idle": "2024-07-26T10:56:33.247608Z",
          "shell.execute_reply": "2024-07-26T10:56:33.246160Z"
        },
        "id": "c073551a",
        "papermill": {
          "duration": 1.859214,
          "end_time": "2024-07-26T10:56:33.250431",
          "exception": false,
          "start_time": "2024-07-26T10:56:31.391217",
          "status": "completed"
        },
        "tags": []
      },
      "outputs": [],
      "source": [
        "df1['am_rush'] = df1.apply(am_rush, axis=1)"
      ]
    },
    {
      "cell_type": "code",
      "execution_count": 188,
      "id": "263d74ea",
      "metadata": {
        "execution": {
          "iopub.execute_input": "2024-07-26T10:56:33.365303Z",
          "iopub.status.busy": "2024-07-26T10:56:33.364911Z",
          "iopub.status.idle": "2024-07-26T10:56:33.370311Z",
          "shell.execute_reply": "2024-07-26T10:56:33.369088Z"
        },
        "id": "263d74ea",
        "papermill": {
          "duration": 0.065324,
          "end_time": "2024-07-26T10:56:33.372635",
          "exception": false,
          "start_time": "2024-07-26T10:56:33.307311",
          "status": "completed"
        },
        "tags": []
      },
      "outputs": [],
      "source": [
        "def daytime(hour):\n",
        "    if 10 <= hour['daytime'] < 16:\n",
        "        val = 1\n",
        "    else:\n",
        "        val = 0\n",
        "    return val"
      ]
    },
    {
      "cell_type": "code",
      "execution_count": 189,
      "id": "9142717f",
      "metadata": {
        "execution": {
          "iopub.execute_input": "2024-07-26T10:56:33.490207Z",
          "iopub.status.busy": "2024-07-26T10:56:33.489820Z",
          "iopub.status.idle": "2024-07-26T10:56:35.046611Z",
          "shell.execute_reply": "2024-07-26T10:56:35.045461Z"
        },
        "id": "9142717f",
        "papermill": {
          "duration": 1.618408,
          "end_time": "2024-07-26T10:56:35.049201",
          "exception": false,
          "start_time": "2024-07-26T10:56:33.430793",
          "status": "completed"
        },
        "tags": []
      },
      "outputs": [],
      "source": [
        "df1['daytime'] = df1.apply(daytime, axis=1)"
      ]
    },
    {
      "cell_type": "code",
      "execution_count": 190,
      "id": "92216442",
      "metadata": {
        "execution": {
          "iopub.execute_input": "2024-07-26T10:56:35.164498Z",
          "iopub.status.busy": "2024-07-26T10:56:35.164100Z",
          "iopub.status.idle": "2024-07-26T10:56:35.169979Z",
          "shell.execute_reply": "2024-07-26T10:56:35.168636Z"
        },
        "id": "92216442",
        "papermill": {
          "duration": 0.066399,
          "end_time": "2024-07-26T10:56:35.172222",
          "exception": false,
          "start_time": "2024-07-26T10:56:35.105823",
          "status": "completed"
        },
        "tags": []
      },
      "outputs": [],
      "source": [
        "def pm_rush(hour):\n",
        "    if 16 <= hour['pm_rush'] < 20:\n",
        "        val = 1\n",
        "    else:\n",
        "        val = 0\n",
        "    return val"
      ]
    },
    {
      "cell_type": "code",
      "execution_count": 191,
      "id": "3bee2c2b",
      "metadata": {
        "execution": {
          "iopub.execute_input": "2024-07-26T10:56:35.287163Z",
          "iopub.status.busy": "2024-07-26T10:56:35.286170Z",
          "iopub.status.idle": "2024-07-26T10:56:36.946271Z",
          "shell.execute_reply": "2024-07-26T10:56:36.945379Z"
        },
        "id": "3bee2c2b",
        "papermill": {
          "duration": 1.720155,
          "end_time": "2024-07-26T10:56:36.948777",
          "exception": false,
          "start_time": "2024-07-26T10:56:35.228622",
          "status": "completed"
        },
        "tags": []
      },
      "outputs": [],
      "source": [
        "df1['pm_rush'] = df1.apply(pm_rush, axis=1)"
      ]
    },
    {
      "cell_type": "code",
      "execution_count": 192,
      "id": "66897868",
      "metadata": {
        "execution": {
          "iopub.execute_input": "2024-07-26T10:56:37.062952Z",
          "iopub.status.busy": "2024-07-26T10:56:37.062479Z",
          "iopub.status.idle": "2024-07-26T10:56:37.068606Z",
          "shell.execute_reply": "2024-07-26T10:56:37.067393Z"
        },
        "id": "66897868",
        "papermill": {
          "duration": 0.066477,
          "end_time": "2024-07-26T10:56:37.071096",
          "exception": false,
          "start_time": "2024-07-26T10:56:37.004619",
          "status": "completed"
        },
        "tags": []
      },
      "outputs": [],
      "source": [
        "def nighttime(hour):\n",
        "    if 20 <= hour['nighttime'] < 24:\n",
        "        val = 1\n",
        "    elif 0 <= hour['nighttime'] < 6:\n",
        "        val = 1\n",
        "    else:\n",
        "        val = 0\n",
        "    return val"
      ]
    },
    {
      "cell_type": "code",
      "execution_count": 193,
      "id": "50b42f51",
      "metadata": {
        "execution": {
          "iopub.execute_input": "2024-07-26T10:56:37.185985Z",
          "iopub.status.busy": "2024-07-26T10:56:37.185205Z",
          "iopub.status.idle": "2024-07-26T10:56:39.128905Z",
          "shell.execute_reply": "2024-07-26T10:56:39.127884Z"
        },
        "id": "50b42f51",
        "papermill": {
          "duration": 2.003908,
          "end_time": "2024-07-26T10:56:39.131466",
          "exception": false,
          "start_time": "2024-07-26T10:56:37.127558",
          "status": "completed"
        },
        "tags": []
      },
      "outputs": [],
      "source": [
        "df1['nighttime'] = df1.apply(nighttime, axis=1)"
      ]
    },
    {
      "cell_type": "code",
      "execution_count": 194,
      "id": "1371ed15",
      "metadata": {
        "colab": {
          "base_uri": "https://localhost:8080/",
          "height": 313
        },
        "execution": {
          "iopub.execute_input": "2024-07-26T10:56:39.246289Z",
          "iopub.status.busy": "2024-07-26T10:56:39.245920Z",
          "iopub.status.idle": "2024-07-26T10:56:39.263984Z",
          "shell.execute_reply": "2024-07-26T10:56:39.262799Z"
        },
        "id": "1371ed15",
        "outputId": "72f42883-b90c-4b42-82cc-21b377660c08",
        "papermill": {
          "duration": 0.077969,
          "end_time": "2024-07-26T10:56:39.266228",
          "exception": false,
          "start_time": "2024-07-26T10:56:39.188259",
          "status": "completed"
        },
        "tags": []
      },
      "outputs": [
        {
          "data": {
            "text/html": [
              "<div>\n",
              "<style scoped>\n",
              "    .dataframe tbody tr th:only-of-type {\n",
              "        vertical-align: middle;\n",
              "    }\n",
              "\n",
              "    .dataframe tbody tr th {\n",
              "        vertical-align: top;\n",
              "    }\n",
              "\n",
              "    .dataframe thead th {\n",
              "        text-align: right;\n",
              "    }\n",
              "</style>\n",
              "<table border=\"1\" class=\"dataframe\">\n",
              "  <thead>\n",
              "    <tr style=\"text-align: right;\">\n",
              "      <th></th>\n",
              "      <th>Id</th>\n",
              "      <th>fare_amount</th>\n",
              "      <th>pickup_datetime</th>\n",
              "      <th>pickup_longitude</th>\n",
              "      <th>pickup_latitude</th>\n",
              "      <th>dropoff_longitude</th>\n",
              "      <th>dropoff_latitude</th>\n",
              "      <th>passenger_count</th>\n",
              "      <th>distance_km</th>\n",
              "      <th>month</th>\n",
              "      <th>day</th>\n",
              "      <th>rush_hour</th>\n",
              "      <th>am_rush</th>\n",
              "      <th>daytime</th>\n",
              "      <th>pm_rush</th>\n",
              "      <th>nighttime</th>\n",
              "    </tr>\n",
              "  </thead>\n",
              "  <tbody>\n",
              "    <tr>\n",
              "      <th>0</th>\n",
              "      <td>24238194</td>\n",
              "      <td>7.5</td>\n",
              "      <td>2015-05-07 19:52:06+00:00</td>\n",
              "      <td>-73.999817</td>\n",
              "      <td>40.738354</td>\n",
              "      <td>-73.999512</td>\n",
              "      <td>40.723217</td>\n",
              "      <td>1</td>\n",
              "      <td>1.683323</td>\n",
              "      <td>may</td>\n",
              "      <td>thursday</td>\n",
              "      <td>1</td>\n",
              "      <td>0</td>\n",
              "      <td>0</td>\n",
              "      <td>1</td>\n",
              "      <td>0</td>\n",
              "    </tr>\n",
              "    <tr>\n",
              "      <th>1</th>\n",
              "      <td>27835199</td>\n",
              "      <td>7.7</td>\n",
              "      <td>2009-07-17 20:04:56+00:00</td>\n",
              "      <td>-73.994355</td>\n",
              "      <td>40.728225</td>\n",
              "      <td>-73.994710</td>\n",
              "      <td>40.750325</td>\n",
              "      <td>1</td>\n",
              "      <td>2.457590</td>\n",
              "      <td>jul</td>\n",
              "      <td>friday</td>\n",
              "      <td>0</td>\n",
              "      <td>0</td>\n",
              "      <td>0</td>\n",
              "      <td>0</td>\n",
              "      <td>1</td>\n",
              "    </tr>\n",
              "    <tr>\n",
              "      <th>2</th>\n",
              "      <td>44984355</td>\n",
              "      <td>12.9</td>\n",
              "      <td>2009-08-24 21:45:00+00:00</td>\n",
              "      <td>-74.005043</td>\n",
              "      <td>40.740770</td>\n",
              "      <td>-73.962565</td>\n",
              "      <td>40.772647</td>\n",
              "      <td>1</td>\n",
              "      <td>5.036377</td>\n",
              "      <td>aug</td>\n",
              "      <td>monday</td>\n",
              "      <td>0</td>\n",
              "      <td>0</td>\n",
              "      <td>0</td>\n",
              "      <td>0</td>\n",
              "      <td>1</td>\n",
              "    </tr>\n",
              "    <tr>\n",
              "      <th>3</th>\n",
              "      <td>25894730</td>\n",
              "      <td>5.3</td>\n",
              "      <td>2009-06-26 08:22:21+00:00</td>\n",
              "      <td>-73.976124</td>\n",
              "      <td>40.790844</td>\n",
              "      <td>-73.965316</td>\n",
              "      <td>40.803349</td>\n",
              "      <td>3</td>\n",
              "      <td>1.661683</td>\n",
              "      <td>jun</td>\n",
              "      <td>friday</td>\n",
              "      <td>1</td>\n",
              "      <td>1</td>\n",
              "      <td>0</td>\n",
              "      <td>0</td>\n",
              "      <td>0</td>\n",
              "    </tr>\n",
              "    <tr>\n",
              "      <th>5</th>\n",
              "      <td>44470845</td>\n",
              "      <td>4.9</td>\n",
              "      <td>2011-02-12 02:27:09+00:00</td>\n",
              "      <td>-73.969019</td>\n",
              "      <td>40.755910</td>\n",
              "      <td>-73.969019</td>\n",
              "      <td>40.755910</td>\n",
              "      <td>1</td>\n",
              "      <td>0.000000</td>\n",
              "      <td>feb</td>\n",
              "      <td>saturday</td>\n",
              "      <td>0</td>\n",
              "      <td>0</td>\n",
              "      <td>0</td>\n",
              "      <td>0</td>\n",
              "      <td>1</td>\n",
              "    </tr>\n",
              "  </tbody>\n",
              "</table>\n",
              "</div>"
            ],
            "text/plain": [
              "         Id  fare_amount           pickup_datetime  pickup_longitude  \\\n",
              "0  24238194          7.5 2015-05-07 19:52:06+00:00        -73.999817   \n",
              "1  27835199          7.7 2009-07-17 20:04:56+00:00        -73.994355   \n",
              "2  44984355         12.9 2009-08-24 21:45:00+00:00        -74.005043   \n",
              "3  25894730          5.3 2009-06-26 08:22:21+00:00        -73.976124   \n",
              "5  44470845          4.9 2011-02-12 02:27:09+00:00        -73.969019   \n",
              "\n",
              "   pickup_latitude  dropoff_longitude  dropoff_latitude  passenger_count  \\\n",
              "0        40.738354         -73.999512         40.723217                1   \n",
              "1        40.728225         -73.994710         40.750325                1   \n",
              "2        40.740770         -73.962565         40.772647                1   \n",
              "3        40.790844         -73.965316         40.803349                3   \n",
              "5        40.755910         -73.969019         40.755910                1   \n",
              "\n",
              "   distance_km month       day  rush_hour  am_rush  daytime  pm_rush  \\\n",
              "0     1.683323   may  thursday          1        0        0        1   \n",
              "1     2.457590   jul    friday          0        0        0        0   \n",
              "2     5.036377   aug    monday          0        0        0        0   \n",
              "3     1.661683   jun    friday          1        1        0        0   \n",
              "5     0.000000   feb  saturday          0        0        0        0   \n",
              "\n",
              "   nighttime  \n",
              "0          0  \n",
              "1          1  \n",
              "2          1  \n",
              "3          0  \n",
              "5          1  "
            ]
          },
          "execution_count": 194,
          "metadata": {},
          "output_type": "execute_result"
        }
      ],
      "source": [
        "df1.head()"
      ]
    },
    {
      "cell_type": "code",
      "execution_count": 195,
      "id": "23af71b6",
      "metadata": {
        "colab": {
          "base_uri": "https://localhost:8080/",
          "height": 206
        },
        "execution": {
          "iopub.execute_input": "2024-07-26T10:56:39.382681Z",
          "iopub.status.busy": "2024-07-26T10:56:39.381763Z",
          "iopub.status.idle": "2024-07-26T10:56:39.404388Z",
          "shell.execute_reply": "2024-07-26T10:56:39.403357Z"
        },
        "id": "23af71b6",
        "outputId": "af1a8bf8-b6e5-4970-db24-26e5f5957b6c",
        "papermill": {
          "duration": 0.083756,
          "end_time": "2024-07-26T10:56:39.406707",
          "exception": false,
          "start_time": "2024-07-26T10:56:39.322951",
          "status": "completed"
        },
        "tags": []
      },
      "outputs": [
        {
          "data": {
            "text/html": [
              "<div>\n",
              "<style scoped>\n",
              "    .dataframe tbody tr th:only-of-type {\n",
              "        vertical-align: middle;\n",
              "    }\n",
              "\n",
              "    .dataframe tbody tr th {\n",
              "        vertical-align: top;\n",
              "    }\n",
              "\n",
              "    .dataframe thead th {\n",
              "        text-align: right;\n",
              "    }\n",
              "</style>\n",
              "<table border=\"1\" class=\"dataframe\">\n",
              "  <thead>\n",
              "    <tr style=\"text-align: right;\">\n",
              "      <th></th>\n",
              "      <th>fare_amount</th>\n",
              "      <th>passenger_count</th>\n",
              "      <th>distance_km</th>\n",
              "      <th>month</th>\n",
              "      <th>day</th>\n",
              "      <th>am_rush</th>\n",
              "      <th>daytime</th>\n",
              "      <th>pm_rush</th>\n",
              "      <th>nighttime</th>\n",
              "    </tr>\n",
              "  </thead>\n",
              "  <tbody>\n",
              "    <tr>\n",
              "      <th>0</th>\n",
              "      <td>7.5</td>\n",
              "      <td>1</td>\n",
              "      <td>1.683323</td>\n",
              "      <td>may</td>\n",
              "      <td>thursday</td>\n",
              "      <td>0</td>\n",
              "      <td>0</td>\n",
              "      <td>1</td>\n",
              "      <td>0</td>\n",
              "    </tr>\n",
              "    <tr>\n",
              "      <th>1</th>\n",
              "      <td>7.7</td>\n",
              "      <td>1</td>\n",
              "      <td>2.457590</td>\n",
              "      <td>jul</td>\n",
              "      <td>friday</td>\n",
              "      <td>0</td>\n",
              "      <td>0</td>\n",
              "      <td>0</td>\n",
              "      <td>1</td>\n",
              "    </tr>\n",
              "    <tr>\n",
              "      <th>2</th>\n",
              "      <td>12.9</td>\n",
              "      <td>1</td>\n",
              "      <td>5.036377</td>\n",
              "      <td>aug</td>\n",
              "      <td>monday</td>\n",
              "      <td>0</td>\n",
              "      <td>0</td>\n",
              "      <td>0</td>\n",
              "      <td>1</td>\n",
              "    </tr>\n",
              "    <tr>\n",
              "      <th>3</th>\n",
              "      <td>5.3</td>\n",
              "      <td>3</td>\n",
              "      <td>1.661683</td>\n",
              "      <td>jun</td>\n",
              "      <td>friday</td>\n",
              "      <td>1</td>\n",
              "      <td>0</td>\n",
              "      <td>0</td>\n",
              "      <td>0</td>\n",
              "    </tr>\n",
              "    <tr>\n",
              "      <th>5</th>\n",
              "      <td>4.9</td>\n",
              "      <td>1</td>\n",
              "      <td>0.000000</td>\n",
              "      <td>feb</td>\n",
              "      <td>saturday</td>\n",
              "      <td>0</td>\n",
              "      <td>0</td>\n",
              "      <td>0</td>\n",
              "      <td>1</td>\n",
              "    </tr>\n",
              "  </tbody>\n",
              "</table>\n",
              "</div>"
            ],
            "text/plain": [
              "   fare_amount  passenger_count  distance_km month       day  am_rush  \\\n",
              "0          7.5                1     1.683323   may  thursday        0   \n",
              "1          7.7                1     2.457590   jul    friday        0   \n",
              "2         12.9                1     5.036377   aug    monday        0   \n",
              "3          5.3                3     1.661683   jun    friday        1   \n",
              "5          4.9                1     0.000000   feb  saturday        0   \n",
              "\n",
              "   daytime  pm_rush  nighttime  \n",
              "0        0        1          0  \n",
              "1        0        0          1  \n",
              "2        0        0          1  \n",
              "3        0        0          0  \n",
              "5        0        0          1  "
            ]
          },
          "execution_count": 195,
          "metadata": {},
          "output_type": "execute_result"
        }
      ],
      "source": [
        "drop_columns = ['Id','pickup_datetime','pickup_longitude','pickup_latitude','dropoff_longitude','dropoff_latitude','rush_hour']\n",
        "df1 = df1.drop(drop_columns,axis=1)\n",
        "df1.head()"
      ]
    },
    {
      "cell_type": "code",
      "execution_count": 196,
      "id": "9711bdf7",
      "metadata": {
        "colab": {
          "base_uri": "https://localhost:8080/"
        },
        "execution": {
          "iopub.execute_input": "2024-07-26T10:56:39.523783Z",
          "iopub.status.busy": "2024-07-26T10:56:39.523422Z",
          "iopub.status.idle": "2024-07-26T10:56:39.592503Z",
          "shell.execute_reply": "2024-07-26T10:56:39.591495Z"
        },
        "id": "9711bdf7",
        "outputId": "7914c335-bca5-4bcc-a542-7b3336e33322",
        "papermill": {
          "duration": 0.12951,
          "end_time": "2024-07-26T10:56:39.594861",
          "exception": false,
          "start_time": "2024-07-26T10:56:39.465351",
          "status": "completed"
        },
        "tags": []
      },
      "outputs": [
        {
          "name": "stdout",
          "output_type": "stream",
          "text": [
            "<class 'pandas.core.frame.DataFrame'>\n",
            "Index: 154869 entries, 0 to 199999\n",
            "Data columns (total 24 columns):\n",
            " #   Column           Non-Null Count   Dtype  \n",
            "---  ------           --------------   -----  \n",
            " 0   fare_amount      154869 non-null  float64\n",
            " 1   passenger_count  154869 non-null  int64  \n",
            " 2   distance_km      154869 non-null  float64\n",
            " 3   am_rush          154869 non-null  int64  \n",
            " 4   daytime          154869 non-null  int64  \n",
            " 5   pm_rush          154869 non-null  int64  \n",
            " 6   nighttime        154869 non-null  int64  \n",
            " 7   month_aug        154869 non-null  bool   \n",
            " 8   month_dec        154869 non-null  bool   \n",
            " 9   month_feb        154869 non-null  bool   \n",
            " 10  month_jan        154869 non-null  bool   \n",
            " 11  month_jul        154869 non-null  bool   \n",
            " 12  month_jun        154869 non-null  bool   \n",
            " 13  month_mar        154869 non-null  bool   \n",
            " 14  month_may        154869 non-null  bool   \n",
            " 15  month_nov        154869 non-null  bool   \n",
            " 16  month_oct        154869 non-null  bool   \n",
            " 17  month_sep        154869 non-null  bool   \n",
            " 18  day_monday       154869 non-null  bool   \n",
            " 19  day_saturday     154869 non-null  bool   \n",
            " 20  day_sunday       154869 non-null  bool   \n",
            " 21  day_thursday     154869 non-null  bool   \n",
            " 22  day_tuesday      154869 non-null  bool   \n",
            " 23  day_wednesday    154869 non-null  bool   \n",
            "dtypes: bool(17), float64(2), int64(5)\n",
            "memory usage: 16.0 MB\n"
          ]
        }
      ],
      "source": [
        "df1 = pd.get_dummies(df1, drop_first=True)\n",
        "df1.info()"
      ]
    },
    {
      "cell_type": "code",
      "execution_count": 197,
      "id": "241b69b6",
      "metadata": {
        "execution": {
          "iopub.execute_input": "2024-07-26T10:56:39.712779Z",
          "iopub.status.busy": "2024-07-26T10:56:39.712413Z",
          "iopub.status.idle": "2024-07-26T10:56:39.721690Z",
          "shell.execute_reply": "2024-07-26T10:56:39.720677Z"
        },
        "id": "241b69b6",
        "papermill": {
          "duration": 0.070583,
          "end_time": "2024-07-26T10:56:39.724160",
          "exception": false,
          "start_time": "2024-07-26T10:56:39.653577",
          "status": "completed"
        },
        "tags": []
      },
      "outputs": [],
      "source": [
        "X = df1.drop(['fare_amount'],axis=1)\n",
        "y = df1[['fare_amount']]"
      ]
    },
    {
      "cell_type": "code",
      "execution_count": 198,
      "id": "6ca70063",
      "metadata": {
        "execution": {
          "iopub.execute_input": "2024-07-26T10:56:39.842281Z",
          "iopub.status.busy": "2024-07-26T10:56:39.841350Z",
          "iopub.status.idle": "2024-07-26T10:56:39.870255Z",
          "shell.execute_reply": "2024-07-26T10:56:39.869119Z"
        },
        "id": "6ca70063",
        "papermill": {
          "duration": 0.090832,
          "end_time": "2024-07-26T10:56:39.872869",
          "exception": false,
          "start_time": "2024-07-26T10:56:39.782037",
          "status": "completed"
        },
        "tags": []
      },
      "outputs": [],
      "source": [
        "X_train,X_test, y_train,y_test = train_test_split(X,y,test_size=0.3,random_state=42)"
      ]
    },
    {
      "cell_type": "code",
      "execution_count": 199,
      "id": "5932609f",
      "metadata": {
        "colab": {
          "base_uri": "https://localhost:8080/"
        },
        "execution": {
          "iopub.execute_input": "2024-07-26T10:56:39.989530Z",
          "iopub.status.busy": "2024-07-26T10:56:39.989134Z",
          "iopub.status.idle": "2024-07-26T10:56:39.996092Z",
          "shell.execute_reply": "2024-07-26T10:56:39.995069Z"
        },
        "id": "5932609f",
        "outputId": "a3ec84e8-3a89-4d40-9ba9-e6541a8948be",
        "papermill": {
          "duration": 0.067873,
          "end_time": "2024-07-26T10:56:39.998311",
          "exception": false,
          "start_time": "2024-07-26T10:56:39.930438",
          "status": "completed"
        },
        "tags": []
      },
      "outputs": [
        {
          "data": {
            "text/plain": [
              "(108408, 23)"
            ]
          },
          "execution_count": 199,
          "metadata": {},
          "output_type": "execute_result"
        }
      ],
      "source": [
        "X_train.shape"
      ]
    },
    {
      "cell_type": "code",
      "execution_count": 200,
      "id": "47f93a76",
      "metadata": {
        "colab": {
          "base_uri": "https://localhost:8080/"
        },
        "execution": {
          "iopub.execute_input": "2024-07-26T10:56:40.118804Z",
          "iopub.status.busy": "2024-07-26T10:56:40.118407Z",
          "iopub.status.idle": "2024-07-26T10:56:40.125634Z",
          "shell.execute_reply": "2024-07-26T10:56:40.124281Z"
        },
        "id": "47f93a76",
        "outputId": "472c6f2d-76e8-4298-85ee-fb1eaeea2c7e",
        "papermill": {
          "duration": 0.071809,
          "end_time": "2024-07-26T10:56:40.128115",
          "exception": false,
          "start_time": "2024-07-26T10:56:40.056306",
          "status": "completed"
        },
        "tags": []
      },
      "outputs": [
        {
          "data": {
            "text/plain": [
              "(108408, 1)"
            ]
          },
          "execution_count": 200,
          "metadata": {},
          "output_type": "execute_result"
        }
      ],
      "source": [
        "y_train.shape"
      ]
    },
    {
      "cell_type": "markdown",
      "id": "12a0864c",
      "metadata": {
        "id": "12a0864c",
        "papermill": {
          "duration": 0.061365,
          "end_time": "2024-07-26T10:56:40.250583",
          "exception": false,
          "start_time": "2024-07-26T10:56:40.189218",
          "status": "completed"
        },
        "tags": []
      },
      "source": [
        "## Random Forest Model"
      ]
    },
    {
      "cell_type": "code",
      "execution_count": 201,
      "id": "02e3c79a",
      "metadata": {
        "colab": {
          "base_uri": "https://localhost:8080/",
          "height": 129
        },
        "execution": {
          "iopub.execute_input": "2024-07-26T10:56:40.378917Z",
          "iopub.status.busy": "2024-07-26T10:56:40.378530Z",
          "iopub.status.idle": "2024-07-26T10:56:40.383507Z",
          "shell.execute_reply": "2024-07-26T10:56:40.382381Z"
        },
        "id": "02e3c79a",
        "outputId": "f500f0bd-1e83-46e6-ab0e-3fd6caef3889",
        "papermill": {
          "duration": 0.076418,
          "end_time": "2024-07-26T10:56:40.385872",
          "exception": false,
          "start_time": "2024-07-26T10:56:40.309454",
          "status": "completed"
        },
        "tags": []
      },
      "outputs": [
        {
          "name": "stderr",
          "output_type": "stream",
          "text": [
            "/home/mayuka/.local/lib/python3.10/site-packages/sklearn/base.py:1473: DataConversionWarning: A column-vector y was passed when a 1d array was expected. Please change the shape of y to (n_samples,), for example using ravel().\n",
            "  return fit_method(estimator, *args, **kwargs)\n"
          ]
        },
        {
          "data": {
            "text/html": [
              "<style>#sk-container-id-6 {\n",
              "  /* Definition of color scheme common for light and dark mode */\n",
              "  --sklearn-color-text: black;\n",
              "  --sklearn-color-line: gray;\n",
              "  /* Definition of color scheme for unfitted estimators */\n",
              "  --sklearn-color-unfitted-level-0: #fff5e6;\n",
              "  --sklearn-color-unfitted-level-1: #f6e4d2;\n",
              "  --sklearn-color-unfitted-level-2: #ffe0b3;\n",
              "  --sklearn-color-unfitted-level-3: chocolate;\n",
              "  /* Definition of color scheme for fitted estimators */\n",
              "  --sklearn-color-fitted-level-0: #f0f8ff;\n",
              "  --sklearn-color-fitted-level-1: #d4ebff;\n",
              "  --sklearn-color-fitted-level-2: #b3dbfd;\n",
              "  --sklearn-color-fitted-level-3: cornflowerblue;\n",
              "\n",
              "  /* Specific color for light theme */\n",
              "  --sklearn-color-text-on-default-background: var(--sg-text-color, var(--theme-code-foreground, var(--jp-content-font-color1, black)));\n",
              "  --sklearn-color-background: var(--sg-background-color, var(--theme-background, var(--jp-layout-color0, white)));\n",
              "  --sklearn-color-border-box: var(--sg-text-color, var(--theme-code-foreground, var(--jp-content-font-color1, black)));\n",
              "  --sklearn-color-icon: #696969;\n",
              "\n",
              "  @media (prefers-color-scheme: dark) {\n",
              "    /* Redefinition of color scheme for dark theme */\n",
              "    --sklearn-color-text-on-default-background: var(--sg-text-color, var(--theme-code-foreground, var(--jp-content-font-color1, white)));\n",
              "    --sklearn-color-background: var(--sg-background-color, var(--theme-background, var(--jp-layout-color0, #111)));\n",
              "    --sklearn-color-border-box: var(--sg-text-color, var(--theme-code-foreground, var(--jp-content-font-color1, white)));\n",
              "    --sklearn-color-icon: #878787;\n",
              "  }\n",
              "}\n",
              "\n",
              "#sk-container-id-6 {\n",
              "  color: var(--sklearn-color-text);\n",
              "}\n",
              "\n",
              "#sk-container-id-6 pre {\n",
              "  padding: 0;\n",
              "}\n",
              "\n",
              "#sk-container-id-6 input.sk-hidden--visually {\n",
              "  border: 0;\n",
              "  clip: rect(1px 1px 1px 1px);\n",
              "  clip: rect(1px, 1px, 1px, 1px);\n",
              "  height: 1px;\n",
              "  margin: -1px;\n",
              "  overflow: hidden;\n",
              "  padding: 0;\n",
              "  position: absolute;\n",
              "  width: 1px;\n",
              "}\n",
              "\n",
              "#sk-container-id-6 div.sk-dashed-wrapped {\n",
              "  border: 1px dashed var(--sklearn-color-line);\n",
              "  margin: 0 0.4em 0.5em 0.4em;\n",
              "  box-sizing: border-box;\n",
              "  padding-bottom: 0.4em;\n",
              "  background-color: var(--sklearn-color-background);\n",
              "}\n",
              "\n",
              "#sk-container-id-6 div.sk-container {\n",
              "  /* jupyter's `normalize.less` sets `[hidden] { display: none; }`\n",
              "     but bootstrap.min.css set `[hidden] { display: none !important; }`\n",
              "     so we also need the `!important` here to be able to override the\n",
              "     default hidden behavior on the sphinx rendered scikit-learn.org.\n",
              "     See: https://github.com/scikit-learn/scikit-learn/issues/21755 */\n",
              "  display: inline-block !important;\n",
              "  position: relative;\n",
              "}\n",
              "\n",
              "#sk-container-id-6 div.sk-text-repr-fallback {\n",
              "  display: none;\n",
              "}\n",
              "\n",
              "div.sk-parallel-item,\n",
              "div.sk-serial,\n",
              "div.sk-item {\n",
              "  /* draw centered vertical line to link estimators */\n",
              "  background-image: linear-gradient(var(--sklearn-color-text-on-default-background), var(--sklearn-color-text-on-default-background));\n",
              "  background-size: 2px 100%;\n",
              "  background-repeat: no-repeat;\n",
              "  background-position: center center;\n",
              "}\n",
              "\n",
              "/* Parallel-specific style estimator block */\n",
              "\n",
              "#sk-container-id-6 div.sk-parallel-item::after {\n",
              "  content: \"\";\n",
              "  width: 100%;\n",
              "  border-bottom: 2px solid var(--sklearn-color-text-on-default-background);\n",
              "  flex-grow: 1;\n",
              "}\n",
              "\n",
              "#sk-container-id-6 div.sk-parallel {\n",
              "  display: flex;\n",
              "  align-items: stretch;\n",
              "  justify-content: center;\n",
              "  background-color: var(--sklearn-color-background);\n",
              "  position: relative;\n",
              "}\n",
              "\n",
              "#sk-container-id-6 div.sk-parallel-item {\n",
              "  display: flex;\n",
              "  flex-direction: column;\n",
              "}\n",
              "\n",
              "#sk-container-id-6 div.sk-parallel-item:first-child::after {\n",
              "  align-self: flex-end;\n",
              "  width: 50%;\n",
              "}\n",
              "\n",
              "#sk-container-id-6 div.sk-parallel-item:last-child::after {\n",
              "  align-self: flex-start;\n",
              "  width: 50%;\n",
              "}\n",
              "\n",
              "#sk-container-id-6 div.sk-parallel-item:only-child::after {\n",
              "  width: 0;\n",
              "}\n",
              "\n",
              "/* Serial-specific style estimator block */\n",
              "\n",
              "#sk-container-id-6 div.sk-serial {\n",
              "  display: flex;\n",
              "  flex-direction: column;\n",
              "  align-items: center;\n",
              "  background-color: var(--sklearn-color-background);\n",
              "  padding-right: 1em;\n",
              "  padding-left: 1em;\n",
              "}\n",
              "\n",
              "\n",
              "/* Toggleable style: style used for estimator/Pipeline/ColumnTransformer box that is\n",
              "clickable and can be expanded/collapsed.\n",
              "- Pipeline and ColumnTransformer use this feature and define the default style\n",
              "- Estimators will overwrite some part of the style using the `sk-estimator` class\n",
              "*/\n",
              "\n",
              "/* Pipeline and ColumnTransformer style (default) */\n",
              "\n",
              "#sk-container-id-6 div.sk-toggleable {\n",
              "  /* Default theme specific background. It is overwritten whether we have a\n",
              "  specific estimator or a Pipeline/ColumnTransformer */\n",
              "  background-color: var(--sklearn-color-background);\n",
              "}\n",
              "\n",
              "/* Toggleable label */\n",
              "#sk-container-id-6 label.sk-toggleable__label {\n",
              "  cursor: pointer;\n",
              "  display: block;\n",
              "  width: 100%;\n",
              "  margin-bottom: 0;\n",
              "  padding: 0.5em;\n",
              "  box-sizing: border-box;\n",
              "  text-align: center;\n",
              "}\n",
              "\n",
              "#sk-container-id-6 label.sk-toggleable__label-arrow:before {\n",
              "  /* Arrow on the left of the label */\n",
              "  content: \"▸\";\n",
              "  float: left;\n",
              "  margin-right: 0.25em;\n",
              "  color: var(--sklearn-color-icon);\n",
              "}\n",
              "\n",
              "#sk-container-id-6 label.sk-toggleable__label-arrow:hover:before {\n",
              "  color: var(--sklearn-color-text);\n",
              "}\n",
              "\n",
              "/* Toggleable content - dropdown */\n",
              "\n",
              "#sk-container-id-6 div.sk-toggleable__content {\n",
              "  max-height: 0;\n",
              "  max-width: 0;\n",
              "  overflow: hidden;\n",
              "  text-align: left;\n",
              "  /* unfitted */\n",
              "  background-color: var(--sklearn-color-unfitted-level-0);\n",
              "}\n",
              "\n",
              "#sk-container-id-6 div.sk-toggleable__content.fitted {\n",
              "  /* fitted */\n",
              "  background-color: var(--sklearn-color-fitted-level-0);\n",
              "}\n",
              "\n",
              "#sk-container-id-6 div.sk-toggleable__content pre {\n",
              "  margin: 0.2em;\n",
              "  border-radius: 0.25em;\n",
              "  color: var(--sklearn-color-text);\n",
              "  /* unfitted */\n",
              "  background-color: var(--sklearn-color-unfitted-level-0);\n",
              "}\n",
              "\n",
              "#sk-container-id-6 div.sk-toggleable__content.fitted pre {\n",
              "  /* unfitted */\n",
              "  background-color: var(--sklearn-color-fitted-level-0);\n",
              "}\n",
              "\n",
              "#sk-container-id-6 input.sk-toggleable__control:checked~div.sk-toggleable__content {\n",
              "  /* Expand drop-down */\n",
              "  max-height: 200px;\n",
              "  max-width: 100%;\n",
              "  overflow: auto;\n",
              "}\n",
              "\n",
              "#sk-container-id-6 input.sk-toggleable__control:checked~label.sk-toggleable__label-arrow:before {\n",
              "  content: \"▾\";\n",
              "}\n",
              "\n",
              "/* Pipeline/ColumnTransformer-specific style */\n",
              "\n",
              "#sk-container-id-6 div.sk-label input.sk-toggleable__control:checked~label.sk-toggleable__label {\n",
              "  color: var(--sklearn-color-text);\n",
              "  background-color: var(--sklearn-color-unfitted-level-2);\n",
              "}\n",
              "\n",
              "#sk-container-id-6 div.sk-label.fitted input.sk-toggleable__control:checked~label.sk-toggleable__label {\n",
              "  background-color: var(--sklearn-color-fitted-level-2);\n",
              "}\n",
              "\n",
              "/* Estimator-specific style */\n",
              "\n",
              "/* Colorize estimator box */\n",
              "#sk-container-id-6 div.sk-estimator input.sk-toggleable__control:checked~label.sk-toggleable__label {\n",
              "  /* unfitted */\n",
              "  background-color: var(--sklearn-color-unfitted-level-2);\n",
              "}\n",
              "\n",
              "#sk-container-id-6 div.sk-estimator.fitted input.sk-toggleable__control:checked~label.sk-toggleable__label {\n",
              "  /* fitted */\n",
              "  background-color: var(--sklearn-color-fitted-level-2);\n",
              "}\n",
              "\n",
              "#sk-container-id-6 div.sk-label label.sk-toggleable__label,\n",
              "#sk-container-id-6 div.sk-label label {\n",
              "  /* The background is the default theme color */\n",
              "  color: var(--sklearn-color-text-on-default-background);\n",
              "}\n",
              "\n",
              "/* On hover, darken the color of the background */\n",
              "#sk-container-id-6 div.sk-label:hover label.sk-toggleable__label {\n",
              "  color: var(--sklearn-color-text);\n",
              "  background-color: var(--sklearn-color-unfitted-level-2);\n",
              "}\n",
              "\n",
              "/* Label box, darken color on hover, fitted */\n",
              "#sk-container-id-6 div.sk-label.fitted:hover label.sk-toggleable__label.fitted {\n",
              "  color: var(--sklearn-color-text);\n",
              "  background-color: var(--sklearn-color-fitted-level-2);\n",
              "}\n",
              "\n",
              "/* Estimator label */\n",
              "\n",
              "#sk-container-id-6 div.sk-label label {\n",
              "  font-family: monospace;\n",
              "  font-weight: bold;\n",
              "  display: inline-block;\n",
              "  line-height: 1.2em;\n",
              "}\n",
              "\n",
              "#sk-container-id-6 div.sk-label-container {\n",
              "  text-align: center;\n",
              "}\n",
              "\n",
              "/* Estimator-specific */\n",
              "#sk-container-id-6 div.sk-estimator {\n",
              "  font-family: monospace;\n",
              "  border: 1px dotted var(--sklearn-color-border-box);\n",
              "  border-radius: 0.25em;\n",
              "  box-sizing: border-box;\n",
              "  margin-bottom: 0.5em;\n",
              "  /* unfitted */\n",
              "  background-color: var(--sklearn-color-unfitted-level-0);\n",
              "}\n",
              "\n",
              "#sk-container-id-6 div.sk-estimator.fitted {\n",
              "  /* fitted */\n",
              "  background-color: var(--sklearn-color-fitted-level-0);\n",
              "}\n",
              "\n",
              "/* on hover */\n",
              "#sk-container-id-6 div.sk-estimator:hover {\n",
              "  /* unfitted */\n",
              "  background-color: var(--sklearn-color-unfitted-level-2);\n",
              "}\n",
              "\n",
              "#sk-container-id-6 div.sk-estimator.fitted:hover {\n",
              "  /* fitted */\n",
              "  background-color: var(--sklearn-color-fitted-level-2);\n",
              "}\n",
              "\n",
              "/* Specification for estimator info (e.g. \"i\" and \"?\") */\n",
              "\n",
              "/* Common style for \"i\" and \"?\" */\n",
              "\n",
              ".sk-estimator-doc-link,\n",
              "a:link.sk-estimator-doc-link,\n",
              "a:visited.sk-estimator-doc-link {\n",
              "  float: right;\n",
              "  font-size: smaller;\n",
              "  line-height: 1em;\n",
              "  font-family: monospace;\n",
              "  background-color: var(--sklearn-color-background);\n",
              "  border-radius: 1em;\n",
              "  height: 1em;\n",
              "  width: 1em;\n",
              "  text-decoration: none !important;\n",
              "  margin-left: 1ex;\n",
              "  /* unfitted */\n",
              "  border: var(--sklearn-color-unfitted-level-1) 1pt solid;\n",
              "  color: var(--sklearn-color-unfitted-level-1);\n",
              "}\n",
              "\n",
              ".sk-estimator-doc-link.fitted,\n",
              "a:link.sk-estimator-doc-link.fitted,\n",
              "a:visited.sk-estimator-doc-link.fitted {\n",
              "  /* fitted */\n",
              "  border: var(--sklearn-color-fitted-level-1) 1pt solid;\n",
              "  color: var(--sklearn-color-fitted-level-1);\n",
              "}\n",
              "\n",
              "/* On hover */\n",
              "div.sk-estimator:hover .sk-estimator-doc-link:hover,\n",
              ".sk-estimator-doc-link:hover,\n",
              "div.sk-label-container:hover .sk-estimator-doc-link:hover,\n",
              ".sk-estimator-doc-link:hover {\n",
              "  /* unfitted */\n",
              "  background-color: var(--sklearn-color-unfitted-level-3);\n",
              "  color: var(--sklearn-color-background);\n",
              "  text-decoration: none;\n",
              "}\n",
              "\n",
              "div.sk-estimator.fitted:hover .sk-estimator-doc-link.fitted:hover,\n",
              ".sk-estimator-doc-link.fitted:hover,\n",
              "div.sk-label-container:hover .sk-estimator-doc-link.fitted:hover,\n",
              ".sk-estimator-doc-link.fitted:hover {\n",
              "  /* fitted */\n",
              "  background-color: var(--sklearn-color-fitted-level-3);\n",
              "  color: var(--sklearn-color-background);\n",
              "  text-decoration: none;\n",
              "}\n",
              "\n",
              "/* Span, style for the box shown on hovering the info icon */\n",
              ".sk-estimator-doc-link span {\n",
              "  display: none;\n",
              "  z-index: 9999;\n",
              "  position: relative;\n",
              "  font-weight: normal;\n",
              "  right: .2ex;\n",
              "  padding: .5ex;\n",
              "  margin: .5ex;\n",
              "  width: min-content;\n",
              "  min-width: 20ex;\n",
              "  max-width: 50ex;\n",
              "  color: var(--sklearn-color-text);\n",
              "  box-shadow: 2pt 2pt 4pt #999;\n",
              "  /* unfitted */\n",
              "  background: var(--sklearn-color-unfitted-level-0);\n",
              "  border: .5pt solid var(--sklearn-color-unfitted-level-3);\n",
              "}\n",
              "\n",
              ".sk-estimator-doc-link.fitted span {\n",
              "  /* fitted */\n",
              "  background: var(--sklearn-color-fitted-level-0);\n",
              "  border: var(--sklearn-color-fitted-level-3);\n",
              "}\n",
              "\n",
              ".sk-estimator-doc-link:hover span {\n",
              "  display: block;\n",
              "}\n",
              "\n",
              "/* \"?\"-specific style due to the `<a>` HTML tag */\n",
              "\n",
              "#sk-container-id-6 a.estimator_doc_link {\n",
              "  float: right;\n",
              "  font-size: 1rem;\n",
              "  line-height: 1em;\n",
              "  font-family: monospace;\n",
              "  background-color: var(--sklearn-color-background);\n",
              "  border-radius: 1rem;\n",
              "  height: 1rem;\n",
              "  width: 1rem;\n",
              "  text-decoration: none;\n",
              "  /* unfitted */\n",
              "  color: var(--sklearn-color-unfitted-level-1);\n",
              "  border: var(--sklearn-color-unfitted-level-1) 1pt solid;\n",
              "}\n",
              "\n",
              "#sk-container-id-6 a.estimator_doc_link.fitted {\n",
              "  /* fitted */\n",
              "  border: var(--sklearn-color-fitted-level-1) 1pt solid;\n",
              "  color: var(--sklearn-color-fitted-level-1);\n",
              "}\n",
              "\n",
              "/* On hover */\n",
              "#sk-container-id-6 a.estimator_doc_link:hover {\n",
              "  /* unfitted */\n",
              "  background-color: var(--sklearn-color-unfitted-level-3);\n",
              "  color: var(--sklearn-color-background);\n",
              "  text-decoration: none;\n",
              "}\n",
              "\n",
              "#sk-container-id-6 a.estimator_doc_link.fitted:hover {\n",
              "  /* fitted */\n",
              "  background-color: var(--sklearn-color-fitted-level-3);\n",
              "}\n",
              "</style><div id=\"sk-container-id-6\" class=\"sk-top-container\"><div class=\"sk-text-repr-fallback\"><pre>RandomForestRegressor(random_state=42)</pre><b>In a Jupyter environment, please rerun this cell to show the HTML representation or trust the notebook. <br />On GitHub, the HTML representation is unable to render, please try loading this page with nbviewer.org.</b></div><div class=\"sk-container\" hidden><div class=\"sk-item\"><div class=\"sk-estimator fitted sk-toggleable\"><input class=\"sk-toggleable__control sk-hidden--visually\" id=\"sk-estimator-id-6\" type=\"checkbox\" checked><label for=\"sk-estimator-id-6\" class=\"sk-toggleable__label fitted sk-toggleable__label-arrow fitted\">&nbsp;&nbsp;RandomForestRegressor<a class=\"sk-estimator-doc-link fitted\" rel=\"noreferrer\" target=\"_blank\" href=\"https://scikit-learn.org/1.5/modules/generated/sklearn.ensemble.RandomForestRegressor.html\">?<span>Documentation for RandomForestRegressor</span></a><span class=\"sk-estimator-doc-link fitted\">i<span>Fitted</span></span></label><div class=\"sk-toggleable__content fitted\"><pre>RandomForestRegressor(random_state=42)</pre></div> </div></div></div></div>"
            ],
            "text/plain": [
              "RandomForestRegressor(random_state=42)"
            ]
          },
          "execution_count": 201,
          "metadata": {},
          "output_type": "execute_result"
        }
      ],
      "source": [
        "# Menerapkan Regresi Random Forest pada dataset\n",
        "regressor = RandomForestRegressor(random_state=42)\n",
        "\n",
        "# Sesuaikan regresor dengan data x dan y\n",
        "regressor.fit(X_train, y_train)"
      ]
    },
    {
      "cell_type": "code",
      "execution_count": 202,
      "id": "55dd2cbe",
      "metadata": {
        "execution": {
          "iopub.execute_input": "2024-07-26T10:56:40.523718Z",
          "iopub.status.busy": "2024-07-26T10:56:40.523306Z",
          "iopub.status.idle": "2024-07-26T10:56:40.529445Z",
          "shell.execute_reply": "2024-07-26T10:56:40.528369Z"
        },
        "id": "55dd2cbe",
        "papermill": {
          "duration": 0.069135,
          "end_time": "2024-07-26T10:56:40.532008",
          "exception": false,
          "start_time": "2024-07-26T10:56:40.462873",
          "status": "completed"
        },
        "tags": []
      },
      "outputs": [],
      "source": [
        "cv_params = {'max_depth': [None],\n",
        "             'max_features': [1.0],\n",
        "             'max_samples': [0.7],\n",
        "             'min_samples_leaf': [1],\n",
        "             'min_samples_split': [2],\n",
        "             'n_estimators': [300]\n",
        "             }\n",
        "\n",
        "# 3. Tentukan serangkaian metrik penilaian untuk menangkap\n",
        "scoring = {'r2','accuracy'}\n",
        "\n",
        "# 4. Inisialisasi objek GridSearchCV\n",
        "rf1 = GridSearchCV(regressor, cv_params, scoring=scoring, cv=4,refit='r2')"
      ]
    },
    {
      "cell_type": "code",
      "execution_count": 203,
      "id": "83f41ec3",
      "metadata": {
        "execution": {
          "iopub.execute_input": "2024-07-26T10:56:40.649865Z",
          "iopub.status.busy": "2024-07-26T10:56:40.649499Z",
          "iopub.status.idle": "2024-07-26T10:56:40.654911Z",
          "shell.execute_reply": "2024-07-26T10:56:40.653824Z"
        },
        "id": "83f41ec3",
        "papermill": {
          "duration": 0.066682,
          "end_time": "2024-07-26T10:56:40.657261",
          "exception": false,
          "start_time": "2024-07-26T10:56:40.590579",
          "status": "completed"
        },
        "tags": []
      },
      "outputs": [],
      "source": [
        "# rf1.fit(X_train, y_train.ravel())"
      ]
    },
    {
      "cell_type": "code",
      "execution_count": 204,
      "id": "460f30cd",
      "metadata": {
        "execution": {
          "iopub.execute_input": "2024-07-26T10:56:40.775183Z",
          "iopub.status.busy": "2024-07-26T10:56:40.774755Z",
          "iopub.status.idle": "2024-07-26T10:56:40.780166Z",
          "shell.execute_reply": "2024-07-26T10:56:40.778979Z"
        },
        "id": "460f30cd",
        "papermill": {
          "duration": 0.067766,
          "end_time": "2024-07-26T10:56:40.782783",
          "exception": false,
          "start_time": "2024-07-26T10:56:40.715017",
          "status": "completed"
        },
        "tags": []
      },
      "outputs": [],
      "source": [
        "# rf1.best_score_"
      ]
    },
    {
      "cell_type": "code",
      "execution_count": 205,
      "id": "3d848c0d",
      "metadata": {
        "execution": {
          "iopub.execute_input": "2024-07-26T10:56:40.965239Z",
          "iopub.status.busy": "2024-07-26T10:56:40.964207Z",
          "iopub.status.idle": "2024-07-26T10:56:40.968986Z",
          "shell.execute_reply": "2024-07-26T10:56:40.967791Z"
        },
        "id": "3d848c0d",
        "papermill": {
          "duration": 0.071099,
          "end_time": "2024-07-26T10:56:40.972127",
          "exception": false,
          "start_time": "2024-07-26T10:56:40.901028",
          "status": "completed"
        },
        "tags": []
      },
      "outputs": [],
      "source": [
        "# rf1.best_params_"
      ]
    },
    {
      "cell_type": "code",
      "execution_count": 206,
      "id": "a0ea9e4e",
      "metadata": {
        "execution": {
          "iopub.execute_input": "2024-07-26T10:56:41.088659Z",
          "iopub.status.busy": "2024-07-26T10:56:41.088239Z",
          "iopub.status.idle": "2024-07-26T10:56:41.093640Z",
          "shell.execute_reply": "2024-07-26T10:56:41.092387Z"
        },
        "id": "a0ea9e4e",
        "papermill": {
          "duration": 0.066487,
          "end_time": "2024-07-26T10:56:41.095931",
          "exception": false,
          "start_time": "2024-07-26T10:56:41.029444",
          "status": "completed"
        },
        "tags": []
      },
      "outputs": [
        {
          "ename": "",
          "evalue": "",
          "output_type": "error",
          "traceback": [
            "\u001b[1;31mThe Kernel crashed while executing code in the current cell or a previous cell. \n",
            "\u001b[1;31mPlease review the code in the cell(s) to identify a possible cause of the failure. \n",
            "\u001b[1;31mClick <a href='https://aka.ms/vscodeJupyterKernelCrash'>here</a> for more info. \n",
            "\u001b[1;31mView Jupyter <a href='command:jupyter.viewOutput'>log</a> for further details."
          ]
        }
      ],
      "source": [
        "random_forest = RandomForestRegressor(max_depth= None,\n",
        " max_features= 1.0,\n",
        " max_samples= 0.7,\n",
        " min_samples_leaf= 1,\n",
        " min_samples_split= 2,\n",
        " n_estimators=300)"
      ]
    },
    {
      "cell_type": "code",
      "execution_count": 207,
      "id": "41d28734",
      "metadata": {
        "colab": {
          "base_uri": "https://localhost:8080/",
          "height": 129
        },
        "execution": {
          "iopub.execute_input": "2024-07-26T10:56:41.215190Z",
          "iopub.status.busy": "2024-07-26T10:56:41.214787Z",
          "iopub.status.idle": "2024-07-26T10:58:50.759373Z",
          "shell.execute_reply": "2024-07-26T10:58:50.758160Z"
        },
        "id": "41d28734",
        "outputId": "b6817de4-1084-4216-a862-ad1d799dc7a9",
        "papermill": {
          "duration": 129.663873,
          "end_time": "2024-07-26T10:58:50.818141",
          "exception": false,
          "start_time": "2024-07-26T10:56:41.154268",
          "status": "completed"
        },
        "tags": []
      },
      "outputs": [
        {
          "name": "stderr",
          "output_type": "stream",
          "text": [
            "/home/mayuka/.local/lib/python3.10/site-packages/sklearn/base.py:1473: DataConversionWarning: A column-vector y was passed when a 1d array was expected. Please change the shape of y to (n_samples,), for example using ravel().\n",
            "  return fit_method(estimator, *args, **kwargs)\n"
          ]
        }
      ],
      "source": [
        "random_forest.fit(X_train,y_train)"
      ]
    },
    {
      "cell_type": "code",
      "execution_count": null,
      "id": "1ba878a3",
      "metadata": {
        "colab": {
          "base_uri": "https://localhost:8080/"
        },
        "execution": {
          "iopub.execute_input": "2024-07-26T10:58:50.935957Z",
          "iopub.status.busy": "2024-07-26T10:58:50.935551Z",
          "iopub.status.idle": "2024-07-26T10:58:57.141583Z",
          "shell.execute_reply": "2024-07-26T10:58:57.140295Z"
        },
        "id": "1ba878a3",
        "outputId": "46f618fc-c3da-44cb-8626-b236f9d7b065",
        "papermill": {
          "duration": 6.268523,
          "end_time": "2024-07-26T10:58:57.144298",
          "exception": false,
          "start_time": "2024-07-26T10:58:50.875775",
          "status": "completed"
        },
        "tags": []
      },
      "outputs": [
        {
          "name": "stdout",
          "output_type": "stream",
          "text": [
            "Mean Squared Error: 5.68571561975105\n",
            "R-squared: 0.586610803648792\n"
          ]
        }
      ],
      "source": [
        "\n",
        "# Evaluasi model\n",
        "from sklearn.metrics import mean_squared_error, r2_score\n",
        "\n",
        "# Membuat prediksi menggunakan data yang sudah ada atau data baru\n",
        "predictions = random_forest.predict(X_test)\n",
        "\n",
        "# Evaluasi data\n",
        "mse = mean_squared_error(y_test, predictions)\n",
        "print(f'Mean Squared Error: {mse}')\n",
        "\n",
        "r2 = r2_score(y_test, predictions)\n",
        "print(f'R-squared: {r2}')"
      ]
    },
    {
      "cell_type": "markdown",
      "id": "0a3263ff",
      "metadata": {
        "id": "0a3263ff",
        "papermill": {
          "duration": 0.057692,
          "end_time": "2024-07-26T10:58:57.259267",
          "exception": false,
          "start_time": "2024-07-26T10:58:57.201575",
          "status": "completed"
        },
        "tags": []
      },
      "source": [
        "### Random Forest Findings\n",
        "\n",
        "Nilai R-squared adalah 0,58. Sekarang, mari kita coba XGBoost."
      ]
    },
    {
      "cell_type": "markdown",
      "id": "46484f7e",
      "metadata": {
        "id": "46484f7e",
        "papermill": {
          "duration": 0.057163,
          "end_time": "2024-07-26T10:58:57.373841",
          "exception": false,
          "start_time": "2024-07-26T10:58:57.316678",
          "status": "completed"
        },
        "tags": []
      },
      "source": [
        "## Gradient Boost Model"
      ]
    },
    {
      "cell_type": "code",
      "execution_count": null,
      "id": "afa20874",
      "metadata": {
        "execution": {
          "iopub.execute_input": "2024-07-26T10:58:57.490095Z",
          "iopub.status.busy": "2024-07-26T10:58:57.489712Z",
          "iopub.status.idle": "2024-07-26T10:58:57.495829Z",
          "shell.execute_reply": "2024-07-26T10:58:57.494552Z"
        },
        "id": "afa20874",
        "papermill": {
          "duration": 0.067062,
          "end_time": "2024-07-26T10:58:57.498039",
          "exception": false,
          "start_time": "2024-07-26T10:58:57.430977",
          "status": "completed"
        },
        "tags": []
      },
      "outputs": [],
      "source": [
        "# 1. Inisialisasi XGBoost\n",
        "xgb = XGBRegressor(objective ='reg:squarederror',random_state=42, learning_rate = 0.02, max_depth = 8,min_child_weight= 4,\n",
        " n_estimators = 200)\n",
        "\n",
        "# 2. Buatlah dictionary hyperparameter yang akan disetel\n",
        "cv_params = {'learning_rate': [0.1,0.01,0.02],\n",
        "             'max_depth': [8,9,11],\n",
        "             'min_child_weight': [2,3,4],\n",
        "             'n_estimators': [500,200,300,600]\n",
        "             }\n",
        "\n",
        "# 3. Tentukan serangkaian metrik penilaian yang akan digunakan.\n",
        "scoring = {'accuracy', 'r2'}\n",
        "\n",
        "# 4. Inisialisasi objek GridSearchCV.\n",
        "xgb1 = GridSearchCV(xgb, cv_params, scoring=scoring, cv=4, refit='r2')"
      ]
    },
    {
      "cell_type": "code",
      "execution_count": null,
      "id": "e9828911",
      "metadata": {
        "colab": {
          "base_uri": "https://localhost:8080/"
        },
        "execution": {
          "iopub.execute_input": "2024-07-26T10:58:57.616145Z",
          "iopub.status.busy": "2024-07-26T10:58:57.615171Z",
          "iopub.status.idle": "2024-07-26T10:58:57.622146Z",
          "shell.execute_reply": "2024-07-26T10:58:57.621029Z"
        },
        "id": "e9828911",
        "outputId": "72ee3ed2-2687-48f4-fd0e-72d334891a3f",
        "papermill": {
          "duration": 0.068382,
          "end_time": "2024-07-26T10:58:57.624426",
          "exception": false,
          "start_time": "2024-07-26T10:58:57.556044",
          "status": "completed"
        },
        "tags": []
      },
      "outputs": [
        {
          "data": {
            "text/plain": [
              "(108408, 1)"
            ]
          },
          "execution_count": 100,
          "metadata": {},
          "output_type": "execute_result"
        }
      ],
      "source": [
        "y_train.shape"
      ]
    },
    {
      "cell_type": "code",
      "execution_count": null,
      "id": "e47584d2",
      "metadata": {
        "colab": {
          "base_uri": "https://localhost:8080/",
          "height": 248
        },
        "execution": {
          "iopub.execute_input": "2024-07-26T10:58:57.743514Z",
          "iopub.status.busy": "2024-07-26T10:58:57.743085Z",
          "iopub.status.idle": "2024-07-26T10:59:00.864381Z",
          "shell.execute_reply": "2024-07-26T10:59:00.862659Z"
        },
        "id": "e47584d2",
        "outputId": "713b0f10-0417-4d77-bf00-05ca16799934",
        "papermill": {
          "duration": 3.184883,
          "end_time": "2024-07-26T10:59:00.866864",
          "exception": false,
          "start_time": "2024-07-26T10:58:57.681981",
          "status": "completed"
        },
        "tags": []
      },
      "outputs": [
        {
          "data": {
            "text/html": [
              "<style>#sk-container-id-4 {\n",
              "  /* Definition of color scheme common for light and dark mode */\n",
              "  --sklearn-color-text: black;\n",
              "  --sklearn-color-line: gray;\n",
              "  /* Definition of color scheme for unfitted estimators */\n",
              "  --sklearn-color-unfitted-level-0: #fff5e6;\n",
              "  --sklearn-color-unfitted-level-1: #f6e4d2;\n",
              "  --sklearn-color-unfitted-level-2: #ffe0b3;\n",
              "  --sklearn-color-unfitted-level-3: chocolate;\n",
              "  /* Definition of color scheme for fitted estimators */\n",
              "  --sklearn-color-fitted-level-0: #f0f8ff;\n",
              "  --sklearn-color-fitted-level-1: #d4ebff;\n",
              "  --sklearn-color-fitted-level-2: #b3dbfd;\n",
              "  --sklearn-color-fitted-level-3: cornflowerblue;\n",
              "\n",
              "  /* Specific color for light theme */\n",
              "  --sklearn-color-text-on-default-background: var(--sg-text-color, var(--theme-code-foreground, var(--jp-content-font-color1, black)));\n",
              "  --sklearn-color-background: var(--sg-background-color, var(--theme-background, var(--jp-layout-color0, white)));\n",
              "  --sklearn-color-border-box: var(--sg-text-color, var(--theme-code-foreground, var(--jp-content-font-color1, black)));\n",
              "  --sklearn-color-icon: #696969;\n",
              "\n",
              "  @media (prefers-color-scheme: dark) {\n",
              "    /* Redefinition of color scheme for dark theme */\n",
              "    --sklearn-color-text-on-default-background: var(--sg-text-color, var(--theme-code-foreground, var(--jp-content-font-color1, white)));\n",
              "    --sklearn-color-background: var(--sg-background-color, var(--theme-background, var(--jp-layout-color0, #111)));\n",
              "    --sklearn-color-border-box: var(--sg-text-color, var(--theme-code-foreground, var(--jp-content-font-color1, white)));\n",
              "    --sklearn-color-icon: #878787;\n",
              "  }\n",
              "}\n",
              "\n",
              "#sk-container-id-4 {\n",
              "  color: var(--sklearn-color-text);\n",
              "}\n",
              "\n",
              "#sk-container-id-4 pre {\n",
              "  padding: 0;\n",
              "}\n",
              "\n",
              "#sk-container-id-4 input.sk-hidden--visually {\n",
              "  border: 0;\n",
              "  clip: rect(1px 1px 1px 1px);\n",
              "  clip: rect(1px, 1px, 1px, 1px);\n",
              "  height: 1px;\n",
              "  margin: -1px;\n",
              "  overflow: hidden;\n",
              "  padding: 0;\n",
              "  position: absolute;\n",
              "  width: 1px;\n",
              "}\n",
              "\n",
              "#sk-container-id-4 div.sk-dashed-wrapped {\n",
              "  border: 1px dashed var(--sklearn-color-line);\n",
              "  margin: 0 0.4em 0.5em 0.4em;\n",
              "  box-sizing: border-box;\n",
              "  padding-bottom: 0.4em;\n",
              "  background-color: var(--sklearn-color-background);\n",
              "}\n",
              "\n",
              "#sk-container-id-4 div.sk-container {\n",
              "  /* jupyter's `normalize.less` sets `[hidden] { display: none; }`\n",
              "     but bootstrap.min.css set `[hidden] { display: none !important; }`\n",
              "     so we also need the `!important` here to be able to override the\n",
              "     default hidden behavior on the sphinx rendered scikit-learn.org.\n",
              "     See: https://github.com/scikit-learn/scikit-learn/issues/21755 */\n",
              "  display: inline-block !important;\n",
              "  position: relative;\n",
              "}\n",
              "\n",
              "#sk-container-id-4 div.sk-text-repr-fallback {\n",
              "  display: none;\n",
              "}\n",
              "\n",
              "div.sk-parallel-item,\n",
              "div.sk-serial,\n",
              "div.sk-item {\n",
              "  /* draw centered vertical line to link estimators */\n",
              "  background-image: linear-gradient(var(--sklearn-color-text-on-default-background), var(--sklearn-color-text-on-default-background));\n",
              "  background-size: 2px 100%;\n",
              "  background-repeat: no-repeat;\n",
              "  background-position: center center;\n",
              "}\n",
              "\n",
              "/* Parallel-specific style estimator block */\n",
              "\n",
              "#sk-container-id-4 div.sk-parallel-item::after {\n",
              "  content: \"\";\n",
              "  width: 100%;\n",
              "  border-bottom: 2px solid var(--sklearn-color-text-on-default-background);\n",
              "  flex-grow: 1;\n",
              "}\n",
              "\n",
              "#sk-container-id-4 div.sk-parallel {\n",
              "  display: flex;\n",
              "  align-items: stretch;\n",
              "  justify-content: center;\n",
              "  background-color: var(--sklearn-color-background);\n",
              "  position: relative;\n",
              "}\n",
              "\n",
              "#sk-container-id-4 div.sk-parallel-item {\n",
              "  display: flex;\n",
              "  flex-direction: column;\n",
              "}\n",
              "\n",
              "#sk-container-id-4 div.sk-parallel-item:first-child::after {\n",
              "  align-self: flex-end;\n",
              "  width: 50%;\n",
              "}\n",
              "\n",
              "#sk-container-id-4 div.sk-parallel-item:last-child::after {\n",
              "  align-self: flex-start;\n",
              "  width: 50%;\n",
              "}\n",
              "\n",
              "#sk-container-id-4 div.sk-parallel-item:only-child::after {\n",
              "  width: 0;\n",
              "}\n",
              "\n",
              "/* Serial-specific style estimator block */\n",
              "\n",
              "#sk-container-id-4 div.sk-serial {\n",
              "  display: flex;\n",
              "  flex-direction: column;\n",
              "  align-items: center;\n",
              "  background-color: var(--sklearn-color-background);\n",
              "  padding-right: 1em;\n",
              "  padding-left: 1em;\n",
              "}\n",
              "\n",
              "\n",
              "/* Toggleable style: style used for estimator/Pipeline/ColumnTransformer box that is\n",
              "clickable and can be expanded/collapsed.\n",
              "- Pipeline and ColumnTransformer use this feature and define the default style\n",
              "- Estimators will overwrite some part of the style using the `sk-estimator` class\n",
              "*/\n",
              "\n",
              "/* Pipeline and ColumnTransformer style (default) */\n",
              "\n",
              "#sk-container-id-4 div.sk-toggleable {\n",
              "  /* Default theme specific background. It is overwritten whether we have a\n",
              "  specific estimator or a Pipeline/ColumnTransformer */\n",
              "  background-color: var(--sklearn-color-background);\n",
              "}\n",
              "\n",
              "/* Toggleable label */\n",
              "#sk-container-id-4 label.sk-toggleable__label {\n",
              "  cursor: pointer;\n",
              "  display: block;\n",
              "  width: 100%;\n",
              "  margin-bottom: 0;\n",
              "  padding: 0.5em;\n",
              "  box-sizing: border-box;\n",
              "  text-align: center;\n",
              "}\n",
              "\n",
              "#sk-container-id-4 label.sk-toggleable__label-arrow:before {\n",
              "  /* Arrow on the left of the label */\n",
              "  content: \"▸\";\n",
              "  float: left;\n",
              "  margin-right: 0.25em;\n",
              "  color: var(--sklearn-color-icon);\n",
              "}\n",
              "\n",
              "#sk-container-id-4 label.sk-toggleable__label-arrow:hover:before {\n",
              "  color: var(--sklearn-color-text);\n",
              "}\n",
              "\n",
              "/* Toggleable content - dropdown */\n",
              "\n",
              "#sk-container-id-4 div.sk-toggleable__content {\n",
              "  max-height: 0;\n",
              "  max-width: 0;\n",
              "  overflow: hidden;\n",
              "  text-align: left;\n",
              "  /* unfitted */\n",
              "  background-color: var(--sklearn-color-unfitted-level-0);\n",
              "}\n",
              "\n",
              "#sk-container-id-4 div.sk-toggleable__content.fitted {\n",
              "  /* fitted */\n",
              "  background-color: var(--sklearn-color-fitted-level-0);\n",
              "}\n",
              "\n",
              "#sk-container-id-4 div.sk-toggleable__content pre {\n",
              "  margin: 0.2em;\n",
              "  border-radius: 0.25em;\n",
              "  color: var(--sklearn-color-text);\n",
              "  /* unfitted */\n",
              "  background-color: var(--sklearn-color-unfitted-level-0);\n",
              "}\n",
              "\n",
              "#sk-container-id-4 div.sk-toggleable__content.fitted pre {\n",
              "  /* unfitted */\n",
              "  background-color: var(--sklearn-color-fitted-level-0);\n",
              "}\n",
              "\n",
              "#sk-container-id-4 input.sk-toggleable__control:checked~div.sk-toggleable__content {\n",
              "  /* Expand drop-down */\n",
              "  max-height: 200px;\n",
              "  max-width: 100%;\n",
              "  overflow: auto;\n",
              "}\n",
              "\n",
              "#sk-container-id-4 input.sk-toggleable__control:checked~label.sk-toggleable__label-arrow:before {\n",
              "  content: \"▾\";\n",
              "}\n",
              "\n",
              "/* Pipeline/ColumnTransformer-specific style */\n",
              "\n",
              "#sk-container-id-4 div.sk-label input.sk-toggleable__control:checked~label.sk-toggleable__label {\n",
              "  color: var(--sklearn-color-text);\n",
              "  background-color: var(--sklearn-color-unfitted-level-2);\n",
              "}\n",
              "\n",
              "#sk-container-id-4 div.sk-label.fitted input.sk-toggleable__control:checked~label.sk-toggleable__label {\n",
              "  background-color: var(--sklearn-color-fitted-level-2);\n",
              "}\n",
              "\n",
              "/* Estimator-specific style */\n",
              "\n",
              "/* Colorize estimator box */\n",
              "#sk-container-id-4 div.sk-estimator input.sk-toggleable__control:checked~label.sk-toggleable__label {\n",
              "  /* unfitted */\n",
              "  background-color: var(--sklearn-color-unfitted-level-2);\n",
              "}\n",
              "\n",
              "#sk-container-id-4 div.sk-estimator.fitted input.sk-toggleable__control:checked~label.sk-toggleable__label {\n",
              "  /* fitted */\n",
              "  background-color: var(--sklearn-color-fitted-level-2);\n",
              "}\n",
              "\n",
              "#sk-container-id-4 div.sk-label label.sk-toggleable__label,\n",
              "#sk-container-id-4 div.sk-label label {\n",
              "  /* The background is the default theme color */\n",
              "  color: var(--sklearn-color-text-on-default-background);\n",
              "}\n",
              "\n",
              "/* On hover, darken the color of the background */\n",
              "#sk-container-id-4 div.sk-label:hover label.sk-toggleable__label {\n",
              "  color: var(--sklearn-color-text);\n",
              "  background-color: var(--sklearn-color-unfitted-level-2);\n",
              "}\n",
              "\n",
              "/* Label box, darken color on hover, fitted */\n",
              "#sk-container-id-4 div.sk-label.fitted:hover label.sk-toggleable__label.fitted {\n",
              "  color: var(--sklearn-color-text);\n",
              "  background-color: var(--sklearn-color-fitted-level-2);\n",
              "}\n",
              "\n",
              "/* Estimator label */\n",
              "\n",
              "#sk-container-id-4 div.sk-label label {\n",
              "  font-family: monospace;\n",
              "  font-weight: bold;\n",
              "  display: inline-block;\n",
              "  line-height: 1.2em;\n",
              "}\n",
              "\n",
              "#sk-container-id-4 div.sk-label-container {\n",
              "  text-align: center;\n",
              "}\n",
              "\n",
              "/* Estimator-specific */\n",
              "#sk-container-id-4 div.sk-estimator {\n",
              "  font-family: monospace;\n",
              "  border: 1px dotted var(--sklearn-color-border-box);\n",
              "  border-radius: 0.25em;\n",
              "  box-sizing: border-box;\n",
              "  margin-bottom: 0.5em;\n",
              "  /* unfitted */\n",
              "  background-color: var(--sklearn-color-unfitted-level-0);\n",
              "}\n",
              "\n",
              "#sk-container-id-4 div.sk-estimator.fitted {\n",
              "  /* fitted */\n",
              "  background-color: var(--sklearn-color-fitted-level-0);\n",
              "}\n",
              "\n",
              "/* on hover */\n",
              "#sk-container-id-4 div.sk-estimator:hover {\n",
              "  /* unfitted */\n",
              "  background-color: var(--sklearn-color-unfitted-level-2);\n",
              "}\n",
              "\n",
              "#sk-container-id-4 div.sk-estimator.fitted:hover {\n",
              "  /* fitted */\n",
              "  background-color: var(--sklearn-color-fitted-level-2);\n",
              "}\n",
              "\n",
              "/* Specification for estimator info (e.g. \"i\" and \"?\") */\n",
              "\n",
              "/* Common style for \"i\" and \"?\" */\n",
              "\n",
              ".sk-estimator-doc-link,\n",
              "a:link.sk-estimator-doc-link,\n",
              "a:visited.sk-estimator-doc-link {\n",
              "  float: right;\n",
              "  font-size: smaller;\n",
              "  line-height: 1em;\n",
              "  font-family: monospace;\n",
              "  background-color: var(--sklearn-color-background);\n",
              "  border-radius: 1em;\n",
              "  height: 1em;\n",
              "  width: 1em;\n",
              "  text-decoration: none !important;\n",
              "  margin-left: 1ex;\n",
              "  /* unfitted */\n",
              "  border: var(--sklearn-color-unfitted-level-1) 1pt solid;\n",
              "  color: var(--sklearn-color-unfitted-level-1);\n",
              "}\n",
              "\n",
              ".sk-estimator-doc-link.fitted,\n",
              "a:link.sk-estimator-doc-link.fitted,\n",
              "a:visited.sk-estimator-doc-link.fitted {\n",
              "  /* fitted */\n",
              "  border: var(--sklearn-color-fitted-level-1) 1pt solid;\n",
              "  color: var(--sklearn-color-fitted-level-1);\n",
              "}\n",
              "\n",
              "/* On hover */\n",
              "div.sk-estimator:hover .sk-estimator-doc-link:hover,\n",
              ".sk-estimator-doc-link:hover,\n",
              "div.sk-label-container:hover .sk-estimator-doc-link:hover,\n",
              ".sk-estimator-doc-link:hover {\n",
              "  /* unfitted */\n",
              "  background-color: var(--sklearn-color-unfitted-level-3);\n",
              "  color: var(--sklearn-color-background);\n",
              "  text-decoration: none;\n",
              "}\n",
              "\n",
              "div.sk-estimator.fitted:hover .sk-estimator-doc-link.fitted:hover,\n",
              ".sk-estimator-doc-link.fitted:hover,\n",
              "div.sk-label-container:hover .sk-estimator-doc-link.fitted:hover,\n",
              ".sk-estimator-doc-link.fitted:hover {\n",
              "  /* fitted */\n",
              "  background-color: var(--sklearn-color-fitted-level-3);\n",
              "  color: var(--sklearn-color-background);\n",
              "  text-decoration: none;\n",
              "}\n",
              "\n",
              "/* Span, style for the box shown on hovering the info icon */\n",
              ".sk-estimator-doc-link span {\n",
              "  display: none;\n",
              "  z-index: 9999;\n",
              "  position: relative;\n",
              "  font-weight: normal;\n",
              "  right: .2ex;\n",
              "  padding: .5ex;\n",
              "  margin: .5ex;\n",
              "  width: min-content;\n",
              "  min-width: 20ex;\n",
              "  max-width: 50ex;\n",
              "  color: var(--sklearn-color-text);\n",
              "  box-shadow: 2pt 2pt 4pt #999;\n",
              "  /* unfitted */\n",
              "  background: var(--sklearn-color-unfitted-level-0);\n",
              "  border: .5pt solid var(--sklearn-color-unfitted-level-3);\n",
              "}\n",
              "\n",
              ".sk-estimator-doc-link.fitted span {\n",
              "  /* fitted */\n",
              "  background: var(--sklearn-color-fitted-level-0);\n",
              "  border: var(--sklearn-color-fitted-level-3);\n",
              "}\n",
              "\n",
              ".sk-estimator-doc-link:hover span {\n",
              "  display: block;\n",
              "}\n",
              "\n",
              "/* \"?\"-specific style due to the `<a>` HTML tag */\n",
              "\n",
              "#sk-container-id-4 a.estimator_doc_link {\n",
              "  float: right;\n",
              "  font-size: 1rem;\n",
              "  line-height: 1em;\n",
              "  font-family: monospace;\n",
              "  background-color: var(--sklearn-color-background);\n",
              "  border-radius: 1rem;\n",
              "  height: 1rem;\n",
              "  width: 1rem;\n",
              "  text-decoration: none;\n",
              "  /* unfitted */\n",
              "  color: var(--sklearn-color-unfitted-level-1);\n",
              "  border: var(--sklearn-color-unfitted-level-1) 1pt solid;\n",
              "}\n",
              "\n",
              "#sk-container-id-4 a.estimator_doc_link.fitted {\n",
              "  /* fitted */\n",
              "  border: var(--sklearn-color-fitted-level-1) 1pt solid;\n",
              "  color: var(--sklearn-color-fitted-level-1);\n",
              "}\n",
              "\n",
              "/* On hover */\n",
              "#sk-container-id-4 a.estimator_doc_link:hover {\n",
              "  /* unfitted */\n",
              "  background-color: var(--sklearn-color-unfitted-level-3);\n",
              "  color: var(--sklearn-color-background);\n",
              "  text-decoration: none;\n",
              "}\n",
              "\n",
              "#sk-container-id-4 a.estimator_doc_link.fitted:hover {\n",
              "  /* fitted */\n",
              "  background-color: var(--sklearn-color-fitted-level-3);\n",
              "}\n",
              "</style><div id=\"sk-container-id-4\" class=\"sk-top-container\"><div class=\"sk-text-repr-fallback\"><pre>XGBRegressor(base_score=None, booster=None, callbacks=None,\n",
              "             colsample_bylevel=None, colsample_bynode=None,\n",
              "             colsample_bytree=None, device=None, early_stopping_rounds=None,\n",
              "             enable_categorical=False, eval_metric=None, feature_types=None,\n",
              "             gamma=None, grow_policy=None, importance_type=None,\n",
              "             interaction_constraints=None, learning_rate=0.02, max_bin=None,\n",
              "             max_cat_threshold=None, max_cat_to_onehot=None,\n",
              "             max_delta_step=None, max_depth=8, max_leaves=None,\n",
              "             min_child_weight=4, missing=nan, monotone_constraints=None,\n",
              "             multi_strategy=None, n_estimators=200, n_jobs=None,\n",
              "             num_parallel_tree=None, random_state=42, ...)</pre><b>In a Jupyter environment, please rerun this cell to show the HTML representation or trust the notebook. <br />On GitHub, the HTML representation is unable to render, please try loading this page with nbviewer.org.</b></div><div class=\"sk-container\" hidden><div class=\"sk-item\"><div class=\"sk-estimator fitted sk-toggleable\"><input class=\"sk-toggleable__control sk-hidden--visually\" id=\"sk-estimator-id-4\" type=\"checkbox\" checked><label for=\"sk-estimator-id-4\" class=\"sk-toggleable__label fitted sk-toggleable__label-arrow fitted\">&nbsp;XGBRegressor<span class=\"sk-estimator-doc-link fitted\">i<span>Fitted</span></span></label><div class=\"sk-toggleable__content fitted\"><pre>XGBRegressor(base_score=None, booster=None, callbacks=None,\n",
              "             colsample_bylevel=None, colsample_bynode=None,\n",
              "             colsample_bytree=None, device=None, early_stopping_rounds=None,\n",
              "             enable_categorical=False, eval_metric=None, feature_types=None,\n",
              "             gamma=None, grow_policy=None, importance_type=None,\n",
              "             interaction_constraints=None, learning_rate=0.02, max_bin=None,\n",
              "             max_cat_threshold=None, max_cat_to_onehot=None,\n",
              "             max_delta_step=None, max_depth=8, max_leaves=None,\n",
              "             min_child_weight=4, missing=nan, monotone_constraints=None,\n",
              "             multi_strategy=None, n_estimators=200, n_jobs=None,\n",
              "             num_parallel_tree=None, random_state=42, ...)</pre></div> </div></div></div></div>"
            ],
            "text/plain": [
              "XGBRegressor(base_score=None, booster=None, callbacks=None,\n",
              "             colsample_bylevel=None, colsample_bynode=None,\n",
              "             colsample_bytree=None, device=None, early_stopping_rounds=None,\n",
              "             enable_categorical=False, eval_metric=None, feature_types=None,\n",
              "             gamma=None, grow_policy=None, importance_type=None,\n",
              "             interaction_constraints=None, learning_rate=0.02, max_bin=None,\n",
              "             max_cat_threshold=None, max_cat_to_onehot=None,\n",
              "             max_delta_step=None, max_depth=8, max_leaves=None,\n",
              "             min_child_weight=4, missing=nan, monotone_constraints=None,\n",
              "             multi_strategy=None, n_estimators=200, n_jobs=None,\n",
              "             num_parallel_tree=None, random_state=42, ...)"
            ]
          },
          "execution_count": 101,
          "metadata": {},
          "output_type": "execute_result"
        }
      ],
      "source": [
        "xgb.fit(X_train,y_train)"
      ]
    },
    {
      "cell_type": "code",
      "execution_count": null,
      "id": "48d3a646",
      "metadata": {
        "colab": {
          "base_uri": "https://localhost:8080/"
        },
        "execution": {
          "iopub.execute_input": "2024-07-26T10:59:00.988526Z",
          "iopub.status.busy": "2024-07-26T10:59:00.988099Z",
          "iopub.status.idle": "2024-07-26T10:59:01.219745Z",
          "shell.execute_reply": "2024-07-26T10:59:01.218188Z"
        },
        "id": "48d3a646",
        "outputId": "9c1b50b6-2e7f-4e9a-ffe0-4f45caf2295e",
        "papermill": {
          "duration": 0.296692,
          "end_time": "2024-07-26T10:59:01.222297",
          "exception": false,
          "start_time": "2024-07-26T10:59:00.925605",
          "status": "completed"
        },
        "tags": []
      },
      "outputs": [
        {
          "name": "stdout",
          "output_type": "stream",
          "text": [
            "Mean Squared Error: 5.102603826157649\n",
            "R-squared: 0.6290068626403809\n"
          ]
        }
      ],
      "source": [
        "# Membuat prediksi pada data yang sama atau data baru\n",
        "predictions = xgb.predict(X_test)\n",
        "\n",
        "# Evaluasi model\n",
        "mse = mean_squared_error(y_test, predictions)\n",
        "print(f'Mean Squared Error: {mse}')\n",
        "\n",
        "r2 = r2_score(y_test, predictions)\n",
        "print(f'R-squared: {r2}')"
      ]
    },
    {
      "cell_type": "markdown",
      "id": "de63b8b3",
      "metadata": {
        "id": "de63b8b3",
        "papermill": {
          "duration": 0.058343,
          "end_time": "2024-07-26T10:59:01.338609",
          "exception": false,
          "start_time": "2024-07-26T10:59:01.280266",
          "status": "completed"
        },
        "tags": []
      },
      "source": [
        "### XGB findings\n",
        "\n",
        "XGB mencakupi 0.62 varian data atau dengan akurasi 62%, dimana hal ini merupakan hasil tertinggi"
      ]
    },
    {
      "cell_type": "markdown",
      "id": "bedc0539",
      "metadata": {
        "id": "bedc0539",
        "papermill": {
          "duration": 0.058232,
          "end_time": "2024-07-26T10:59:01.454779",
          "exception": false,
          "start_time": "2024-07-26T10:59:01.396547",
          "status": "completed"
        },
        "tags": []
      },
      "source": [
        "## Model Exporting"
      ]
    },
    {
      "cell_type": "code",
      "execution_count": null,
      "id": "RAUqp4qe3oGe",
      "metadata": {
        "colab": {
          "base_uri": "https://localhost:8080/"
        },
        "id": "RAUqp4qe3oGe",
        "outputId": "8022d107-634b-4994-fbac-e3f8118cb47a"
      },
      "outputs": [
        {
          "name": "stdout",
          "output_type": "stream",
          "text": [
            "Requirement already satisfied: pickle-mixin in /home/mayuka/micromamba/envs/dsenv/lib/python3.10/site-packages (1.0.2)\n",
            "\n",
            "\u001b[1m[\u001b[0m\u001b[34;49mnotice\u001b[0m\u001b[1;39;49m]\u001b[0m\u001b[39;49m A new release of pip is available: \u001b[0m\u001b[31;49m24.1.1\u001b[0m\u001b[39;49m -> \u001b[0m\u001b[32;49m24.1.2\u001b[0m\n",
            "\u001b[1m[\u001b[0m\u001b[34;49mnotice\u001b[0m\u001b[1;39;49m]\u001b[0m\u001b[39;49m To update, run: \u001b[0m\u001b[32;49mpip install --upgrade pip\u001b[0m\n"
          ]
        }
      ],
      "source": [
        "!pip install pickle-mixin"
      ]
    },
    {
      "cell_type": "code",
      "execution_count": null,
      "id": "b8f95ab5",
      "metadata": {
        "execution": {
          "iopub.execute_input": "2024-07-26T10:59:01.572973Z",
          "iopub.status.busy": "2024-07-26T10:59:01.572586Z",
          "iopub.status.idle": "2024-07-26T10:59:01.594257Z",
          "shell.execute_reply": "2024-07-26T10:59:01.593208Z"
        },
        "id": "b8f95ab5",
        "papermill": {
          "duration": 0.08451,
          "end_time": "2024-07-26T10:59:01.596694",
          "exception": false,
          "start_time": "2024-07-26T10:59:01.512184",
          "status": "completed"
        },
        "tags": []
      },
      "outputs": [
        {
          "name": "stdout",
          "output_type": "stream",
          "text": [
            "Pickle file 'gradient_boost.pickle' created successfully.\n"
          ]
        }
      ],
      "source": [
        "import pickle\n",
        "\n",
        "# Simpan model yang sudah dilatih ke file menggunakan pickle\n",
        "with open('data/gradient_boost.pickle', 'wb') as to_write:\n",
        "    pickle.dump(xgb, to_write)\n",
        "\n",
        "print(\"Pickle file 'gradient_boost.pickle' created successfully.\")\n"
      ]
    },
    {
      "cell_type": "code",
      "execution_count": null,
      "id": "8712d7ad",
      "metadata": {
        "execution": {
          "iopub.execute_input": "2024-07-26T10:59:01.715152Z",
          "iopub.status.busy": "2024-07-26T10:59:01.714438Z",
          "iopub.status.idle": "2024-07-26T10:59:01.720754Z",
          "shell.execute_reply": "2024-07-26T10:59:01.719623Z"
        },
        "id": "8712d7ad",
        "papermill": {
          "duration": 0.068337,
          "end_time": "2024-07-26T10:59:01.722919",
          "exception": false,
          "start_time": "2024-07-26T10:59:01.654582",
          "status": "completed"
        },
        "tags": []
      },
      "outputs": [
        {
          "name": "stdout",
          "output_type": "stream",
          "text": [
            "Model loaded successfully.\n"
          ]
        }
      ],
      "source": [
        "# Fungsi untuk membaca model dari file pickle\n",
        "def read_pickle(path, saved_model_name):\n",
        "    with open(path + saved_model_name + '.pickle', 'rb') as to_read:\n",
        "        model = pickle.load(to_read)\n",
        "    return model\n",
        "\n",
        "# # Membaca model dari file\n",
        "model = read_pickle('data/', 'gradient_boost')\n",
        "\n",
        "print(\"Model loaded successfully.\")\n",
        "\n"
      ]
    },
    {
      "cell_type": "code",
      "execution_count": null,
      "id": "15c7c6ff",
      "metadata": {
        "colab": {
          "base_uri": "https://localhost:8080/",
          "height": 256
        },
        "execution": {
          "iopub.execute_input": "2024-07-26T10:59:01.987375Z",
          "iopub.status.busy": "2024-07-26T10:59:01.986658Z",
          "iopub.status.idle": "2024-07-26T10:59:02.011519Z",
          "shell.execute_reply": "2024-07-26T10:59:02.010264Z"
        },
        "id": "15c7c6ff",
        "outputId": "0129955a-f23a-4ca2-dc25-1320fa1a6246",
        "papermill": {
          "duration": 0.086871,
          "end_time": "2024-07-26T10:59:02.013739",
          "exception": false,
          "start_time": "2024-07-26T10:59:01.926868",
          "status": "completed"
        },
        "tags": []
      },
      "outputs": [
        {
          "data": {
            "text/html": [
              "<div>\n",
              "<style scoped>\n",
              "    .dataframe tbody tr th:only-of-type {\n",
              "        vertical-align: middle;\n",
              "    }\n",
              "\n",
              "    .dataframe tbody tr th {\n",
              "        vertical-align: top;\n",
              "    }\n",
              "\n",
              "    .dataframe thead th {\n",
              "        text-align: right;\n",
              "    }\n",
              "</style>\n",
              "<table border=\"1\" class=\"dataframe\">\n",
              "  <thead>\n",
              "    <tr style=\"text-align: right;\">\n",
              "      <th></th>\n",
              "      <th>passenger_count</th>\n",
              "      <th>distance_km</th>\n",
              "      <th>am_rush</th>\n",
              "      <th>daytime</th>\n",
              "      <th>pm_rush</th>\n",
              "      <th>nighttime</th>\n",
              "      <th>month_aug</th>\n",
              "      <th>month_dec</th>\n",
              "      <th>month_feb</th>\n",
              "      <th>month_jan</th>\n",
              "      <th>...</th>\n",
              "      <th>month_may</th>\n",
              "      <th>month_nov</th>\n",
              "      <th>month_oct</th>\n",
              "      <th>month_sep</th>\n",
              "      <th>day_monday</th>\n",
              "      <th>day_saturday</th>\n",
              "      <th>day_sunday</th>\n",
              "      <th>day_thursday</th>\n",
              "      <th>day_tuesday</th>\n",
              "      <th>day_wednesday</th>\n",
              "    </tr>\n",
              "  </thead>\n",
              "  <tbody>\n",
              "    <tr>\n",
              "      <th>151695</th>\n",
              "      <td>2</td>\n",
              "      <td>3.204652</td>\n",
              "      <td>0</td>\n",
              "      <td>0</td>\n",
              "      <td>0</td>\n",
              "      <td>1</td>\n",
              "      <td>False</td>\n",
              "      <td>False</td>\n",
              "      <td>False</td>\n",
              "      <td>False</td>\n",
              "      <td>...</td>\n",
              "      <td>False</td>\n",
              "      <td>False</td>\n",
              "      <td>False</td>\n",
              "      <td>False</td>\n",
              "      <td>False</td>\n",
              "      <td>False</td>\n",
              "      <td>True</td>\n",
              "      <td>False</td>\n",
              "      <td>False</td>\n",
              "      <td>False</td>\n",
              "    </tr>\n",
              "    <tr>\n",
              "      <th>164471</th>\n",
              "      <td>1</td>\n",
              "      <td>2.371665</td>\n",
              "      <td>0</td>\n",
              "      <td>0</td>\n",
              "      <td>0</td>\n",
              "      <td>1</td>\n",
              "      <td>True</td>\n",
              "      <td>False</td>\n",
              "      <td>False</td>\n",
              "      <td>False</td>\n",
              "      <td>...</td>\n",
              "      <td>False</td>\n",
              "      <td>False</td>\n",
              "      <td>False</td>\n",
              "      <td>False</td>\n",
              "      <td>False</td>\n",
              "      <td>False</td>\n",
              "      <td>False</td>\n",
              "      <td>False</td>\n",
              "      <td>False</td>\n",
              "      <td>True</td>\n",
              "    </tr>\n",
              "    <tr>\n",
              "      <th>99363</th>\n",
              "      <td>2</td>\n",
              "      <td>0.747529</td>\n",
              "      <td>0</td>\n",
              "      <td>1</td>\n",
              "      <td>0</td>\n",
              "      <td>0</td>\n",
              "      <td>False</td>\n",
              "      <td>False</td>\n",
              "      <td>True</td>\n",
              "      <td>False</td>\n",
              "      <td>...</td>\n",
              "      <td>False</td>\n",
              "      <td>False</td>\n",
              "      <td>False</td>\n",
              "      <td>False</td>\n",
              "      <td>False</td>\n",
              "      <td>True</td>\n",
              "      <td>False</td>\n",
              "      <td>False</td>\n",
              "      <td>False</td>\n",
              "      <td>False</td>\n",
              "    </tr>\n",
              "    <tr>\n",
              "      <th>135597</th>\n",
              "      <td>1</td>\n",
              "      <td>1.615625</td>\n",
              "      <td>1</td>\n",
              "      <td>0</td>\n",
              "      <td>0</td>\n",
              "      <td>0</td>\n",
              "      <td>False</td>\n",
              "      <td>False</td>\n",
              "      <td>False</td>\n",
              "      <td>False</td>\n",
              "      <td>...</td>\n",
              "      <td>False</td>\n",
              "      <td>True</td>\n",
              "      <td>False</td>\n",
              "      <td>False</td>\n",
              "      <td>False</td>\n",
              "      <td>False</td>\n",
              "      <td>False</td>\n",
              "      <td>False</td>\n",
              "      <td>False</td>\n",
              "      <td>False</td>\n",
              "    </tr>\n",
              "    <tr>\n",
              "      <th>26267</th>\n",
              "      <td>1</td>\n",
              "      <td>0.531467</td>\n",
              "      <td>0</td>\n",
              "      <td>1</td>\n",
              "      <td>0</td>\n",
              "      <td>0</td>\n",
              "      <td>False</td>\n",
              "      <td>False</td>\n",
              "      <td>False</td>\n",
              "      <td>False</td>\n",
              "      <td>...</td>\n",
              "      <td>True</td>\n",
              "      <td>False</td>\n",
              "      <td>False</td>\n",
              "      <td>False</td>\n",
              "      <td>True</td>\n",
              "      <td>False</td>\n",
              "      <td>False</td>\n",
              "      <td>False</td>\n",
              "      <td>False</td>\n",
              "      <td>False</td>\n",
              "    </tr>\n",
              "  </tbody>\n",
              "</table>\n",
              "<p>5 rows × 23 columns</p>\n",
              "</div>"
            ],
            "text/plain": [
              "        passenger_count  distance_km  am_rush  daytime  pm_rush  nighttime  \\\n",
              "151695                2     3.204652        0        0        0          1   \n",
              "164471                1     2.371665        0        0        0          1   \n",
              "99363                 2     0.747529        0        1        0          0   \n",
              "135597                1     1.615625        1        0        0          0   \n",
              "26267                 1     0.531467        0        1        0          0   \n",
              "\n",
              "        month_aug  month_dec  month_feb  month_jan  ...  month_may  month_nov  \\\n",
              "151695      False      False      False      False  ...      False      False   \n",
              "164471       True      False      False      False  ...      False      False   \n",
              "99363       False      False       True      False  ...      False      False   \n",
              "135597      False      False      False      False  ...      False       True   \n",
              "26267       False      False      False      False  ...       True      False   \n",
              "\n",
              "        month_oct  month_sep  day_monday  day_saturday  day_sunday  \\\n",
              "151695      False      False       False         False        True   \n",
              "164471      False      False       False         False       False   \n",
              "99363       False      False       False          True       False   \n",
              "135597      False      False       False         False       False   \n",
              "26267       False      False        True         False       False   \n",
              "\n",
              "        day_thursday  day_tuesday  day_wednesday  \n",
              "151695         False        False          False  \n",
              "164471         False        False           True  \n",
              "99363          False        False          False  \n",
              "135597         False        False          False  \n",
              "26267          False        False          False  \n",
              "\n",
              "[5 rows x 23 columns]"
            ]
          },
          "execution_count": 106,
          "metadata": {},
          "output_type": "execute_result"
        }
      ],
      "source": [
        "X_test.head()"
      ]
    },
    {
      "cell_type": "code",
      "execution_count": null,
      "id": "1f2c6332",
      "metadata": {
        "colab": {
          "base_uri": "https://localhost:8080/"
        },
        "execution": {
          "iopub.execute_input": "2024-07-26T10:59:02.131372Z",
          "iopub.status.busy": "2024-07-26T10:59:02.130977Z",
          "iopub.status.idle": "2024-07-26T10:59:02.145292Z",
          "shell.execute_reply": "2024-07-26T10:59:02.144115Z"
        },
        "id": "1f2c6332",
        "outputId": "2a042f37-4df4-406b-b85b-0218b0ca242d",
        "papermill": {
          "duration": 0.075818,
          "end_time": "2024-07-26T10:59:02.147500",
          "exception": false,
          "start_time": "2024-07-26T10:59:02.071682",
          "status": "completed"
        },
        "tags": []
      },
      "outputs": [
        {
          "data": {
            "text/plain": [
              "array([10.011554 ,  8.2308655,  5.1420784,  7.3280916,  4.7318716],\n",
              "      dtype=float32)"
            ]
          },
          "execution_count": 107,
          "metadata": {},
          "output_type": "execute_result"
        }
      ],
      "source": [
        "model.predict(X_test.head())\n"
      ]
    },
    {
      "cell_type": "code",
      "execution_count": null,
      "id": "e1bc4d6a",
      "metadata": {
        "colab": {
          "base_uri": "https://localhost:8080/",
          "height": 206
        },
        "execution": {
          "iopub.execute_input": "2024-07-26T10:59:02.266506Z",
          "iopub.status.busy": "2024-07-26T10:59:02.266104Z",
          "iopub.status.idle": "2024-07-26T10:59:02.276422Z",
          "shell.execute_reply": "2024-07-26T10:59:02.275252Z"
        },
        "id": "e1bc4d6a",
        "outputId": "1d065479-746f-4d2f-c4ea-c73bd71a32ea",
        "papermill": {
          "duration": 0.07285,
          "end_time": "2024-07-26T10:59:02.279039",
          "exception": false,
          "start_time": "2024-07-26T10:59:02.206189",
          "status": "completed"
        },
        "tags": []
      },
      "outputs": [
        {
          "data": {
            "text/html": [
              "<div>\n",
              "<style scoped>\n",
              "    .dataframe tbody tr th:only-of-type {\n",
              "        vertical-align: middle;\n",
              "    }\n",
              "\n",
              "    .dataframe tbody tr th {\n",
              "        vertical-align: top;\n",
              "    }\n",
              "\n",
              "    .dataframe thead th {\n",
              "        text-align: right;\n",
              "    }\n",
              "</style>\n",
              "<table border=\"1\" class=\"dataframe\">\n",
              "  <thead>\n",
              "    <tr style=\"text-align: right;\">\n",
              "      <th></th>\n",
              "      <th>fare_amount</th>\n",
              "    </tr>\n",
              "  </thead>\n",
              "  <tbody>\n",
              "    <tr>\n",
              "      <th>151695</th>\n",
              "      <td>9.0</td>\n",
              "    </tr>\n",
              "    <tr>\n",
              "      <th>164471</th>\n",
              "      <td>7.3</td>\n",
              "    </tr>\n",
              "    <tr>\n",
              "      <th>99363</th>\n",
              "      <td>4.1</td>\n",
              "    </tr>\n",
              "    <tr>\n",
              "      <th>135597</th>\n",
              "      <td>8.9</td>\n",
              "    </tr>\n",
              "    <tr>\n",
              "      <th>26267</th>\n",
              "      <td>4.0</td>\n",
              "    </tr>\n",
              "  </tbody>\n",
              "</table>\n",
              "</div>"
            ],
            "text/plain": [
              "        fare_amount\n",
              "151695          9.0\n",
              "164471          7.3\n",
              "99363           4.1\n",
              "135597          8.9\n",
              "26267           4.0"
            ]
          },
          "execution_count": 108,
          "metadata": {},
          "output_type": "execute_result"
        }
      ],
      "source": [
        "y_test.head(5)"
      ]
    }
  ],
  "metadata": {
    "colab": {
      "provenance": []
    },
    "kaggle": {
      "accelerator": "none",
      "dataSources": [
        {
          "datasetId": 1834623,
          "sourceId": 2994100,
          "sourceType": "datasetVersion"
        }
      ],
      "dockerImageVersionId": 30732,
      "isGpuEnabled": false,
      "isInternetEnabled": true,
      "language": "python",
      "sourceType": "notebook"
    },
    "kernelspec": {
      "display_name": "Python 3",
      "language": "python",
      "name": "python3"
    },
    "language_info": {
      "codemirror_mode": {
        "name": "ipython",
        "version": 3
      },
      "file_extension": ".py",
      "mimetype": "text/x-python",
      "name": "python",
      "nbconvert_exporter": "python",
      "pygments_lexer": "ipython3",
      "version": "3.10.14"
    },
    "papermill": {
      "default_parameters": {},
      "duration": 199.991406,
      "end_time": "2024-07-26T10:59:03.281496",
      "environment_variables": {},
      "exception": null,
      "input_path": "__notebook__.ipynb",
      "output_path": "__notebook__.ipynb",
      "parameters": {},
      "start_time": "2024-07-26T10:55:43.290090",
      "version": "2.5.0"
    }
  },
  "nbformat": 4,
  "nbformat_minor": 5
}
